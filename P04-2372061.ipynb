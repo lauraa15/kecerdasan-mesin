{
 "cells": [
  {
   "cell_type": "markdown",
   "id": "982d8123-f453-4650-b3ff-fcec194e5d82",
   "metadata": {
    "id": "982d8123-f453-4650-b3ff-fcec194e5d82"
   },
   "source": [
    "# Menggambar Grafik Precision-Recall & Membangun Powerful Classifier untuk dataset MNIST\n",
    "## NRP : 2372061       \n",
    "## Nama : Laura\n",
    "## Kelas (A/B/C) : C"
   ]
  },
  {
   "cell_type": "markdown",
   "id": "f8c56baa",
   "metadata": {
    "id": "f8c56baa"
   },
   "source": [
    "# <a id=\"home\">Deskripsi Praktikum</a>"
   ]
  },
  {
   "cell_type": "markdown",
   "id": "504a0a32",
   "metadata": {
    "id": "504a0a32"
   },
   "source": [
    "**Bagian pertama** dari praktikum akan menuntun Anda untuk menggambar kurva precision dan recall sedangkan **bagian kedua** akan mengimplementasi satu classifier yang _powerful_ yang akan memperoleh akurasi $97\\%$ pada dataset MNIST.    \n",
    "\n",
    "Bagian pertama akan menggunakan dataset Pima Indian Diabetes dan bagian kedua akan menggunakan dataset MNIST."
   ]
  },
  {
   "cell_type": "markdown",
   "id": "0e4cdd4d",
   "metadata": {
    "id": "0e4cdd4d"
   },
   "source": [
    "## Bagian Pertama"
   ]
  },
  {
   "cell_type": "code",
   "execution_count": null,
   "id": "4ad1169d",
   "metadata": {
    "id": "4ad1169d"
   },
   "outputs": [],
   "source": [
    "import numpy as np\n",
    "from pandas import read_csv\n",
    "from sklearn.model_selection import train_test_split\n",
    "from sklearn.linear_model import LogisticRegression"
   ]
  },
  {
   "cell_type": "code",
   "execution_count": null,
   "id": "3e60e642",
   "metadata": {
    "id": "3e60e642"
   },
   "outputs": [],
   "source": [
    "import matplotlib.pyplot as plt\n",
    "\n",
    "plt.rc('font', size=14)\n",
    "plt.rc('axes', labelsize=14, titlesize=14)\n",
    "plt.rc('legend', fontsize=14)\n",
    "plt.rc('xtick', labelsize=10)\n",
    "plt.rc('ytick', labelsize=10)"
   ]
  },
  {
   "cell_type": "code",
   "execution_count": null,
   "id": "f5af0def",
   "metadata": {
    "id": "f5af0def"
   },
   "outputs": [],
   "source": [
    "from pathlib import Path\n",
    "\n",
    "IMAGES_PATH = Path() / \"images\" / \"classification\"\n",
    "IMAGES_PATH.mkdir(parents=True, exist_ok=True)\n",
    "\n",
    "def save_fig(fig_id, tight_layout=True, fig_extension=\"png\", resolution=300):\n",
    "    path = IMAGES_PATH / f\"{fig_id}.{fig_extension}\"\n",
    "    if tight_layout:\n",
    "        plt.tight_layout()\n",
    "    plt.savefig(path, format=fig_extension, dpi=resolution)"
   ]
  },
  {
   "cell_type": "markdown",
   "id": "d7603c67",
   "metadata": {
    "id": "d7603c67"
   },
   "source": [
    "Buatlah variabel dengan nama `filename` dan isi variabel bertipe `string`, yaitu `pima-indians-diabetes.data.csv`."
   ]
  },
  {
   "cell_type": "code",
   "execution_count": null,
   "id": "489162c2",
   "metadata": {
    "id": "489162c2"
   },
   "outputs": [],
   "source": [
    "filename = \"pima-indians-diabetes.data.csv\""
   ]
  },
  {
   "cell_type": "markdown",
   "id": "b45602dc",
   "metadata": {
    "id": "b45602dc"
   },
   "source": [
    "Buatlah list bernama `names` dengan nilai string, yaitu: `preg`, `plas`, `pres`, `skin`, `test`, `mass`, `pedi`, `age`, dan `class`."
   ]
  },
  {
   "cell_type": "code",
   "execution_count": null,
   "id": "148f9a8c",
   "metadata": {
    "id": "148f9a8c"
   },
   "outputs": [],
   "source": [
    "names = [\"preg\", \"plas\", \"pres\", \"skin\", \"test\", \"mass\", \"pedi\", \"age\", \"class\"]"
   ]
  },
  {
   "cell_type": "markdown",
   "id": "3865cd63",
   "metadata": {
    "id": "3865cd63"
   },
   "source": [
    "Gunakan method `read_csv` dengan parameter: `filename` dan `names` adalah `names`. Simpan hasil `read_csv` dalam variabel `dataframe`."
   ]
  },
  {
   "cell_type": "code",
   "execution_count": null,
   "id": "c92822e3",
   "metadata": {
    "id": "c92822e3"
   },
   "outputs": [],
   "source": [
    "dataframe = read_csv(filename, names=names)"
   ]
  },
  {
   "cell_type": "markdown",
   "id": "214c7cff",
   "metadata": {
    "id": "214c7cff"
   },
   "source": [
    "Simpan semua nilai `dataframe` ke dalam variabel `array`.      \n",
    "\n",
    "**Hint**: gunakan _attribute_ `values` dari `dataframe`."
   ]
  },
  {
   "cell_type": "code",
   "execution_count": null,
   "id": "e7dec0e9",
   "metadata": {
    "id": "e7dec0e9"
   },
   "outputs": [],
   "source": [
    "array = dataframe.values"
   ]
  },
  {
   "cell_type": "markdown",
   "id": "54ea5c8b",
   "metadata": {
    "id": "54ea5c8b"
   },
   "source": [
    "Extract semua baris dan kolom ke-1 s.d. ke-8 ke dalam variabel `X`."
   ]
  },
  {
   "cell_type": "code",
   "execution_count": null,
   "id": "aa51b827",
   "metadata": {
    "id": "aa51b827"
   },
   "outputs": [],
   "source": [
    "X = array[:,:8]"
   ]
  },
  {
   "cell_type": "markdown",
   "id": "fcd7e763",
   "metadata": {
    "id": "fcd7e763"
   },
   "source": [
    "Simpan semua baris dari kolom ke-9 ke dalam variabel `y`."
   ]
  },
  {
   "cell_type": "code",
   "execution_count": null,
   "id": "893b3aeb",
   "metadata": {
    "id": "893b3aeb"
   },
   "outputs": [],
   "source": [
    "y = array[:,8]"
   ]
  },
  {
   "cell_type": "markdown",
   "id": "72b82e60",
   "metadata": {
    "id": "72b82e60"
   },
   "source": [
    "Buatlah variabel yang bernama `seed` dengan nilai `7`."
   ]
  },
  {
   "cell_type": "code",
   "execution_count": null,
   "id": "b188dea7",
   "metadata": {
    "id": "b188dea7"
   },
   "outputs": [],
   "source": [
    "seed = np.random.seed(7)"
   ]
  },
  {
   "cell_type": "markdown",
   "id": "091b5e06",
   "metadata": {
    "id": "091b5e06"
   },
   "source": [
    "\n",
    "## <a id=\"k-fold\">$k$-fold Cross-Validation</a> (Back to [Home](#home))"
   ]
  },
  {
   "cell_type": "code",
   "execution_count": null,
   "id": "ea430447",
   "metadata": {
    "id": "ea430447"
   },
   "outputs": [],
   "source": [
    "from sklearn.model_selection import KFold\n",
    "from sklearn.model_selection import cross_val_score"
   ]
  },
  {
   "cell_type": "markdown",
   "id": "acc51ed9",
   "metadata": {
    "id": "acc51ed9"
   },
   "source": [
    "Buatlah `KFold` dengan parameter `n_splits=10` dan simpan dalam varibel `kfold`."
   ]
  },
  {
   "cell_type": "code",
   "execution_count": null,
   "id": "d698a6bc",
   "metadata": {
    "id": "d698a6bc"
   },
   "outputs": [],
   "source": [
    "kfold = KFold(n_splits=10)"
   ]
  },
  {
   "cell_type": "markdown",
   "id": "d1c33be5",
   "metadata": {
    "id": "d1c33be5"
   },
   "source": [
    "Buatlah `model` yang merupakan model `LogisticRegression` dengan parameter `solver` adalah `liblinear`."
   ]
  },
  {
   "cell_type": "code",
   "execution_count": null,
   "id": "aaebca9f",
   "metadata": {
    "id": "aaebca9f"
   },
   "outputs": [],
   "source": [
    "model = LogisticRegression(solver='liblinear')"
   ]
  },
  {
   "cell_type": "markdown",
   "id": "12a0c72c-bd16-46b6-a09f-b19106d77404",
   "metadata": {
    "id": "12a0c72c-bd16-46b6-a09f-b19106d77404"
   },
   "source": [
    "Hitunglah prediksi kita, yaitu `y_pred` dengan `cross_val_predict`.    \n",
    "Dokumentasi penjelasan `cross_val_predict` dapat Anda baca di [**sini**](https://scikit-learn.org/stable/modules/generated/sklearn.model_selection.cross_val_predict.html)."
   ]
  },
  {
   "cell_type": "code",
   "execution_count": null,
   "id": "abe64ae7",
   "metadata": {
    "id": "abe64ae7"
   },
   "outputs": [],
   "source": [
    "from sklearn.model_selection import cross_val_predict\n",
    "\n",
    "y_pred = cross_val_predict(model, X, y, cv=kfold)"
   ]
  },
  {
   "cell_type": "markdown",
   "id": "360ba7ba-ff32-45ee-b76d-424855944505",
   "metadata": {
    "id": "360ba7ba-ff32-45ee-b76d-424855944505"
   },
   "source": [
    "Buatlah _confusion matrix_ dari hasil prediksi (`y_pred`) dan nilai sebenarnya (`y`)."
   ]
  },
  {
   "cell_type": "code",
   "execution_count": null,
   "id": "ed603fdd",
   "metadata": {
    "id": "ed603fdd"
   },
   "outputs": [],
   "source": [
    "from sklearn.metrics import confusion_matrix\n",
    "\n",
    "cm = confusion_matrix(y, y_pred)"
   ]
  },
  {
   "cell_type": "code",
   "execution_count": null,
   "id": "42fd0c4f-e6da-41e7-9d45-19168f00f858",
   "metadata": {
    "colab": {
     "base_uri": "https://localhost:8080/"
    },
    "executionInfo": {
     "elapsed": 32,
     "status": "ok",
     "timestamp": 1741938468927,
     "user": {
      "displayName": "2372061 Laura Puspa Ameliana",
      "userId": "00688401487854314964"
     },
     "user_tz": -420
    },
    "id": "42fd0c4f-e6da-41e7-9d45-19168f00f858",
    "outputId": "2e80eae6-c6d3-40f2-8d7e-96c11b520bdb"
   },
   "outputs": [
    {
     "data": {
      "text/plain": [
       "array([[446,  54],\n",
       "       [123, 145]])"
      ]
     },
     "execution_count": 35,
     "metadata": {},
     "output_type": "execute_result"
    }
   ],
   "source": [
    "cm"
   ]
  },
  {
   "cell_type": "markdown",
   "id": "0e938ad8-256c-4009-a3b4-af646b73352c",
   "metadata": {
    "id": "0e938ad8-256c-4009-a3b4-af646b73352c"
   },
   "source": [
    "Cobalah hitung _precision_ dari classifier Anda."
   ]
  },
  {
   "cell_type": "code",
   "execution_count": null,
   "id": "789cb70f",
   "metadata": {
    "colab": {
     "base_uri": "https://localhost:8080/"
    },
    "executionInfo": {
     "elapsed": 34,
     "status": "ok",
     "timestamp": 1741938507428,
     "user": {
      "displayName": "2372061 Laura Puspa Ameliana",
      "userId": "00688401487854314964"
     },
     "user_tz": -420
    },
    "id": "789cb70f",
    "outputId": "4e8487e5-15a9-4cc4-abc1-655f032716cd"
   },
   "outputs": [
    {
     "data": {
      "text/plain": [
       "0.7286432160804021"
      ]
     },
     "execution_count": 36,
     "metadata": {},
     "output_type": "execute_result"
    }
   ],
   "source": [
    "from sklearn.metrics import precision_score\n",
    "\n",
    "precision_score(y, y_pred)\n"
   ]
  },
  {
   "cell_type": "markdown",
   "id": "e645a21e-764d-4910-97fa-27ba7911fc7a",
   "metadata": {
    "id": "e645a21e-764d-4910-97fa-27ba7911fc7a"
   },
   "source": [
    "Cobalah hitung _recall_ dari classifier Anda."
   ]
  },
  {
   "cell_type": "code",
   "execution_count": null,
   "id": "013e5160",
   "metadata": {
    "colab": {
     "base_uri": "https://localhost:8080/"
    },
    "executionInfo": {
     "elapsed": 12,
     "status": "ok",
     "timestamp": 1741938532154,
     "user": {
      "displayName": "2372061 Laura Puspa Ameliana",
      "userId": "00688401487854314964"
     },
     "user_tz": -420
    },
    "id": "013e5160",
    "outputId": "480dc503-ca7d-4e1f-82a5-f27884c6f6b4"
   },
   "outputs": [
    {
     "data": {
      "text/plain": [
       "0.5410447761194029"
      ]
     },
     "execution_count": 37,
     "metadata": {},
     "output_type": "execute_result"
    }
   ],
   "source": [
    "from sklearn.metrics import recall_score\n",
    "\n",
    "recall_score(y, y_pred)"
   ]
  },
  {
   "cell_type": "markdown",
   "id": "7838e3ce-d0b7-4e74-8cb5-81b422826d71",
   "metadata": {
    "id": "7838e3ce-d0b7-4e74-8cb5-81b422826d71"
   },
   "source": [
    "### Pertanyaan Refleksi\n",
    "1. Apakah nilai _precision_ lebih besar daripada nilai _recall_? Ataukah sebaliknya?\n",
    "2. Jika nilai _precision_ lebih besar daripada nilai _recall_ atau sebaliknya, apakah artinya?"
   ]
  },
  {
   "cell_type": "markdown",
   "id": "wQ7-Id69oOcC",
   "metadata": {
    "id": "wQ7-Id69oOcC"
   },
   "source": [
    "1. Nilai Precision (0.72) lebih besar dari nilai Recall (0.54)\n",
    "2. Nilai Precision lebih besar berarti nilai False Positive lebih kecil dari False Negatif. Hal ini menandakan bahwa model menganggap False Positif lebih berbahaya."
   ]
  },
  {
   "cell_type": "markdown",
   "id": "fa370554-64e9-45c7-afdd-d101e491f32f",
   "metadata": {
    "id": "fa370554-64e9-45c7-afdd-d101e491f32f"
   },
   "source": [
    "**Jawab**:     \n",
    "  "
   ]
  },
  {
   "cell_type": "markdown",
   "id": "11da065f-5498-4893-ba3a-ecd64f45d7a0",
   "metadata": {
    "id": "11da065f-5498-4893-ba3a-ecd64f45d7a0"
   },
   "source": [
    "Cobalah hitung $F_1$ score dari classifier Anda.      \n",
    "Seharusnya nilai $F_1$ score $\\ge 61 \\%$."
   ]
  },
  {
   "cell_type": "code",
   "execution_count": null,
   "id": "4a0b731d",
   "metadata": {
    "colab": {
     "base_uri": "https://localhost:8080/"
    },
    "executionInfo": {
     "elapsed": 41,
     "status": "ok",
     "timestamp": 1741938820526,
     "user": {
      "displayName": "2372061 Laura Puspa Ameliana",
      "userId": "00688401487854314964"
     },
     "user_tz": -420
    },
    "id": "4a0b731d",
    "outputId": "174cb21b-6dd5-4218-cf33-004c4b4e653b"
   },
   "outputs": [
    {
     "data": {
      "text/plain": [
       "0.6209850107066381"
      ]
     },
     "execution_count": 38,
     "metadata": {},
     "output_type": "execute_result"
    }
   ],
   "source": [
    "from sklearn.metrics import f1_score\n",
    "\n",
    "f1_score(y, y_pred)\n"
   ]
  },
  {
   "cell_type": "markdown",
   "id": "67669c36-65b7-4419-a839-28b1c11a5fdd",
   "metadata": {
    "id": "67669c36-65b7-4419-a839-28b1c11a5fdd"
   },
   "source": [
    "Mari kita hitung `y_scores` yang adalah pemanggilan `cross_val_predict` dengan argumen sbb:  \n",
    "- `model`,\n",
    "- `X`,\n",
    "- `y`,\n",
    "- `cv` adalah `kfold`, dan\n",
    "- `method` adalah `\"decision_function\"`\n",
    "\n",
    "Referensi yang menjelaskan `method`: `predict`, `predict_proba`, dan `decision_function` dapat dibaca di [**sini**](https://medium.com/@preethi_prakash/mastering-machine-learning-predictions-in-scikit-learn-25e86881a70e)."
   ]
  },
  {
   "cell_type": "code",
   "execution_count": null,
   "id": "ecd32c46",
   "metadata": {
    "id": "ecd32c46"
   },
   "outputs": [],
   "source": [
    "y_scores = cross_val_predict(model, X, y, cv=kfold,method=\"decision_function\")"
   ]
  },
  {
   "cell_type": "markdown",
   "id": "3aa73192-dbc8-41e5-8d2a-bd8d6c629c96",
   "metadata": {
    "id": "3aa73192-dbc8-41e5-8d2a-bd8d6c629c96"
   },
   "source": [
    "Mari kita gambar kurva precision vs. recall dengan pertama-tama memanggil `precision_recall_curve` dan argumen sbb:\n",
    "- `y` dan\n",
    "- `y_scores`."
   ]
  },
  {
   "cell_type": "code",
   "execution_count": null,
   "id": "fdb55130",
   "metadata": {
    "id": "fdb55130"
   },
   "outputs": [],
   "source": [
    "from sklearn.metrics import precision_recall_curve\n",
    "\n",
    "threshold = 0\n",
    "\n",
    "precisions, recalls, thresholds = precision_recall_curve(y, y_scores)"
   ]
  },
  {
   "cell_type": "markdown",
   "id": "c8cd606e-a25f-4e3d-980c-42c86d8ef4f7",
   "metadata": {
    "id": "c8cd606e-a25f-4e3d-980c-42c86d8ef4f7"
   },
   "source": [
    "Berikut grafik precision & recall versus the decision threshold."
   ]
  },
  {
   "cell_type": "code",
   "execution_count": null,
   "id": "654eabd8",
   "metadata": {
    "colab": {
     "base_uri": "https://localhost:8080/",
     "height": 395
    },
    "executionInfo": {
     "elapsed": 649,
     "status": "ok",
     "timestamp": 1741938990309,
     "user": {
      "displayName": "2372061 Laura Puspa Ameliana",
      "userId": "00688401487854314964"
     },
     "user_tz": -420
    },
    "id": "654eabd8",
    "outputId": "3c7a177c-d9fc-49d0-d467-0e62b72f74ad"
   },
   "outputs": [
    {
     "data": {
      "image/png": "[encoded data removed]",
      "text/plain": [
       "<Figure size 800x400 with 1 Axes>"
      ]
     },
     "metadata": {},
     "output_type": "display_data"
    }
   ],
   "source": [
    "#################################\n",
    "# DO NOT CHANGE THE CODE BELOW\n",
    "#################################\n",
    "plt.figure(figsize=(8, 4))  # extra code – it's not needed, just formatting\n",
    "plt.plot(thresholds, precisions[:-1], \"b--\", label=\"Precision\", linewidth=2)\n",
    "plt.plot(thresholds, recalls[:-1], \"g-\", label=\"Recall\", linewidth=2)\n",
    "plt.vlines(threshold, 0, 1.0, \"k\", \"dotted\", label=\"threshold\")\n",
    "\n",
    "# extra code – this section just beautifies and saves Figure 3–5\n",
    "idx = (thresholds >= threshold).argmax()  # first index ≥ threshold\n",
    "plt.plot(thresholds[idx], precisions[idx], \"bo\")\n",
    "plt.plot(thresholds[idx], recalls[idx], \"go\")\n",
    "plt.axis([-6, 6, 0, 1])\n",
    "plt.grid()\n",
    "plt.xlabel(\"Threshold\")\n",
    "plt.legend(loc=\"center right\")\n",
    "save_fig(\"precision_recall_vs_threshold_plot\")\n",
    "\n",
    "plt.show()"
   ]
  },
  {
   "cell_type": "markdown",
   "id": "d87f5b1f-750e-4e87-9764-fd31dac2df0e",
   "metadata": {
    "id": "d87f5b1f-750e-4e87-9764-fd31dac2df0e"
   },
   "source": [
    "Selanjutnya, kita gambar kurva precision vs. recall."
   ]
  },
  {
   "cell_type": "code",
   "execution_count": null,
   "id": "c8e274ea",
   "metadata": {
    "colab": {
     "base_uri": "https://localhost:8080/",
     "height": 494
    },
    "executionInfo": {
     "elapsed": 541,
     "status": "ok",
     "timestamp": 1741939018771,
     "user": {
      "displayName": "2372061 Laura Puspa Ameliana",
      "userId": "00688401487854314964"
     },
     "user_tz": -420
    },
    "id": "c8e274ea",
    "outputId": "344dbcee-0b7c-4068-9ac2-d83dd2b3de15"
   },
   "outputs": [
    {
     "data": {
      "image/png": "[encoded data removed]",
      "text/plain": [
       "<Figure size 600x500 with 1 Axes>"
      ]
     },
     "metadata": {},
     "output_type": "display_data"
    }
   ],
   "source": [
    "#################################\n",
    "# DO NOT CHANGE THE CODE BELOW\n",
    "#################################\n",
    "import matplotlib.patches as patches  # extra code – for the curved arrow\n",
    "\n",
    "plt.figure(figsize=(6, 5))  # extra code – not needed, just formatting\n",
    "\n",
    "plt.plot(recalls, precisions, linewidth=2, label=\"Precision/Recall curve\")\n",
    "\n",
    "# extra code – just beautifies and saves Figure 3–6\n",
    "plt.plot([recalls[idx], recalls[idx]], [0., precisions[idx]], \"k:\")\n",
    "plt.plot([0.0, recalls[idx]], [precisions[idx], precisions[idx]], \"k:\")\n",
    "plt.plot([recalls[idx]], [precisions[idx]], \"ko\",\n",
    "         label=\"Point at threshold 0\")\n",
    "# plt.gca().add_patch(patches.FancyArrowPatch(\n",
    "#     (0.79, 0.60), (0.61, 0.78),\n",
    "#     connectionstyle=\"arc3,rad=.2\",\n",
    "#     arrowstyle=\"Simple, tail_width=1.5, head_width=8, head_length=10\",\n",
    "#     color=\"#444444\"))\n",
    "# plt.text(0.56, 0.62, \"Higher\\nthreshold\", color=\"#333333\")\n",
    "plt.xlabel(\"Recall\")\n",
    "plt.ylabel(\"Precision\")\n",
    "plt.axis([0, 1, 0, 1])\n",
    "plt.grid()\n",
    "plt.legend(loc=\"lower left\")\n",
    "save_fig(\"precision_vs_recall_plot\")\n",
    "\n",
    "plt.show()"
   ]
  },
  {
   "cell_type": "markdown",
   "id": "a40c0407-245b-4e5f-8d6b-786fb5db6b14",
   "metadata": {
    "id": "a40c0407-245b-4e5f-8d6b-786fb5db6b14"
   },
   "source": [
    "Selanjutnya, kita coba menghitung ROC _Area Under Curve_ (AUC)"
   ]
  },
  {
   "cell_type": "code",
   "execution_count": null,
   "id": "72da7e2a-fa97-4583-ac24-d2e91ef800ec",
   "metadata": {
    "colab": {
     "base_uri": "https://localhost:8080/"
    },
    "executionInfo": {
     "elapsed": 55,
     "status": "ok",
     "timestamp": 1741939065310,
     "user": {
      "displayName": "2372061 Laura Puspa Ameliana",
      "userId": "00688401487854314964"
     },
     "user_tz": -420
    },
    "id": "72da7e2a-fa97-4583-ac24-d2e91ef800ec",
    "outputId": "29da526f-421a-49bf-a977-e0cb12507ecf"
   },
   "outputs": [
    {
     "data": {
      "text/plain": [
       "0.8246194029850746"
      ]
     },
     "execution_count": 44,
     "metadata": {},
     "output_type": "execute_result"
    }
   ],
   "source": [
    "from sklearn.metrics import roc_auc_score\n",
    "\n",
    "roc_auc_score(y, y_scores)"
   ]
  },
  {
   "cell_type": "markdown",
   "id": "ec700123-703c-487e-9dbd-3b0687267dd9",
   "metadata": {
    "id": "ec700123-703c-487e-9dbd-3b0687267dd9"
   },
   "source": [
    "Kita akan mencoba classifier yang lain, yaitu `RandomForestClassifier`.      \n",
    "Gunakan `random_state` yang bernilai `42` sebagai argumen."
   ]
  },
  {
   "cell_type": "code",
   "execution_count": null,
   "id": "581ab8e6",
   "metadata": {
    "id": "581ab8e6"
   },
   "outputs": [],
   "source": [
    "from sklearn.ensemble import RandomForestClassifier\n",
    "\n",
    "\n",
    "forest_clf = RandomForestClassifier(random_state=42)"
   ]
  },
  {
   "cell_type": "markdown",
   "id": "02b5f424-70f1-4592-ab01-dff0a8d2e257",
   "metadata": {
    "id": "02b5f424-70f1-4592-ab01-dff0a8d2e257"
   },
   "source": [
    "Kembali kita gunakan `cross_val_predict` sama seperti ketika kita menggunakan LogisticRegression tetapi kali ini `method`-nya adalah `predict_proba`."
   ]
  },
  {
   "cell_type": "code",
   "execution_count": null,
   "id": "c82be224",
   "metadata": {
    "id": "c82be224"
   },
   "outputs": [],
   "source": [
    "y_probas_forest = cross_val_predict(forest_clf, X,y, cv=kfold,\n",
    " method=\"predict_proba\")"
   ]
  },
  {
   "cell_type": "markdown",
   "id": "ffd97ede-0e13-4c62-b70e-81106d81598c",
   "metadata": {
    "id": "ffd97ede-0e13-4c62-b70e-81106d81598c"
   },
   "source": [
    "Mari kita ambil `score` hasil prediksi dan kita simpan di `y_scores_forest` kemudian kita panggil `precision_recall_curve`."
   ]
  },
  {
   "cell_type": "code",
   "execution_count": null,
   "id": "c637957e",
   "metadata": {
    "id": "c637957e"
   },
   "outputs": [],
   "source": [
    "y_scores_forest = y_probas_forest[:, 1]\n",
    "\n",
    "precisions_forest, recalls_forest, thresholds_forest = precision_recall_curve(y, y_scores_forest)"
   ]
  },
  {
   "cell_type": "code",
   "execution_count": null,
   "id": "e408b76d",
   "metadata": {
    "colab": {
     "base_uri": "https://localhost:8080/",
     "height": 494
    },
    "executionInfo": {
     "elapsed": 482,
     "status": "ok",
     "timestamp": 1741939302978,
     "user": {
      "displayName": "2372061 Laura Puspa Ameliana",
      "userId": "00688401487854314964"
     },
     "user_tz": -420
    },
    "id": "e408b76d",
    "outputId": "860057de-7ddb-4ce7-e03d-066918253a40"
   },
   "outputs": [
    {
     "data": {
      "image/png": "[encoded data removed]",
      "text/plain": [
       "<Figure size 600x500 with 1 Axes>"
      ]
     },
     "metadata": {},
     "output_type": "display_data"
    }
   ],
   "source": [
    "#################################\n",
    "# DO NOT CHANGE THE CODE BELOW\n",
    "#################################\n",
    "plt.figure(figsize=(6, 5))  # extra code – not needed, just formatting\n",
    "\n",
    "plt.plot(recalls_forest, precisions_forest, \"b-\", linewidth=2,\n",
    "         label=\"Random Forest\")\n",
    "plt.plot(recalls, precisions, \"--\", linewidth=2, label=\"SGD\")\n",
    "\n",
    "# extra code – just beautifies and saves Figure 3–8\n",
    "plt.xlabel(\"Recall\")\n",
    "plt.ylabel(\"Precision\")\n",
    "plt.axis([0, 1, 0, 1])\n",
    "plt.grid()\n",
    "plt.legend(loc=\"lower left\")\n",
    "save_fig(\"pr_curve_comparison_plot\")\n",
    "\n",
    "plt.show()"
   ]
  },
  {
   "cell_type": "markdown",
   "id": "7f12006d-5359-4bf5-be3e-a540306d60bd",
   "metadata": {
    "id": "7f12006d-5359-4bf5-be3e-a540306d60bd"
   },
   "source": [
    "Selanjutnya, kita coba menghitung ROC _Area Under Curve_ (AUC) dari Random Forest classifier ini."
   ]
  },
  {
   "cell_type": "code",
   "execution_count": null,
   "id": "2945d25f",
   "metadata": {
    "colab": {
     "base_uri": "https://localhost:8080/"
    },
    "executionInfo": {
     "elapsed": 66,
     "status": "ok",
     "timestamp": 1741939412176,
     "user": {
      "displayName": "2372061 Laura Puspa Ameliana",
      "userId": "00688401487854314964"
     },
     "user_tz": -420
    },
    "id": "2945d25f",
    "outputId": "f49f210f-4511-41ed-b43f-4efdda1356a9"
   },
   "outputs": [
    {
     "data": {
      "text/plain": [
       "0.823"
      ]
     },
     "execution_count": 51,
     "metadata": {},
     "output_type": "execute_result"
    }
   ],
   "source": [
    "from sklearn.metrics import roc_auc_score\n",
    "\n",
    "roc_auc_score(y, y_scores_forest)"
   ]
  },
  {
   "cell_type": "markdown",
   "id": "4e91e409-a1de-481c-a15b-c3468c10c4f7",
   "metadata": {
    "id": "4e91e409-a1de-481c-a15b-c3468c10c4f7"
   },
   "source": [
    "### Pertanyaan Refleksi\n",
    "- Menurut pendapat Anda, bagaimana perbandingan _performance_ antara Logistic Regression dengan Random Forest?"
   ]
  },
  {
   "cell_type": "markdown",
   "id": "f76b9f28-71b6-4ff8-afbb-b7e78bdb23c9",
   "metadata": {
    "id": "f76b9f28-71b6-4ff8-afbb-b7e78bdb23c9"
   },
   "source": [
    "**Jawab**:     \n",
    "\n",
    "\n",
    "Dalam performance Logistic Regression memiliki awal yang tinggi namun Random Forest memiliki awal yang tajam ke bawah baru naik lagi. Overall performance LogRes lebih tinggi dari RandForest walau akhirnya sama (dengan recall lebih tinggi) yaitu dibawah 0.4 jika"
   ]
  },
  {
   "cell_type": "markdown",
   "id": "8c2ffb00-305e-4b46-91a9-a52e8a8705a5",
   "metadata": {
    "id": "8c2ffb00-305e-4b46-91a9-a52e8a8705a5"
   },
   "source": [
    "## Bagian Kedua\n",
    "Kita akan mencoba membuat _classifier_ untuk dataset MNIST yang akan mencapai lebih dari 97% akurasi pada test set.    \n",
    "**Petunjuk**: `KNeighborsClassifier` akan _perform_ cukup baik untuk task ini; Anda hanya perlu menemukan nilai hyperparameter yang terbaik (coba gunakan _grid search) pada hyperparameter `weights` dan `n_neighbors`)."
   ]
  },
  {
   "cell_type": "markdown",
   "id": "7cc0b16a-8fd7-40d9-88a7-139247455810",
   "metadata": {
    "id": "7cc0b16a-8fd7-40d9-88a7-139247455810"
   },
   "source": [
    "Mari kita load dataset MNIST."
   ]
  },
  {
   "cell_type": "code",
   "execution_count": null,
   "id": "89debb00-7ac8-46a5-b744-cb53eceb724d",
   "metadata": {
    "id": "89debb00-7ac8-46a5-b744-cb53eceb724d"
   },
   "outputs": [],
   "source": [
    "#################################\n",
    "# DO NOT CHANGE THE CODE BELOW\n",
    "#################################\n",
    "from sklearn.datasets import fetch_openml\n",
    "\n",
    "mnist = fetch_openml('mnist_784', as_frame=False)"
   ]
  },
  {
   "cell_type": "markdown",
   "id": "397cb9d0-0757-4392-8322-42b7a89ef578",
   "metadata": {
    "id": "397cb9d0-0757-4392-8322-42b7a89ef578"
   },
   "source": [
    "Kita siapkan `X` dan `y`-nya."
   ]
  },
  {
   "cell_type": "code",
   "execution_count": null,
   "id": "6dc9d4b9-f5ab-4a7e-9cdf-6efdfa4de4c1",
   "metadata": {
    "id": "6dc9d4b9-f5ab-4a7e-9cdf-6efdfa4de4c1"
   },
   "outputs": [],
   "source": [
    "#################################\n",
    "# DO NOT CHANGE THE CODE BELOW\n",
    "#################################\n",
    "X, y = mnist.data, mnist.target"
   ]
  },
  {
   "cell_type": "markdown",
   "id": "bc3a6028-f63f-4a57-bbb2-5ea6ecd1e786",
   "metadata": {
    "id": "bc3a6028-f63f-4a57-bbb2-5ea6ecd1e786"
   },
   "source": [
    "Mari kita bagi `X` dan `y` menjadi 60000 gambar untuk train set dan 10000 untuk test set."
   ]
  },
  {
   "cell_type": "code",
   "execution_count": null,
   "id": "3bab97ae-9bad-40db-beab-cbf6728ba86e",
   "metadata": {
    "id": "3bab97ae-9bad-40db-beab-cbf6728ba86e"
   },
   "outputs": [],
   "source": [
    "X_train, X_test, y_train, y_test = X[:60000], X[60000:], y[:60000], y[60000:]"
   ]
  },
  {
   "cell_type": "markdown",
   "id": "b95a7740-6005-460e-be6e-6474c5640664",
   "metadata": {
    "id": "b95a7740-6005-460e-be6e-6474c5640664"
   },
   "source": [
    "Kita import classifier yang bernama $k$-_nearest neigbors_ (knn)."
   ]
  },
  {
   "cell_type": "code",
   "execution_count": null,
   "id": "7b57a8d8-bc7f-4ead-81aa-46b6947b052e",
   "metadata": {
    "id": "7b57a8d8-bc7f-4ead-81aa-46b6947b052e"
   },
   "outputs": [],
   "source": [
    "#################################\n",
    "# DO NOT CHANGE THE CODE BELOW\n",
    "#################################\n",
    "from sklearn.neighbors import KNeighborsClassifier"
   ]
  },
  {
   "cell_type": "markdown",
   "id": "39d5defc-864b-45bd-858a-638cca4dff90",
   "metadata": {
    "id": "39d5defc-864b-45bd-858a-638cca4dff90"
   },
   "source": [
    "Kita buat classifier dari kelas `KNeighborsClassifier`."
   ]
  },
  {
   "cell_type": "code",
   "execution_count": null,
   "id": "74147594-e3b2-4183-a875-4a18709c9420",
   "metadata": {
    "id": "74147594-e3b2-4183-a875-4a18709c9420"
   },
   "outputs": [],
   "source": [
    "knn_clf = KNeighborsClassifier()"
   ]
  },
  {
   "cell_type": "markdown",
   "id": "98bb66ad-5e5c-42c5-9ea5-e3a89ba4dbfa",
   "metadata": {
    "id": "98bb66ad-5e5c-42c5-9ea5-e3a89ba4dbfa"
   },
   "source": [
    "Kita _train_ `knn_clf` pada `X_train` dan `y_train`."
   ]
  },
  {
   "cell_type": "code",
   "execution_count": null,
   "id": "f382c385-a650-413b-b1cb-821e87b5dafa",
   "metadata": {
    "colab": {
     "base_uri": "https://localhost:8080/",
     "height": 80
    },
    "executionInfo": {
     "elapsed": 257,
     "status": "ok",
     "timestamp": 1741940188160,
     "user": {
      "displayName": "2372061 Laura Puspa Ameliana",
      "userId": "00688401487854314964"
     },
     "user_tz": -420
    },
    "id": "f382c385-a650-413b-b1cb-821e87b5dafa",
    "outputId": "0f1c1647-9ee6-4fc1-9787-8e063cd1c1c2"
   },
   "outputs": [
    {
     "data": {
      "text/html": [
       "<style>#sk-container-id-2 {\n",
       "  /* Definition of color scheme common for light and dark mode */\n",
       "  --sklearn-color-text: #000;\n",
       "  --sklearn-color-text-muted: #666;\n",
       "  --sklearn-color-line: gray;\n",
       "  /* Definition of color scheme for unfitted estimators */\n",
       "  --sklearn-color-unfitted-level-0: #fff5e6;\n",
       "  --sklearn-color-unfitted-level-1: #f6e4d2;\n",
       "  --sklearn-color-unfitted-level-2: #ffe0b3;\n",
       "  --sklearn-color-unfitted-level-3: chocolate;\n",
       "  /* Definition of color scheme for fitted estimators */\n",
       "  --sklearn-color-fitted-level-0: #f0f8ff;\n",
       "  --sklearn-color-fitted-level-1: #d4ebff;\n",
       "  --sklearn-color-fitted-level-2: #b3dbfd;\n",
       "  --sklearn-color-fitted-level-3: cornflowerblue;\n",
       "\n",
       "  /* Specific color for light theme */\n",
       "  --sklearn-color-text-on-default-background: var(--sg-text-color, var(--theme-code-foreground, var(--jp-content-font-color1, black)));\n",
       "  --sklearn-color-background: var(--sg-background-color, var(--theme-background, var(--jp-layout-color0, white)));\n",
       "  --sklearn-color-border-box: var(--sg-text-color, var(--theme-code-foreground, var(--jp-content-font-color1, black)));\n",
       "  --sklearn-color-icon: #696969;\n",
       "\n",
       "  @media (prefers-color-scheme: dark) {\n",
       "    /* Redefinition of color scheme for dark theme */\n",
       "    --sklearn-color-text-on-default-background: var(--sg-text-color, var(--theme-code-foreground, var(--jp-content-font-color1, white)));\n",
       "    --sklearn-color-background: var(--sg-background-color, var(--theme-background, var(--jp-layout-color0, #111)));\n",
       "    --sklearn-color-border-box: var(--sg-text-color, var(--theme-code-foreground, var(--jp-content-font-color1, white)));\n",
       "    --sklearn-color-icon: #878787;\n",
       "  }\n",
       "}\n",
       "\n",
       "#sk-container-id-2 {\n",
       "  color: var(--sklearn-color-text);\n",
       "}\n",
       "\n",
       "#sk-container-id-2 pre {\n",
       "  padding: 0;\n",
       "}\n",
       "\n",
       "#sk-container-id-2 input.sk-hidden--visually {\n",
       "  border: 0;\n",
       "  clip: rect(1px 1px 1px 1px);\n",
       "  clip: rect(1px, 1px, 1px, 1px);\n",
       "  height: 1px;\n",
       "  margin: -1px;\n",
       "  overflow: hidden;\n",
       "  padding: 0;\n",
       "  position: absolute;\n",
       "  width: 1px;\n",
       "}\n",
       "\n",
       "#sk-container-id-2 div.sk-dashed-wrapped {\n",
       "  border: 1px dashed var(--sklearn-color-line);\n",
       "  margin: 0 0.4em 0.5em 0.4em;\n",
       "  box-sizing: border-box;\n",
       "  padding-bottom: 0.4em;\n",
       "  background-color: var(--sklearn-color-background);\n",
       "}\n",
       "\n",
       "#sk-container-id-2 div.sk-container {\n",
       "  /* jupyter's `normalize.less` sets `[hidden] { display: none; }`\n",
       "     but bootstrap.min.css set `[hidden] { display: none !important; }`\n",
       "     so we also need the `!important` here to be able to override the\n",
       "     default hidden behavior on the sphinx rendered scikit-learn.org.\n",
       "     See: https://github.com/scikit-learn/scikit-learn/issues/21755 */\n",
       "  display: inline-block !important;\n",
       "  position: relative;\n",
       "}\n",
       "\n",
       "#sk-container-id-2 div.sk-text-repr-fallback {\n",
       "  display: none;\n",
       "}\n",
       "\n",
       "div.sk-parallel-item,\n",
       "div.sk-serial,\n",
       "div.sk-item {\n",
       "  /* draw centered vertical line to link estimators */\n",
       "  background-image: linear-gradient(var(--sklearn-color-text-on-default-background), var(--sklearn-color-text-on-default-background));\n",
       "  background-size: 2px 100%;\n",
       "  background-repeat: no-repeat;\n",
       "  background-position: center center;\n",
       "}\n",
       "\n",
       "/* Parallel-specific style estimator block */\n",
       "\n",
       "#sk-container-id-2 div.sk-parallel-item::after {\n",
       "  content: \"\";\n",
       "  width: 100%;\n",
       "  border-bottom: 2px solid var(--sklearn-color-text-on-default-background);\n",
       "  flex-grow: 1;\n",
       "}\n",
       "\n",
       "#sk-container-id-2 div.sk-parallel {\n",
       "  display: flex;\n",
       "  align-items: stretch;\n",
       "  justify-content: center;\n",
       "  background-color: var(--sklearn-color-background);\n",
       "  position: relative;\n",
       "}\n",
       "\n",
       "#sk-container-id-2 div.sk-parallel-item {\n",
       "  display: flex;\n",
       "  flex-direction: column;\n",
       "}\n",
       "\n",
       "#sk-container-id-2 div.sk-parallel-item:first-child::after {\n",
       "  align-self: flex-end;\n",
       "  width: 50%;\n",
       "}\n",
       "\n",
       "#sk-container-id-2 div.sk-parallel-item:last-child::after {\n",
       "  align-self: flex-start;\n",
       "  width: 50%;\n",
       "}\n",
       "\n",
       "#sk-container-id-2 div.sk-parallel-item:only-child::after {\n",
       "  width: 0;\n",
       "}\n",
       "\n",
       "/* Serial-specific style estimator block */\n",
       "\n",
       "#sk-container-id-2 div.sk-serial {\n",
       "  display: flex;\n",
       "  flex-direction: column;\n",
       "  align-items: center;\n",
       "  background-color: var(--sklearn-color-background);\n",
       "  padding-right: 1em;\n",
       "  padding-left: 1em;\n",
       "}\n",
       "\n",
       "\n",
       "/* Toggleable style: style used for estimator/Pipeline/ColumnTransformer box that is\n",
       "clickable and can be expanded/collapsed.\n",
       "- Pipeline and ColumnTransformer use this feature and define the default style\n",
       "- Estimators will overwrite some part of the style using the `sk-estimator` class\n",
       "*/\n",
       "\n",
       "/* Pipeline and ColumnTransformer style (default) */\n",
       "\n",
       "#sk-container-id-2 div.sk-toggleable {\n",
       "  /* Default theme specific background. It is overwritten whether we have a\n",
       "  specific estimator or a Pipeline/ColumnTransformer */\n",
       "  background-color: var(--sklearn-color-background);\n",
       "}\n",
       "\n",
       "/* Toggleable label */\n",
       "#sk-container-id-2 label.sk-toggleable__label {\n",
       "  cursor: pointer;\n",
       "  display: flex;\n",
       "  width: 100%;\n",
       "  margin-bottom: 0;\n",
       "  padding: 0.5em;\n",
       "  box-sizing: border-box;\n",
       "  text-align: center;\n",
       "  align-items: start;\n",
       "  justify-content: space-between;\n",
       "  gap: 0.5em;\n",
       "}\n",
       "\n",
       "#sk-container-id-2 label.sk-toggleable__label .caption {\n",
       "  font-size: 0.6rem;\n",
       "  font-weight: lighter;\n",
       "  color: var(--sklearn-color-text-muted);\n",
       "}\n",
       "\n",
       "#sk-container-id-2 label.sk-toggleable__label-arrow:before {\n",
       "  /* Arrow on the left of the label */\n",
       "  content: \"▸\";\n",
       "  float: left;\n",
       "  margin-right: 0.25em;\n",
       "  color: var(--sklearn-color-icon);\n",
       "}\n",
       "\n",
       "#sk-container-id-2 label.sk-toggleable__label-arrow:hover:before {\n",
       "  color: var(--sklearn-color-text);\n",
       "}\n",
       "\n",
       "/* Toggleable content - dropdown */\n",
       "\n",
       "#sk-container-id-2 div.sk-toggleable__content {\n",
       "  max-height: 0;\n",
       "  max-width: 0;\n",
       "  overflow: hidden;\n",
       "  text-align: left;\n",
       "  /* unfitted */\n",
       "  background-color: var(--sklearn-color-unfitted-level-0);\n",
       "}\n",
       "\n",
       "#sk-container-id-2 div.sk-toggleable__content.fitted {\n",
       "  /* fitted */\n",
       "  background-color: var(--sklearn-color-fitted-level-0);\n",
       "}\n",
       "\n",
       "#sk-container-id-2 div.sk-toggleable__content pre {\n",
       "  margin: 0.2em;\n",
       "  border-radius: 0.25em;\n",
       "  color: var(--sklearn-color-text);\n",
       "  /* unfitted */\n",
       "  background-color: var(--sklearn-color-unfitted-level-0);\n",
       "}\n",
       "\n",
       "#sk-container-id-2 div.sk-toggleable__content.fitted pre {\n",
       "  /* unfitted */\n",
       "  background-color: var(--sklearn-color-fitted-level-0);\n",
       "}\n",
       "\n",
       "#sk-container-id-2 input.sk-toggleable__control:checked~div.sk-toggleable__content {\n",
       "  /* Expand drop-down */\n",
       "  max-height: 200px;\n",
       "  max-width: 100%;\n",
       "  overflow: auto;\n",
       "}\n",
       "\n",
       "#sk-container-id-2 input.sk-toggleable__control:checked~label.sk-toggleable__label-arrow:before {\n",
       "  content: \"▾\";\n",
       "}\n",
       "\n",
       "/* Pipeline/ColumnTransformer-specific style */\n",
       "\n",
       "#sk-container-id-2 div.sk-label input.sk-toggleable__control:checked~label.sk-toggleable__label {\n",
       "  color: var(--sklearn-color-text);\n",
       "  background-color: var(--sklearn-color-unfitted-level-2);\n",
       "}\n",
       "\n",
       "#sk-container-id-2 div.sk-label.fitted input.sk-toggleable__control:checked~label.sk-toggleable__label {\n",
       "  background-color: var(--sklearn-color-fitted-level-2);\n",
       "}\n",
       "\n",
       "/* Estimator-specific style */\n",
       "\n",
       "/* Colorize estimator box */\n",
       "#sk-container-id-2 div.sk-estimator input.sk-toggleable__control:checked~label.sk-toggleable__label {\n",
       "  /* unfitted */\n",
       "  background-color: var(--sklearn-color-unfitted-level-2);\n",
       "}\n",
       "\n",
       "#sk-container-id-2 div.sk-estimator.fitted input.sk-toggleable__control:checked~label.sk-toggleable__label {\n",
       "  /* fitted */\n",
       "  background-color: var(--sklearn-color-fitted-level-2);\n",
       "}\n",
       "\n",
       "#sk-container-id-2 div.sk-label label.sk-toggleable__label,\n",
       "#sk-container-id-2 div.sk-label label {\n",
       "  /* The background is the default theme color */\n",
       "  color: var(--sklearn-color-text-on-default-background);\n",
       "}\n",
       "\n",
       "/* On hover, darken the color of the background */\n",
       "#sk-container-id-2 div.sk-label:hover label.sk-toggleable__label {\n",
       "  color: var(--sklearn-color-text);\n",
       "  background-color: var(--sklearn-color-unfitted-level-2);\n",
       "}\n",
       "\n",
       "/* Label box, darken color on hover, fitted */\n",
       "#sk-container-id-2 div.sk-label.fitted:hover label.sk-toggleable__label.fitted {\n",
       "  color: var(--sklearn-color-text);\n",
       "  background-color: var(--sklearn-color-fitted-level-2);\n",
       "}\n",
       "\n",
       "/* Estimator label */\n",
       "\n",
       "#sk-container-id-2 div.sk-label label {\n",
       "  font-family: monospace;\n",
       "  font-weight: bold;\n",
       "  display: inline-block;\n",
       "  line-height: 1.2em;\n",
       "}\n",
       "\n",
       "#sk-container-id-2 div.sk-label-container {\n",
       "  text-align: center;\n",
       "}\n",
       "\n",
       "/* Estimator-specific */\n",
       "#sk-container-id-2 div.sk-estimator {\n",
       "  font-family: monospace;\n",
       "  border: 1px dotted var(--sklearn-color-border-box);\n",
       "  border-radius: 0.25em;\n",
       "  box-sizing: border-box;\n",
       "  margin-bottom: 0.5em;\n",
       "  /* unfitted */\n",
       "  background-color: var(--sklearn-color-unfitted-level-0);\n",
       "}\n",
       "\n",
       "#sk-container-id-2 div.sk-estimator.fitted {\n",
       "  /* fitted */\n",
       "  background-color: var(--sklearn-color-fitted-level-0);\n",
       "}\n",
       "\n",
       "/* on hover */\n",
       "#sk-container-id-2 div.sk-estimator:hover {\n",
       "  /* unfitted */\n",
       "  background-color: var(--sklearn-color-unfitted-level-2);\n",
       "}\n",
       "\n",
       "#sk-container-id-2 div.sk-estimator.fitted:hover {\n",
       "  /* fitted */\n",
       "  background-color: var(--sklearn-color-fitted-level-2);\n",
       "}\n",
       "\n",
       "/* Specification for estimator info (e.g. \"i\" and \"?\") */\n",
       "\n",
       "/* Common style for \"i\" and \"?\" */\n",
       "\n",
       ".sk-estimator-doc-link,\n",
       "a:link.sk-estimator-doc-link,\n",
       "a:visited.sk-estimator-doc-link {\n",
       "  float: right;\n",
       "  font-size: smaller;\n",
       "  line-height: 1em;\n",
       "  font-family: monospace;\n",
       "  background-color: var(--sklearn-color-background);\n",
       "  border-radius: 1em;\n",
       "  height: 1em;\n",
       "  width: 1em;\n",
       "  text-decoration: none !important;\n",
       "  margin-left: 0.5em;\n",
       "  text-align: center;\n",
       "  /* unfitted */\n",
       "  border: var(--sklearn-color-unfitted-level-1) 1pt solid;\n",
       "  color: var(--sklearn-color-unfitted-level-1);\n",
       "}\n",
       "\n",
       ".sk-estimator-doc-link.fitted,\n",
       "a:link.sk-estimator-doc-link.fitted,\n",
       "a:visited.sk-estimator-doc-link.fitted {\n",
       "  /* fitted */\n",
       "  border: var(--sklearn-color-fitted-level-1) 1pt solid;\n",
       "  color: var(--sklearn-color-fitted-level-1);\n",
       "}\n",
       "\n",
       "/* On hover */\n",
       "div.sk-estimator:hover .sk-estimator-doc-link:hover,\n",
       ".sk-estimator-doc-link:hover,\n",
       "div.sk-label-container:hover .sk-estimator-doc-link:hover,\n",
       ".sk-estimator-doc-link:hover {\n",
       "  /* unfitted */\n",
       "  background-color: var(--sklearn-color-unfitted-level-3);\n",
       "  color: var(--sklearn-color-background);\n",
       "  text-decoration: none;\n",
       "}\n",
       "\n",
       "div.sk-estimator.fitted:hover .sk-estimator-doc-link.fitted:hover,\n",
       ".sk-estimator-doc-link.fitted:hover,\n",
       "div.sk-label-container:hover .sk-estimator-doc-link.fitted:hover,\n",
       ".sk-estimator-doc-link.fitted:hover {\n",
       "  /* fitted */\n",
       "  background-color: var(--sklearn-color-fitted-level-3);\n",
       "  color: var(--sklearn-color-background);\n",
       "  text-decoration: none;\n",
       "}\n",
       "\n",
       "/* Span, style for the box shown on hovering the info icon */\n",
       ".sk-estimator-doc-link span {\n",
       "  display: none;\n",
       "  z-index: 9999;\n",
       "  position: relative;\n",
       "  font-weight: normal;\n",
       "  right: .2ex;\n",
       "  padding: .5ex;\n",
       "  margin: .5ex;\n",
       "  width: min-content;\n",
       "  min-width: 20ex;\n",
       "  max-width: 50ex;\n",
       "  color: var(--sklearn-color-text);\n",
       "  box-shadow: 2pt 2pt 4pt #999;\n",
       "  /* unfitted */\n",
       "  background: var(--sklearn-color-unfitted-level-0);\n",
       "  border: .5pt solid var(--sklearn-color-unfitted-level-3);\n",
       "}\n",
       "\n",
       ".sk-estimator-doc-link.fitted span {\n",
       "  /* fitted */\n",
       "  background: var(--sklearn-color-fitted-level-0);\n",
       "  border: var(--sklearn-color-fitted-level-3);\n",
       "}\n",
       "\n",
       ".sk-estimator-doc-link:hover span {\n",
       "  display: block;\n",
       "}\n",
       "\n",
       "/* \"?\"-specific style due to the `<a>` HTML tag */\n",
       "\n",
       "#sk-container-id-2 a.estimator_doc_link {\n",
       "  float: right;\n",
       "  font-size: 1rem;\n",
       "  line-height: 1em;\n",
       "  font-family: monospace;\n",
       "  background-color: var(--sklearn-color-background);\n",
       "  border-radius: 1rem;\n",
       "  height: 1rem;\n",
       "  width: 1rem;\n",
       "  text-decoration: none;\n",
       "  /* unfitted */\n",
       "  color: var(--sklearn-color-unfitted-level-1);\n",
       "  border: var(--sklearn-color-unfitted-level-1) 1pt solid;\n",
       "}\n",
       "\n",
       "#sk-container-id-2 a.estimator_doc_link.fitted {\n",
       "  /* fitted */\n",
       "  border: var(--sklearn-color-fitted-level-1) 1pt solid;\n",
       "  color: var(--sklearn-color-fitted-level-1);\n",
       "}\n",
       "\n",
       "/* On hover */\n",
       "#sk-container-id-2 a.estimator_doc_link:hover {\n",
       "  /* unfitted */\n",
       "  background-color: var(--sklearn-color-unfitted-level-3);\n",
       "  color: var(--sklearn-color-background);\n",
       "  text-decoration: none;\n",
       "}\n",
       "\n",
       "#sk-container-id-2 a.estimator_doc_link.fitted:hover {\n",
       "  /* fitted */\n",
       "  background-color: var(--sklearn-color-fitted-level-3);\n",
       "}\n",
       "</style><div id=\"sk-container-id-2\" class=\"sk-top-container\"><div class=\"sk-text-repr-fallback\"><pre>KNeighborsClassifier()</pre><b>In a Jupyter environment, please rerun this cell to show the HTML representation or trust the notebook. <br />On GitHub, the HTML representation is unable to render, please try loading this page with nbviewer.org.</b></div><div class=\"sk-container\" hidden><div class=\"sk-item\"><div class=\"sk-estimator fitted sk-toggleable\"><input class=\"sk-toggleable__control sk-hidden--visually\" id=\"sk-estimator-id-2\" type=\"checkbox\" checked><label for=\"sk-estimator-id-2\" class=\"sk-toggleable__label fitted sk-toggleable__label-arrow\"><div><div>KNeighborsClassifier</div></div><div><a class=\"sk-estimator-doc-link fitted\" rel=\"noreferrer\" target=\"_blank\" href=\"https://scikit-learn.org/1.6/modules/generated/sklearn.neighbors.KNeighborsClassifier.html\">?<span>Documentation for KNeighborsClassifier</span></a><span class=\"sk-estimator-doc-link fitted\">i<span>Fitted</span></span></div></label><div class=\"sk-toggleable__content fitted\"><pre>KNeighborsClassifier()</pre></div> </div></div></div></div>"
      ],
      "text/plain": [
       "KNeighborsClassifier()"
      ]
     },
     "execution_count": 64,
     "metadata": {},
     "output_type": "execute_result"
    }
   ],
   "source": [
    "knn_clf.fit(X_train, y_train)"
   ]
  },
  {
   "cell_type": "markdown",
   "id": "e93ebdd7-cc7c-4ee8-926a-86391213f6bd",
   "metadata": {
    "id": "e93ebdd7-cc7c-4ee8-926a-86391213f6bd"
   },
   "source": [
    "Mari kita hitung _accuracy_ dari classifier knn."
   ]
  },
  {
   "cell_type": "code",
   "execution_count": null,
   "id": "27332295-675b-46e8-836c-6782a1e67154",
   "metadata": {
    "id": "27332295-675b-46e8-836c-6782a1e67154"
   },
   "outputs": [],
   "source": [
    "baseline_accuracy = knn_clf.score(X_test, y_test)"
   ]
  },
  {
   "cell_type": "markdown",
   "id": "c79ab341-5339-4c98-b628-aa55f4fe0198",
   "metadata": {
    "id": "c79ab341-5339-4c98-b628-aa55f4fe0198"
   },
   "source": [
    "Silakan Anda tampilkan accuracy baseline ini.      \n",
    "Accuracy baseline $\\approx 96\\%$"
   ]
  },
  {
   "cell_type": "code",
   "execution_count": null,
   "id": "28d262c8-0baf-4d77-aeff-72bf27c7a89a",
   "metadata": {
    "colab": {
     "base_uri": "https://localhost:8080/"
    },
    "executionInfo": {
     "elapsed": 35,
     "status": "ok",
     "timestamp": 1741940307622,
     "user": {
      "displayName": "2372061 Laura Puspa Ameliana",
      "userId": "00688401487854314964"
     },
     "user_tz": -420
    },
    "id": "28d262c8-0baf-4d77-aeff-72bf27c7a89a",
    "outputId": "724310f1-9cef-45da-a349-90e695a86d59"
   },
   "outputs": [
    {
     "name": "stdout",
     "output_type": "stream",
     "text": [
      "baseline_accuracy = 0.9688 = 96.88%\n"
     ]
    }
   ],
   "source": [
    "print(f\"baseline_accuracy = {baseline_accuracy} = {baseline_accuracy*100}%\")"
   ]
  },
  {
   "cell_type": "markdown",
   "id": "4a928053-e207-42b1-aa9a-82fa9672f616",
   "metadata": {
    "id": "4a928053-e207-42b1-aa9a-82fa9672f616"
   },
   "source": [
    "Mari kita import `GridSearchCV` untuk mencari best hyperparameter."
   ]
  },
  {
   "cell_type": "code",
   "execution_count": null,
   "id": "c06cf580-3bf7-44a9-9611-619be1bee981",
   "metadata": {
    "id": "c06cf580-3bf7-44a9-9611-619be1bee981"
   },
   "outputs": [],
   "source": [
    "from sklearn.model_selection import GridSearchCV"
   ]
  },
  {
   "cell_type": "markdown",
   "id": "477b5089-95a0-4cb3-9af2-2bc85bb3a960",
   "metadata": {
    "id": "477b5089-95a0-4cb3-9af2-2bc85bb3a960"
   },
   "source": [
    "Berikut hyperparameter knn yang mau diujicobakan:"
   ]
  },
  {
   "cell_type": "code",
   "execution_count": null,
   "id": "c714ca52-e197-4714-ba38-5e6b0f5a1624",
   "metadata": {
    "id": "c714ca52-e197-4714-ba38-5e6b0f5a1624"
   },
   "outputs": [],
   "source": [
    "param_grid = [{'weights': [\"uniform\", \"distance\"], 'n_neighbors': [3, 4, 5, 6]}]"
   ]
  },
  {
   "cell_type": "markdown",
   "id": "cf80ba4c-d158-495c-be2e-3e6e74dcd6d7",
   "metadata": {
    "id": "cf80ba4c-d158-495c-be2e-3e6e74dcd6d7"
   },
   "source": [
    "### Pertanyaan Refleksi\n",
    "Ada berapa jumlah setting hyperparameter yang akan diujicobakan dari `param_grid`?\n",
    "\n",
    "**Jawab**: 8"
   ]
  },
  {
   "cell_type": "markdown",
   "id": "2290fe55-54b7-43dd-abbb-f2cbf647bfd5",
   "metadata": {
    "id": "2290fe55-54b7-43dd-abbb-f2cbf647bfd5"
   },
   "source": [
    "Mari kita bentuk instance dari kelas `KNeighborsClassifier`."
   ]
  },
  {
   "cell_type": "code",
   "execution_count": null,
   "id": "b65c01b4-1a7e-49ad-bc41-2f158662e618",
   "metadata": {
    "id": "b65c01b4-1a7e-49ad-bc41-2f158662e618"
   },
   "outputs": [],
   "source": [
    "knn_clf = KNeighborsClassifier()"
   ]
  },
  {
   "cell_type": "markdown",
   "id": "ef8129cf-059a-484a-b079-319e05abb87e",
   "metadata": {
    "id": "ef8129cf-059a-484a-b079-319e05abb87e"
   },
   "source": [
    "Selanjutnya, kita lakukan _Grid Search_ dengan menggunakan kelas `GridSearchCV` dan 5-fold cross-validation.     \n",
    "Dokumentasi GridSearchCV dapat dibaca di [**sini**](https://scikit-learn.org/stable/modules/generated/sklearn.model_selection.GridSearchCV.html)."
   ]
  },
  {
   "cell_type": "code",
   "execution_count": null,
   "id": "9a1347ee-892e-4aba-adf4-526f1db4d750",
   "metadata": {
    "id": "9a1347ee-892e-4aba-adf4-526f1db4d750"
   },
   "outputs": [],
   "source": [
    "grid_search = GridSearchCV(knn_clf, param_grid, cv=5)"
   ]
  },
  {
   "cell_type": "markdown",
   "id": "637f216d-623d-4e08-b08a-e1ecbfeb8169",
   "metadata": {
    "id": "637f216d-623d-4e08-b08a-e1ecbfeb8169"
   },
   "source": [
    "Eksekusi `grid_search` dengan memanggil method `fit`.    \n",
    "Untuk mempersingkat waktu, kita coba hanya menggunakan 10000 gambar yang pertama"
   ]
  },
  {
   "cell_type": "code",
   "execution_count": null,
   "id": "2406db0e-a535-467a-b6fe-414c8c99a7b4",
   "metadata": {
    "colab": {
     "base_uri": "https://localhost:8080/",
     "height": 166
    },
    "executionInfo": {
     "elapsed": 39816,
     "status": "ok",
     "timestamp": 1741940505863,
     "user": {
      "displayName": "2372061 Laura Puspa Ameliana",
      "userId": "00688401487854314964"
     },
     "user_tz": -420
    },
    "id": "2406db0e-a535-467a-b6fe-414c8c99a7b4",
    "outputId": "b24b17b5-4ef6-4580-bbfa-9c9410db0df3"
   },
   "outputs": [
    {
     "data": {
      "text/html": [
       "<style>#sk-container-id-3 {\n",
       "  /* Definition of color scheme common for light and dark mode */\n",
       "  --sklearn-color-text: #000;\n",
       "  --sklearn-color-text-muted: #666;\n",
       "  --sklearn-color-line: gray;\n",
       "  /* Definition of color scheme for unfitted estimators */\n",
       "  --sklearn-color-unfitted-level-0: #fff5e6;\n",
       "  --sklearn-color-unfitted-level-1: #f6e4d2;\n",
       "  --sklearn-color-unfitted-level-2: #ffe0b3;\n",
       "  --sklearn-color-unfitted-level-3: chocolate;\n",
       "  /* Definition of color scheme for fitted estimators */\n",
       "  --sklearn-color-fitted-level-0: #f0f8ff;\n",
       "  --sklearn-color-fitted-level-1: #d4ebff;\n",
       "  --sklearn-color-fitted-level-2: #b3dbfd;\n",
       "  --sklearn-color-fitted-level-3: cornflowerblue;\n",
       "\n",
       "  /* Specific color for light theme */\n",
       "  --sklearn-color-text-on-default-background: var(--sg-text-color, var(--theme-code-foreground, var(--jp-content-font-color1, black)));\n",
       "  --sklearn-color-background: var(--sg-background-color, var(--theme-background, var(--jp-layout-color0, white)));\n",
       "  --sklearn-color-border-box: var(--sg-text-color, var(--theme-code-foreground, var(--jp-content-font-color1, black)));\n",
       "  --sklearn-color-icon: #696969;\n",
       "\n",
       "  @media (prefers-color-scheme: dark) {\n",
       "    /* Redefinition of color scheme for dark theme */\n",
       "    --sklearn-color-text-on-default-background: var(--sg-text-color, var(--theme-code-foreground, var(--jp-content-font-color1, white)));\n",
       "    --sklearn-color-background: var(--sg-background-color, var(--theme-background, var(--jp-layout-color0, #111)));\n",
       "    --sklearn-color-border-box: var(--sg-text-color, var(--theme-code-foreground, var(--jp-content-font-color1, white)));\n",
       "    --sklearn-color-icon: #878787;\n",
       "  }\n",
       "}\n",
       "\n",
       "#sk-container-id-3 {\n",
       "  color: var(--sklearn-color-text);\n",
       "}\n",
       "\n",
       "#sk-container-id-3 pre {\n",
       "  padding: 0;\n",
       "}\n",
       "\n",
       "#sk-container-id-3 input.sk-hidden--visually {\n",
       "  border: 0;\n",
       "  clip: rect(1px 1px 1px 1px);\n",
       "  clip: rect(1px, 1px, 1px, 1px);\n",
       "  height: 1px;\n",
       "  margin: -1px;\n",
       "  overflow: hidden;\n",
       "  padding: 0;\n",
       "  position: absolute;\n",
       "  width: 1px;\n",
       "}\n",
       "\n",
       "#sk-container-id-3 div.sk-dashed-wrapped {\n",
       "  border: 1px dashed var(--sklearn-color-line);\n",
       "  margin: 0 0.4em 0.5em 0.4em;\n",
       "  box-sizing: border-box;\n",
       "  padding-bottom: 0.4em;\n",
       "  background-color: var(--sklearn-color-background);\n",
       "}\n",
       "\n",
       "#sk-container-id-3 div.sk-container {\n",
       "  /* jupyter's `normalize.less` sets `[hidden] { display: none; }`\n",
       "     but bootstrap.min.css set `[hidden] { display: none !important; }`\n",
       "     so we also need the `!important` here to be able to override the\n",
       "     default hidden behavior on the sphinx rendered scikit-learn.org.\n",
       "     See: https://github.com/scikit-learn/scikit-learn/issues/21755 */\n",
       "  display: inline-block !important;\n",
       "  position: relative;\n",
       "}\n",
       "\n",
       "#sk-container-id-3 div.sk-text-repr-fallback {\n",
       "  display: none;\n",
       "}\n",
       "\n",
       "div.sk-parallel-item,\n",
       "div.sk-serial,\n",
       "div.sk-item {\n",
       "  /* draw centered vertical line to link estimators */\n",
       "  background-image: linear-gradient(var(--sklearn-color-text-on-default-background), var(--sklearn-color-text-on-default-background));\n",
       "  background-size: 2px 100%;\n",
       "  background-repeat: no-repeat;\n",
       "  background-position: center center;\n",
       "}\n",
       "\n",
       "/* Parallel-specific style estimator block */\n",
       "\n",
       "#sk-container-id-3 div.sk-parallel-item::after {\n",
       "  content: \"\";\n",
       "  width: 100%;\n",
       "  border-bottom: 2px solid var(--sklearn-color-text-on-default-background);\n",
       "  flex-grow: 1;\n",
       "}\n",
       "\n",
       "#sk-container-id-3 div.sk-parallel {\n",
       "  display: flex;\n",
       "  align-items: stretch;\n",
       "  justify-content: center;\n",
       "  background-color: var(--sklearn-color-background);\n",
       "  position: relative;\n",
       "}\n",
       "\n",
       "#sk-container-id-3 div.sk-parallel-item {\n",
       "  display: flex;\n",
       "  flex-direction: column;\n",
       "}\n",
       "\n",
       "#sk-container-id-3 div.sk-parallel-item:first-child::after {\n",
       "  align-self: flex-end;\n",
       "  width: 50%;\n",
       "}\n",
       "\n",
       "#sk-container-id-3 div.sk-parallel-item:last-child::after {\n",
       "  align-self: flex-start;\n",
       "  width: 50%;\n",
       "}\n",
       "\n",
       "#sk-container-id-3 div.sk-parallel-item:only-child::after {\n",
       "  width: 0;\n",
       "}\n",
       "\n",
       "/* Serial-specific style estimator block */\n",
       "\n",
       "#sk-container-id-3 div.sk-serial {\n",
       "  display: flex;\n",
       "  flex-direction: column;\n",
       "  align-items: center;\n",
       "  background-color: var(--sklearn-color-background);\n",
       "  padding-right: 1em;\n",
       "  padding-left: 1em;\n",
       "}\n",
       "\n",
       "\n",
       "/* Toggleable style: style used for estimator/Pipeline/ColumnTransformer box that is\n",
       "clickable and can be expanded/collapsed.\n",
       "- Pipeline and ColumnTransformer use this feature and define the default style\n",
       "- Estimators will overwrite some part of the style using the `sk-estimator` class\n",
       "*/\n",
       "\n",
       "/* Pipeline and ColumnTransformer style (default) */\n",
       "\n",
       "#sk-container-id-3 div.sk-toggleable {\n",
       "  /* Default theme specific background. It is overwritten whether we have a\n",
       "  specific estimator or a Pipeline/ColumnTransformer */\n",
       "  background-color: var(--sklearn-color-background);\n",
       "}\n",
       "\n",
       "/* Toggleable label */\n",
       "#sk-container-id-3 label.sk-toggleable__label {\n",
       "  cursor: pointer;\n",
       "  display: flex;\n",
       "  width: 100%;\n",
       "  margin-bottom: 0;\n",
       "  padding: 0.5em;\n",
       "  box-sizing: border-box;\n",
       "  text-align: center;\n",
       "  align-items: start;\n",
       "  justify-content: space-between;\n",
       "  gap: 0.5em;\n",
       "}\n",
       "\n",
       "#sk-container-id-3 label.sk-toggleable__label .caption {\n",
       "  font-size: 0.6rem;\n",
       "  font-weight: lighter;\n",
       "  color: var(--sklearn-color-text-muted);\n",
       "}\n",
       "\n",
       "#sk-container-id-3 label.sk-toggleable__label-arrow:before {\n",
       "  /* Arrow on the left of the label */\n",
       "  content: \"▸\";\n",
       "  float: left;\n",
       "  margin-right: 0.25em;\n",
       "  color: var(--sklearn-color-icon);\n",
       "}\n",
       "\n",
       "#sk-container-id-3 label.sk-toggleable__label-arrow:hover:before {\n",
       "  color: var(--sklearn-color-text);\n",
       "}\n",
       "\n",
       "/* Toggleable content - dropdown */\n",
       "\n",
       "#sk-container-id-3 div.sk-toggleable__content {\n",
       "  max-height: 0;\n",
       "  max-width: 0;\n",
       "  overflow: hidden;\n",
       "  text-align: left;\n",
       "  /* unfitted */\n",
       "  background-color: var(--sklearn-color-unfitted-level-0);\n",
       "}\n",
       "\n",
       "#sk-container-id-3 div.sk-toggleable__content.fitted {\n",
       "  /* fitted */\n",
       "  background-color: var(--sklearn-color-fitted-level-0);\n",
       "}\n",
       "\n",
       "#sk-container-id-3 div.sk-toggleable__content pre {\n",
       "  margin: 0.2em;\n",
       "  border-radius: 0.25em;\n",
       "  color: var(--sklearn-color-text);\n",
       "  /* unfitted */\n",
       "  background-color: var(--sklearn-color-unfitted-level-0);\n",
       "}\n",
       "\n",
       "#sk-container-id-3 div.sk-toggleable__content.fitted pre {\n",
       "  /* unfitted */\n",
       "  background-color: var(--sklearn-color-fitted-level-0);\n",
       "}\n",
       "\n",
       "#sk-container-id-3 input.sk-toggleable__control:checked~div.sk-toggleable__content {\n",
       "  /* Expand drop-down */\n",
       "  max-height: 200px;\n",
       "  max-width: 100%;\n",
       "  overflow: auto;\n",
       "}\n",
       "\n",
       "#sk-container-id-3 input.sk-toggleable__control:checked~label.sk-toggleable__label-arrow:before {\n",
       "  content: \"▾\";\n",
       "}\n",
       "\n",
       "/* Pipeline/ColumnTransformer-specific style */\n",
       "\n",
       "#sk-container-id-3 div.sk-label input.sk-toggleable__control:checked~label.sk-toggleable__label {\n",
       "  color: var(--sklearn-color-text);\n",
       "  background-color: var(--sklearn-color-unfitted-level-2);\n",
       "}\n",
       "\n",
       "#sk-container-id-3 div.sk-label.fitted input.sk-toggleable__control:checked~label.sk-toggleable__label {\n",
       "  background-color: var(--sklearn-color-fitted-level-2);\n",
       "}\n",
       "\n",
       "/* Estimator-specific style */\n",
       "\n",
       "/* Colorize estimator box */\n",
       "#sk-container-id-3 div.sk-estimator input.sk-toggleable__control:checked~label.sk-toggleable__label {\n",
       "  /* unfitted */\n",
       "  background-color: var(--sklearn-color-unfitted-level-2);\n",
       "}\n",
       "\n",
       "#sk-container-id-3 div.sk-estimator.fitted input.sk-toggleable__control:checked~label.sk-toggleable__label {\n",
       "  /* fitted */\n",
       "  background-color: var(--sklearn-color-fitted-level-2);\n",
       "}\n",
       "\n",
       "#sk-container-id-3 div.sk-label label.sk-toggleable__label,\n",
       "#sk-container-id-3 div.sk-label label {\n",
       "  /* The background is the default theme color */\n",
       "  color: var(--sklearn-color-text-on-default-background);\n",
       "}\n",
       "\n",
       "/* On hover, darken the color of the background */\n",
       "#sk-container-id-3 div.sk-label:hover label.sk-toggleable__label {\n",
       "  color: var(--sklearn-color-text);\n",
       "  background-color: var(--sklearn-color-unfitted-level-2);\n",
       "}\n",
       "\n",
       "/* Label box, darken color on hover, fitted */\n",
       "#sk-container-id-3 div.sk-label.fitted:hover label.sk-toggleable__label.fitted {\n",
       "  color: var(--sklearn-color-text);\n",
       "  background-color: var(--sklearn-color-fitted-level-2);\n",
       "}\n",
       "\n",
       "/* Estimator label */\n",
       "\n",
       "#sk-container-id-3 div.sk-label label {\n",
       "  font-family: monospace;\n",
       "  font-weight: bold;\n",
       "  display: inline-block;\n",
       "  line-height: 1.2em;\n",
       "}\n",
       "\n",
       "#sk-container-id-3 div.sk-label-container {\n",
       "  text-align: center;\n",
       "}\n",
       "\n",
       "/* Estimator-specific */\n",
       "#sk-container-id-3 div.sk-estimator {\n",
       "  font-family: monospace;\n",
       "  border: 1px dotted var(--sklearn-color-border-box);\n",
       "  border-radius: 0.25em;\n",
       "  box-sizing: border-box;\n",
       "  margin-bottom: 0.5em;\n",
       "  /* unfitted */\n",
       "  background-color: var(--sklearn-color-unfitted-level-0);\n",
       "}\n",
       "\n",
       "#sk-container-id-3 div.sk-estimator.fitted {\n",
       "  /* fitted */\n",
       "  background-color: var(--sklearn-color-fitted-level-0);\n",
       "}\n",
       "\n",
       "/* on hover */\n",
       "#sk-container-id-3 div.sk-estimator:hover {\n",
       "  /* unfitted */\n",
       "  background-color: var(--sklearn-color-unfitted-level-2);\n",
       "}\n",
       "\n",
       "#sk-container-id-3 div.sk-estimator.fitted:hover {\n",
       "  /* fitted */\n",
       "  background-color: var(--sklearn-color-fitted-level-2);\n",
       "}\n",
       "\n",
       "/* Specification for estimator info (e.g. \"i\" and \"?\") */\n",
       "\n",
       "/* Common style for \"i\" and \"?\" */\n",
       "\n",
       ".sk-estimator-doc-link,\n",
       "a:link.sk-estimator-doc-link,\n",
       "a:visited.sk-estimator-doc-link {\n",
       "  float: right;\n",
       "  font-size: smaller;\n",
       "  line-height: 1em;\n",
       "  font-family: monospace;\n",
       "  background-color: var(--sklearn-color-background);\n",
       "  border-radius: 1em;\n",
       "  height: 1em;\n",
       "  width: 1em;\n",
       "  text-decoration: none !important;\n",
       "  margin-left: 0.5em;\n",
       "  text-align: center;\n",
       "  /* unfitted */\n",
       "  border: var(--sklearn-color-unfitted-level-1) 1pt solid;\n",
       "  color: var(--sklearn-color-unfitted-level-1);\n",
       "}\n",
       "\n",
       ".sk-estimator-doc-link.fitted,\n",
       "a:link.sk-estimator-doc-link.fitted,\n",
       "a:visited.sk-estimator-doc-link.fitted {\n",
       "  /* fitted */\n",
       "  border: var(--sklearn-color-fitted-level-1) 1pt solid;\n",
       "  color: var(--sklearn-color-fitted-level-1);\n",
       "}\n",
       "\n",
       "/* On hover */\n",
       "div.sk-estimator:hover .sk-estimator-doc-link:hover,\n",
       ".sk-estimator-doc-link:hover,\n",
       "div.sk-label-container:hover .sk-estimator-doc-link:hover,\n",
       ".sk-estimator-doc-link:hover {\n",
       "  /* unfitted */\n",
       "  background-color: var(--sklearn-color-unfitted-level-3);\n",
       "  color: var(--sklearn-color-background);\n",
       "  text-decoration: none;\n",
       "}\n",
       "\n",
       "div.sk-estimator.fitted:hover .sk-estimator-doc-link.fitted:hover,\n",
       ".sk-estimator-doc-link.fitted:hover,\n",
       "div.sk-label-container:hover .sk-estimator-doc-link.fitted:hover,\n",
       ".sk-estimator-doc-link.fitted:hover {\n",
       "  /* fitted */\n",
       "  background-color: var(--sklearn-color-fitted-level-3);\n",
       "  color: var(--sklearn-color-background);\n",
       "  text-decoration: none;\n",
       "}\n",
       "\n",
       "/* Span, style for the box shown on hovering the info icon */\n",
       ".sk-estimator-doc-link span {\n",
       "  display: none;\n",
       "  z-index: 9999;\n",
       "  position: relative;\n",
       "  font-weight: normal;\n",
       "  right: .2ex;\n",
       "  padding: .5ex;\n",
       "  margin: .5ex;\n",
       "  width: min-content;\n",
       "  min-width: 20ex;\n",
       "  max-width: 50ex;\n",
       "  color: var(--sklearn-color-text);\n",
       "  box-shadow: 2pt 2pt 4pt #999;\n",
       "  /* unfitted */\n",
       "  background: var(--sklearn-color-unfitted-level-0);\n",
       "  border: .5pt solid var(--sklearn-color-unfitted-level-3);\n",
       "}\n",
       "\n",
       ".sk-estimator-doc-link.fitted span {\n",
       "  /* fitted */\n",
       "  background: var(--sklearn-color-fitted-level-0);\n",
       "  border: var(--sklearn-color-fitted-level-3);\n",
       "}\n",
       "\n",
       ".sk-estimator-doc-link:hover span {\n",
       "  display: block;\n",
       "}\n",
       "\n",
       "/* \"?\"-specific style due to the `<a>` HTML tag */\n",
       "\n",
       "#sk-container-id-3 a.estimator_doc_link {\n",
       "  float: right;\n",
       "  font-size: 1rem;\n",
       "  line-height: 1em;\n",
       "  font-family: monospace;\n",
       "  background-color: var(--sklearn-color-background);\n",
       "  border-radius: 1rem;\n",
       "  height: 1rem;\n",
       "  width: 1rem;\n",
       "  text-decoration: none;\n",
       "  /* unfitted */\n",
       "  color: var(--sklearn-color-unfitted-level-1);\n",
       "  border: var(--sklearn-color-unfitted-level-1) 1pt solid;\n",
       "}\n",
       "\n",
       "#sk-container-id-3 a.estimator_doc_link.fitted {\n",
       "  /* fitted */\n",
       "  border: var(--sklearn-color-fitted-level-1) 1pt solid;\n",
       "  color: var(--sklearn-color-fitted-level-1);\n",
       "}\n",
       "\n",
       "/* On hover */\n",
       "#sk-container-id-3 a.estimator_doc_link:hover {\n",
       "  /* unfitted */\n",
       "  background-color: var(--sklearn-color-unfitted-level-3);\n",
       "  color: var(--sklearn-color-background);\n",
       "  text-decoration: none;\n",
       "}\n",
       "\n",
       "#sk-container-id-3 a.estimator_doc_link.fitted:hover {\n",
       "  /* fitted */\n",
       "  background-color: var(--sklearn-color-fitted-level-3);\n",
       "}\n",
       "</style><div id=\"sk-container-id-3\" class=\"sk-top-container\"><div class=\"sk-text-repr-fallback\"><pre>GridSearchCV(cv=5, estimator=KNeighborsClassifier(),\n",
       "             param_grid=[{&#x27;n_neighbors&#x27;: [3, 4, 5, 6],\n",
       "                          &#x27;weights&#x27;: [&#x27;uniform&#x27;, &#x27;distance&#x27;]}])</pre><b>In a Jupyter environment, please rerun this cell to show the HTML representation or trust the notebook. <br />On GitHub, the HTML representation is unable to render, please try loading this page with nbviewer.org.</b></div><div class=\"sk-container\" hidden><div class=\"sk-item sk-dashed-wrapped\"><div class=\"sk-label-container\"><div class=\"sk-label fitted sk-toggleable\"><input class=\"sk-toggleable__control sk-hidden--visually\" id=\"sk-estimator-id-3\" type=\"checkbox\" ><label for=\"sk-estimator-id-3\" class=\"sk-toggleable__label fitted sk-toggleable__label-arrow\"><div><div>GridSearchCV</div></div><div><a class=\"sk-estimator-doc-link fitted\" rel=\"noreferrer\" target=\"_blank\" href=\"https://scikit-learn.org/1.6/modules/generated/sklearn.model_selection.GridSearchCV.html\">?<span>Documentation for GridSearchCV</span></a><span class=\"sk-estimator-doc-link fitted\">i<span>Fitted</span></span></div></label><div class=\"sk-toggleable__content fitted\"><pre>GridSearchCV(cv=5, estimator=KNeighborsClassifier(),\n",
       "             param_grid=[{&#x27;n_neighbors&#x27;: [3, 4, 5, 6],\n",
       "                          &#x27;weights&#x27;: [&#x27;uniform&#x27;, &#x27;distance&#x27;]}])</pre></div> </div></div><div class=\"sk-parallel\"><div class=\"sk-parallel-item\"><div class=\"sk-item\"><div class=\"sk-label-container\"><div class=\"sk-label fitted sk-toggleable\"><input class=\"sk-toggleable__control sk-hidden--visually\" id=\"sk-estimator-id-4\" type=\"checkbox\" ><label for=\"sk-estimator-id-4\" class=\"sk-toggleable__label fitted sk-toggleable__label-arrow\"><div><div>best_estimator_: KNeighborsClassifier</div></div></label><div class=\"sk-toggleable__content fitted\"><pre>KNeighborsClassifier(n_neighbors=4, weights=&#x27;distance&#x27;)</pre></div> </div></div><div class=\"sk-serial\"><div class=\"sk-item\"><div class=\"sk-estimator fitted sk-toggleable\"><input class=\"sk-toggleable__control sk-hidden--visually\" id=\"sk-estimator-id-5\" type=\"checkbox\" ><label for=\"sk-estimator-id-5\" class=\"sk-toggleable__label fitted sk-toggleable__label-arrow\"><div><div>KNeighborsClassifier</div></div><div><a class=\"sk-estimator-doc-link fitted\" rel=\"noreferrer\" target=\"_blank\" href=\"https://scikit-learn.org/1.6/modules/generated/sklearn.neighbors.KNeighborsClassifier.html\">?<span>Documentation for KNeighborsClassifier</span></a></div></label><div class=\"sk-toggleable__content fitted\"><pre>KNeighborsClassifier(n_neighbors=4, weights=&#x27;distance&#x27;)</pre></div> </div></div></div></div></div></div></div></div></div>"
      ],
      "text/plain": [
       "GridSearchCV(cv=5, estimator=KNeighborsClassifier(),\n",
       "             param_grid=[{'n_neighbors': [3, 4, 5, 6],\n",
       "                          'weights': ['uniform', 'distance']}])"
      ]
     },
     "execution_count": 73,
     "metadata": {},
     "output_type": "execute_result"
    }
   ],
   "source": [
    "grid_search.fit(X[:10000], y[:10000])"
   ]
  },
  {
   "cell_type": "markdown",
   "id": "7f004a25-9a12-4ba7-82dc-5323b519102f",
   "metadata": {
    "id": "7f004a25-9a12-4ba7-82dc-5323b519102f"
   },
   "source": [
    "Tampilkan best hyperparameter dari hasil Grid Search."
   ]
  },
  {
   "cell_type": "code",
   "execution_count": null,
   "id": "a90256b7-4c5e-4a17-9a6c-a509f13824a0",
   "metadata": {
    "colab": {
     "base_uri": "https://localhost:8080/"
    },
    "executionInfo": {
     "elapsed": 39,
     "status": "ok",
     "timestamp": 1741940568279,
     "user": {
      "displayName": "2372061 Laura Puspa Ameliana",
      "userId": "00688401487854314964"
     },
     "user_tz": -420
    },
    "id": "a90256b7-4c5e-4a17-9a6c-a509f13824a0",
    "outputId": "d6be35ac-382d-4f20-9340-38206102e97c"
   },
   "outputs": [
    {
     "data": {
      "text/plain": [
       "{'n_neighbors': 4, 'weights': 'distance'}"
      ]
     },
     "execution_count": 74,
     "metadata": {},
     "output_type": "execute_result"
    }
   ],
   "source": [
    "grid_search.best_params_"
   ]
  },
  {
   "cell_type": "markdown",
   "id": "bbe034f9-9906-4cb0-9b11-08e545ba9d3d",
   "metadata": {
    "id": "bbe034f9-9906-4cb0-9b11-08e545ba9d3d"
   },
   "source": [
    "Tampilkan nilai score terbaik dari hasil `grid_search`."
   ]
  },
  {
   "cell_type": "code",
   "execution_count": null,
   "id": "bab2dfa3-b0a9-4283-a9d4-3d8ae2b14257",
   "metadata": {
    "colab": {
     "base_uri": "https://localhost:8080/"
    },
    "executionInfo": {
     "elapsed": 47,
     "status": "ok",
     "timestamp": 1741940576102,
     "user": {
      "displayName": "2372061 Laura Puspa Ameliana",
      "userId": "00688401487854314964"
     },
     "user_tz": -420
    },
    "id": "bab2dfa3-b0a9-4283-a9d4-3d8ae2b14257",
    "outputId": "e2e06205-2c79-4c22-f947-880ef20bb58d"
   },
   "outputs": [
    {
     "data": {
      "text/plain": [
       "0.9441999999999998"
      ]
     },
     "execution_count": 75,
     "metadata": {},
     "output_type": "execute_result"
    }
   ],
   "source": [
    "grid_search.best_score_"
   ]
  },
  {
   "cell_type": "markdown",
   "id": "97b4b752-132d-4637-b73d-47e6645fe40d",
   "metadata": {
    "id": "97b4b752-132d-4637-b73d-47e6645fe40d"
   },
   "source": [
    "Latihlah model dengan best hyperparameter pada train set."
   ]
  },
  {
   "cell_type": "code",
   "execution_count": null,
   "id": "598faf3a-927c-4ce4-ad2c-1e59782fa523",
   "metadata": {
    "colab": {
     "base_uri": "https://localhost:8080/",
     "height": 80
    },
    "executionInfo": {
     "elapsed": 355,
     "status": "ok",
     "timestamp": 1741940741822,
     "user": {
      "displayName": "2372061 Laura Puspa Ameliana",
      "userId": "00688401487854314964"
     },
     "user_tz": -420
    },
    "id": "598faf3a-927c-4ce4-ad2c-1e59782fa523",
    "outputId": "21bf7eb3-b14c-4546-bbd4-1ae764614e81"
   },
   "outputs": [
    {
     "data": {
      "text/html": [
       "<style>#sk-container-id-4 {\n",
       "  /* Definition of color scheme common for light and dark mode */\n",
       "  --sklearn-color-text: #000;\n",
       "  --sklearn-color-text-muted: #666;\n",
       "  --sklearn-color-line: gray;\n",
       "  /* Definition of color scheme for unfitted estimators */\n",
       "  --sklearn-color-unfitted-level-0: #fff5e6;\n",
       "  --sklearn-color-unfitted-level-1: #f6e4d2;\n",
       "  --sklearn-color-unfitted-level-2: #ffe0b3;\n",
       "  --sklearn-color-unfitted-level-3: chocolate;\n",
       "  /* Definition of color scheme for fitted estimators */\n",
       "  --sklearn-color-fitted-level-0: #f0f8ff;\n",
       "  --sklearn-color-fitted-level-1: #d4ebff;\n",
       "  --sklearn-color-fitted-level-2: #b3dbfd;\n",
       "  --sklearn-color-fitted-level-3: cornflowerblue;\n",
       "\n",
       "  /* Specific color for light theme */\n",
       "  --sklearn-color-text-on-default-background: var(--sg-text-color, var(--theme-code-foreground, var(--jp-content-font-color1, black)));\n",
       "  --sklearn-color-background: var(--sg-background-color, var(--theme-background, var(--jp-layout-color0, white)));\n",
       "  --sklearn-color-border-box: var(--sg-text-color, var(--theme-code-foreground, var(--jp-content-font-color1, black)));\n",
       "  --sklearn-color-icon: #696969;\n",
       "\n",
       "  @media (prefers-color-scheme: dark) {\n",
       "    /* Redefinition of color scheme for dark theme */\n",
       "    --sklearn-color-text-on-default-background: var(--sg-text-color, var(--theme-code-foreground, var(--jp-content-font-color1, white)));\n",
       "    --sklearn-color-background: var(--sg-background-color, var(--theme-background, var(--jp-layout-color0, #111)));\n",
       "    --sklearn-color-border-box: var(--sg-text-color, var(--theme-code-foreground, var(--jp-content-font-color1, white)));\n",
       "    --sklearn-color-icon: #878787;\n",
       "  }\n",
       "}\n",
       "\n",
       "#sk-container-id-4 {\n",
       "  color: var(--sklearn-color-text);\n",
       "}\n",
       "\n",
       "#sk-container-id-4 pre {\n",
       "  padding: 0;\n",
       "}\n",
       "\n",
       "#sk-container-id-4 input.sk-hidden--visually {\n",
       "  border: 0;\n",
       "  clip: rect(1px 1px 1px 1px);\n",
       "  clip: rect(1px, 1px, 1px, 1px);\n",
       "  height: 1px;\n",
       "  margin: -1px;\n",
       "  overflow: hidden;\n",
       "  padding: 0;\n",
       "  position: absolute;\n",
       "  width: 1px;\n",
       "}\n",
       "\n",
       "#sk-container-id-4 div.sk-dashed-wrapped {\n",
       "  border: 1px dashed var(--sklearn-color-line);\n",
       "  margin: 0 0.4em 0.5em 0.4em;\n",
       "  box-sizing: border-box;\n",
       "  padding-bottom: 0.4em;\n",
       "  background-color: var(--sklearn-color-background);\n",
       "}\n",
       "\n",
       "#sk-container-id-4 div.sk-container {\n",
       "  /* jupyter's `normalize.less` sets `[hidden] { display: none; }`\n",
       "     but bootstrap.min.css set `[hidden] { display: none !important; }`\n",
       "     so we also need the `!important` here to be able to override the\n",
       "     default hidden behavior on the sphinx rendered scikit-learn.org.\n",
       "     See: https://github.com/scikit-learn/scikit-learn/issues/21755 */\n",
       "  display: inline-block !important;\n",
       "  position: relative;\n",
       "}\n",
       "\n",
       "#sk-container-id-4 div.sk-text-repr-fallback {\n",
       "  display: none;\n",
       "}\n",
       "\n",
       "div.sk-parallel-item,\n",
       "div.sk-serial,\n",
       "div.sk-item {\n",
       "  /* draw centered vertical line to link estimators */\n",
       "  background-image: linear-gradient(var(--sklearn-color-text-on-default-background), var(--sklearn-color-text-on-default-background));\n",
       "  background-size: 2px 100%;\n",
       "  background-repeat: no-repeat;\n",
       "  background-position: center center;\n",
       "}\n",
       "\n",
       "/* Parallel-specific style estimator block */\n",
       "\n",
       "#sk-container-id-4 div.sk-parallel-item::after {\n",
       "  content: \"\";\n",
       "  width: 100%;\n",
       "  border-bottom: 2px solid var(--sklearn-color-text-on-default-background);\n",
       "  flex-grow: 1;\n",
       "}\n",
       "\n",
       "#sk-container-id-4 div.sk-parallel {\n",
       "  display: flex;\n",
       "  align-items: stretch;\n",
       "  justify-content: center;\n",
       "  background-color: var(--sklearn-color-background);\n",
       "  position: relative;\n",
       "}\n",
       "\n",
       "#sk-container-id-4 div.sk-parallel-item {\n",
       "  display: flex;\n",
       "  flex-direction: column;\n",
       "}\n",
       "\n",
       "#sk-container-id-4 div.sk-parallel-item:first-child::after {\n",
       "  align-self: flex-end;\n",
       "  width: 50%;\n",
       "}\n",
       "\n",
       "#sk-container-id-4 div.sk-parallel-item:last-child::after {\n",
       "  align-self: flex-start;\n",
       "  width: 50%;\n",
       "}\n",
       "\n",
       "#sk-container-id-4 div.sk-parallel-item:only-child::after {\n",
       "  width: 0;\n",
       "}\n",
       "\n",
       "/* Serial-specific style estimator block */\n",
       "\n",
       "#sk-container-id-4 div.sk-serial {\n",
       "  display: flex;\n",
       "  flex-direction: column;\n",
       "  align-items: center;\n",
       "  background-color: var(--sklearn-color-background);\n",
       "  padding-right: 1em;\n",
       "  padding-left: 1em;\n",
       "}\n",
       "\n",
       "\n",
       "/* Toggleable style: style used for estimator/Pipeline/ColumnTransformer box that is\n",
       "clickable and can be expanded/collapsed.\n",
       "- Pipeline and ColumnTransformer use this feature and define the default style\n",
       "- Estimators will overwrite some part of the style using the `sk-estimator` class\n",
       "*/\n",
       "\n",
       "/* Pipeline and ColumnTransformer style (default) */\n",
       "\n",
       "#sk-container-id-4 div.sk-toggleable {\n",
       "  /* Default theme specific background. It is overwritten whether we have a\n",
       "  specific estimator or a Pipeline/ColumnTransformer */\n",
       "  background-color: var(--sklearn-color-background);\n",
       "}\n",
       "\n",
       "/* Toggleable label */\n",
       "#sk-container-id-4 label.sk-toggleable__label {\n",
       "  cursor: pointer;\n",
       "  display: flex;\n",
       "  width: 100%;\n",
       "  margin-bottom: 0;\n",
       "  padding: 0.5em;\n",
       "  box-sizing: border-box;\n",
       "  text-align: center;\n",
       "  align-items: start;\n",
       "  justify-content: space-between;\n",
       "  gap: 0.5em;\n",
       "}\n",
       "\n",
       "#sk-container-id-4 label.sk-toggleable__label .caption {\n",
       "  font-size: 0.6rem;\n",
       "  font-weight: lighter;\n",
       "  color: var(--sklearn-color-text-muted);\n",
       "}\n",
       "\n",
       "#sk-container-id-4 label.sk-toggleable__label-arrow:before {\n",
       "  /* Arrow on the left of the label */\n",
       "  content: \"▸\";\n",
       "  float: left;\n",
       "  margin-right: 0.25em;\n",
       "  color: var(--sklearn-color-icon);\n",
       "}\n",
       "\n",
       "#sk-container-id-4 label.sk-toggleable__label-arrow:hover:before {\n",
       "  color: var(--sklearn-color-text);\n",
       "}\n",
       "\n",
       "/* Toggleable content - dropdown */\n",
       "\n",
       "#sk-container-id-4 div.sk-toggleable__content {\n",
       "  max-height: 0;\n",
       "  max-width: 0;\n",
       "  overflow: hidden;\n",
       "  text-align: left;\n",
       "  /* unfitted */\n",
       "  background-color: var(--sklearn-color-unfitted-level-0);\n",
       "}\n",
       "\n",
       "#sk-container-id-4 div.sk-toggleable__content.fitted {\n",
       "  /* fitted */\n",
       "  background-color: var(--sklearn-color-fitted-level-0);\n",
       "}\n",
       "\n",
       "#sk-container-id-4 div.sk-toggleable__content pre {\n",
       "  margin: 0.2em;\n",
       "  border-radius: 0.25em;\n",
       "  color: var(--sklearn-color-text);\n",
       "  /* unfitted */\n",
       "  background-color: var(--sklearn-color-unfitted-level-0);\n",
       "}\n",
       "\n",
       "#sk-container-id-4 div.sk-toggleable__content.fitted pre {\n",
       "  /* unfitted */\n",
       "  background-color: var(--sklearn-color-fitted-level-0);\n",
       "}\n",
       "\n",
       "#sk-container-id-4 input.sk-toggleable__control:checked~div.sk-toggleable__content {\n",
       "  /* Expand drop-down */\n",
       "  max-height: 200px;\n",
       "  max-width: 100%;\n",
       "  overflow: auto;\n",
       "}\n",
       "\n",
       "#sk-container-id-4 input.sk-toggleable__control:checked~label.sk-toggleable__label-arrow:before {\n",
       "  content: \"▾\";\n",
       "}\n",
       "\n",
       "/* Pipeline/ColumnTransformer-specific style */\n",
       "\n",
       "#sk-container-id-4 div.sk-label input.sk-toggleable__control:checked~label.sk-toggleable__label {\n",
       "  color: var(--sklearn-color-text);\n",
       "  background-color: var(--sklearn-color-unfitted-level-2);\n",
       "}\n",
       "\n",
       "#sk-container-id-4 div.sk-label.fitted input.sk-toggleable__control:checked~label.sk-toggleable__label {\n",
       "  background-color: var(--sklearn-color-fitted-level-2);\n",
       "}\n",
       "\n",
       "/* Estimator-specific style */\n",
       "\n",
       "/* Colorize estimator box */\n",
       "#sk-container-id-4 div.sk-estimator input.sk-toggleable__control:checked~label.sk-toggleable__label {\n",
       "  /* unfitted */\n",
       "  background-color: var(--sklearn-color-unfitted-level-2);\n",
       "}\n",
       "\n",
       "#sk-container-id-4 div.sk-estimator.fitted input.sk-toggleable__control:checked~label.sk-toggleable__label {\n",
       "  /* fitted */\n",
       "  background-color: var(--sklearn-color-fitted-level-2);\n",
       "}\n",
       "\n",
       "#sk-container-id-4 div.sk-label label.sk-toggleable__label,\n",
       "#sk-container-id-4 div.sk-label label {\n",
       "  /* The background is the default theme color */\n",
       "  color: var(--sklearn-color-text-on-default-background);\n",
       "}\n",
       "\n",
       "/* On hover, darken the color of the background */\n",
       "#sk-container-id-4 div.sk-label:hover label.sk-toggleable__label {\n",
       "  color: var(--sklearn-color-text);\n",
       "  background-color: var(--sklearn-color-unfitted-level-2);\n",
       "}\n",
       "\n",
       "/* Label box, darken color on hover, fitted */\n",
       "#sk-container-id-4 div.sk-label.fitted:hover label.sk-toggleable__label.fitted {\n",
       "  color: var(--sklearn-color-text);\n",
       "  background-color: var(--sklearn-color-fitted-level-2);\n",
       "}\n",
       "\n",
       "/* Estimator label */\n",
       "\n",
       "#sk-container-id-4 div.sk-label label {\n",
       "  font-family: monospace;\n",
       "  font-weight: bold;\n",
       "  display: inline-block;\n",
       "  line-height: 1.2em;\n",
       "}\n",
       "\n",
       "#sk-container-id-4 div.sk-label-container {\n",
       "  text-align: center;\n",
       "}\n",
       "\n",
       "/* Estimator-specific */\n",
       "#sk-container-id-4 div.sk-estimator {\n",
       "  font-family: monospace;\n",
       "  border: 1px dotted var(--sklearn-color-border-box);\n",
       "  border-radius: 0.25em;\n",
       "  box-sizing: border-box;\n",
       "  margin-bottom: 0.5em;\n",
       "  /* unfitted */\n",
       "  background-color: var(--sklearn-color-unfitted-level-0);\n",
       "}\n",
       "\n",
       "#sk-container-id-4 div.sk-estimator.fitted {\n",
       "  /* fitted */\n",
       "  background-color: var(--sklearn-color-fitted-level-0);\n",
       "}\n",
       "\n",
       "/* on hover */\n",
       "#sk-container-id-4 div.sk-estimator:hover {\n",
       "  /* unfitted */\n",
       "  background-color: var(--sklearn-color-unfitted-level-2);\n",
       "}\n",
       "\n",
       "#sk-container-id-4 div.sk-estimator.fitted:hover {\n",
       "  /* fitted */\n",
       "  background-color: var(--sklearn-color-fitted-level-2);\n",
       "}\n",
       "\n",
       "/* Specification for estimator info (e.g. \"i\" and \"?\") */\n",
       "\n",
       "/* Common style for \"i\" and \"?\" */\n",
       "\n",
       ".sk-estimator-doc-link,\n",
       "a:link.sk-estimator-doc-link,\n",
       "a:visited.sk-estimator-doc-link {\n",
       "  float: right;\n",
       "  font-size: smaller;\n",
       "  line-height: 1em;\n",
       "  font-family: monospace;\n",
       "  background-color: var(--sklearn-color-background);\n",
       "  border-radius: 1em;\n",
       "  height: 1em;\n",
       "  width: 1em;\n",
       "  text-decoration: none !important;\n",
       "  margin-left: 0.5em;\n",
       "  text-align: center;\n",
       "  /* unfitted */\n",
       "  border: var(--sklearn-color-unfitted-level-1) 1pt solid;\n",
       "  color: var(--sklearn-color-unfitted-level-1);\n",
       "}\n",
       "\n",
       ".sk-estimator-doc-link.fitted,\n",
       "a:link.sk-estimator-doc-link.fitted,\n",
       "a:visited.sk-estimator-doc-link.fitted {\n",
       "  /* fitted */\n",
       "  border: var(--sklearn-color-fitted-level-1) 1pt solid;\n",
       "  color: var(--sklearn-color-fitted-level-1);\n",
       "}\n",
       "\n",
       "/* On hover */\n",
       "div.sk-estimator:hover .sk-estimator-doc-link:hover,\n",
       ".sk-estimator-doc-link:hover,\n",
       "div.sk-label-container:hover .sk-estimator-doc-link:hover,\n",
       ".sk-estimator-doc-link:hover {\n",
       "  /* unfitted */\n",
       "  background-color: var(--sklearn-color-unfitted-level-3);\n",
       "  color: var(--sklearn-color-background);\n",
       "  text-decoration: none;\n",
       "}\n",
       "\n",
       "div.sk-estimator.fitted:hover .sk-estimator-doc-link.fitted:hover,\n",
       ".sk-estimator-doc-link.fitted:hover,\n",
       "div.sk-label-container:hover .sk-estimator-doc-link.fitted:hover,\n",
       ".sk-estimator-doc-link.fitted:hover {\n",
       "  /* fitted */\n",
       "  background-color: var(--sklearn-color-fitted-level-3);\n",
       "  color: var(--sklearn-color-background);\n",
       "  text-decoration: none;\n",
       "}\n",
       "\n",
       "/* Span, style for the box shown on hovering the info icon */\n",
       ".sk-estimator-doc-link span {\n",
       "  display: none;\n",
       "  z-index: 9999;\n",
       "  position: relative;\n",
       "  font-weight: normal;\n",
       "  right: .2ex;\n",
       "  padding: .5ex;\n",
       "  margin: .5ex;\n",
       "  width: min-content;\n",
       "  min-width: 20ex;\n",
       "  max-width: 50ex;\n",
       "  color: var(--sklearn-color-text);\n",
       "  box-shadow: 2pt 2pt 4pt #999;\n",
       "  /* unfitted */\n",
       "  background: var(--sklearn-color-unfitted-level-0);\n",
       "  border: .5pt solid var(--sklearn-color-unfitted-level-3);\n",
       "}\n",
       "\n",
       ".sk-estimator-doc-link.fitted span {\n",
       "  /* fitted */\n",
       "  background: var(--sklearn-color-fitted-level-0);\n",
       "  border: var(--sklearn-color-fitted-level-3);\n",
       "}\n",
       "\n",
       ".sk-estimator-doc-link:hover span {\n",
       "  display: block;\n",
       "}\n",
       "\n",
       "/* \"?\"-specific style due to the `<a>` HTML tag */\n",
       "\n",
       "#sk-container-id-4 a.estimator_doc_link {\n",
       "  float: right;\n",
       "  font-size: 1rem;\n",
       "  line-height: 1em;\n",
       "  font-family: monospace;\n",
       "  background-color: var(--sklearn-color-background);\n",
       "  border-radius: 1rem;\n",
       "  height: 1rem;\n",
       "  width: 1rem;\n",
       "  text-decoration: none;\n",
       "  /* unfitted */\n",
       "  color: var(--sklearn-color-unfitted-level-1);\n",
       "  border: var(--sklearn-color-unfitted-level-1) 1pt solid;\n",
       "}\n",
       "\n",
       "#sk-container-id-4 a.estimator_doc_link.fitted {\n",
       "  /* fitted */\n",
       "  border: var(--sklearn-color-fitted-level-1) 1pt solid;\n",
       "  color: var(--sklearn-color-fitted-level-1);\n",
       "}\n",
       "\n",
       "/* On hover */\n",
       "#sk-container-id-4 a.estimator_doc_link:hover {\n",
       "  /* unfitted */\n",
       "  background-color: var(--sklearn-color-unfitted-level-3);\n",
       "  color: var(--sklearn-color-background);\n",
       "  text-decoration: none;\n",
       "}\n",
       "\n",
       "#sk-container-id-4 a.estimator_doc_link.fitted:hover {\n",
       "  /* fitted */\n",
       "  background-color: var(--sklearn-color-fitted-level-3);\n",
       "}\n",
       "</style><div id=\"sk-container-id-4\" class=\"sk-top-container\"><div class=\"sk-text-repr-fallback\"><pre>KNeighborsClassifier()</pre><b>In a Jupyter environment, please rerun this cell to show the HTML representation or trust the notebook. <br />On GitHub, the HTML representation is unable to render, please try loading this page with nbviewer.org.</b></div><div class=\"sk-container\" hidden><div class=\"sk-item\"><div class=\"sk-estimator fitted sk-toggleable\"><input class=\"sk-toggleable__control sk-hidden--visually\" id=\"sk-estimator-id-6\" type=\"checkbox\" checked><label for=\"sk-estimator-id-6\" class=\"sk-toggleable__label fitted sk-toggleable__label-arrow\"><div><div>KNeighborsClassifier</div></div><div><a class=\"sk-estimator-doc-link fitted\" rel=\"noreferrer\" target=\"_blank\" href=\"https://scikit-learn.org/1.6/modules/generated/sklearn.neighbors.KNeighborsClassifier.html\">?<span>Documentation for KNeighborsClassifier</span></a><span class=\"sk-estimator-doc-link fitted\">i<span>Fitted</span></span></div></label><div class=\"sk-toggleable__content fitted\"><pre>KNeighborsClassifier()</pre></div> </div></div></div></div>"
      ],
      "text/plain": [
       "KNeighborsClassifier()"
      ]
     },
     "execution_count": 76,
     "metadata": {},
     "output_type": "execute_result"
    }
   ],
   "source": [
    "best_knn_clf =  KNeighborsClassifier()\n",
    "best_knn_clf.fit(X,y)"
   ]
  },
  {
   "cell_type": "markdown",
   "id": "ed72d543-e7b4-465a-b83d-9ae69fcf9c92",
   "metadata": {
    "id": "ed72d543-e7b4-465a-b83d-9ae69fcf9c92"
   },
   "source": [
    "Setelah model ini dilatih, evaluasi model yang sudah dilatih pada test set."
   ]
  },
  {
   "cell_type": "code",
   "execution_count": null,
   "id": "a53c64e4-00ad-4944-a17c-6b6289fd084e",
   "metadata": {
    "id": "a53c64e4-00ad-4944-a17c-6b6289fd084e"
   },
   "outputs": [],
   "source": [
    "tuned_accuracy = best_knn_clf.score(X_test,y_test)"
   ]
  },
  {
   "cell_type": "markdown",
   "id": "d8bdbae1-32ff-4826-b41b-081d1f5b21e3",
   "metadata": {
    "id": "d8bdbae1-32ff-4826-b41b-081d1f5b21e3"
   },
   "source": [
    "Tampikan isi dari `tuned_accuracy` yang merupakan akurasi model knn dengan best hyperparameter pada test set."
   ]
  },
  {
   "cell_type": "code",
   "execution_count": null,
   "id": "11de66d0-b9ea-423c-b528-2e2e3f587819",
   "metadata": {
    "colab": {
     "base_uri": "https://localhost:8080/"
    },
    "executionInfo": {
     "elapsed": 52,
     "status": "ok",
     "timestamp": 1741941161288,
     "user": {
      "displayName": "2372061 Laura Puspa Ameliana",
      "userId": "00688401487854314964"
     },
     "user_tz": -420
    },
    "id": "11de66d0-b9ea-423c-b528-2e2e3f587819",
    "outputId": "936c2c71-684d-42a0-c8f8-63c566405133"
   },
   "outputs": [
    {
     "name": "stdout",
     "output_type": "stream",
     "text": [
      "0.9814\n"
     ]
    }
   ],
   "source": [
    "print(tuned_accuracy)\n"
   ]
  },
  {
   "cell_type": "markdown",
   "id": "8360183f-91c9-4175-bf84-af8ed79fd980",
   "metadata": {
    "id": "8360183f-91c9-4175-bf84-af8ed79fd980"
   },
   "source": [
    "Hore, kita bisa mencapai akurasi 97%! 🥳"
   ]
  },
  {
   "cell_type": "markdown",
   "id": "9c7b4300",
   "metadata": {
    "id": "9c7b4300"
   },
   "source": [
    "<h2><center>The End</center></h2>"
   ]
  }
 ],
 "metadata": {
  "colab": {
   "provenance": []
  },
  "kernelspec": {
   "display_name": "Python 3 (ipykernel)",
   "language": "python",
   "name": "python3"
  },
  "language_info": {
   "codemirror_mode": {
    "name": "ipython",
    "version": 3
   },
   "file_extension": ".py",
   "mimetype": "text/x-python",
   "name": "python",
   "nbconvert_exporter": "python",
   "pygments_lexer": "ipython3",
   "version": "3.10.15"
  }
 },
 "nbformat": 4,
 "nbformat_minor": 5
}
