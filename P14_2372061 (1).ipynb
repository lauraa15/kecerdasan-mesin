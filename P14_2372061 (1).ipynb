{
 "cells": [
  {
   "cell_type": "markdown",
   "metadata": {
    "id": "Gx4xaWlrUEm2"
   },
   "source": [
    "# Studi Kasus: Unsupervised Learning"
   ]
  },
  {
   "cell_type": "markdown",
   "metadata": {
    "id": "ifUdzAcyUEm3"
   },
   "source": [
    "## <a id=\"toc\">Table of Content</a>\n",
    "1. [Clustering Olivetti Faces](#olivetti)\n",
    "2. [Using Gaussian mixture model](#mixture)"
   ]
  },
  {
   "cell_type": "markdown",
   "metadata": {
    "id": "iJgeIyV6UEm4"
   },
   "source": [
    "Kita import semua _libraries_."
   ]
  },
  {
   "cell_type": "code",
   "execution_count": 1,
   "metadata": {
    "executionInfo": {
     "elapsed": 3280,
     "status": "ok",
     "timestamp": 1749801795831,
     "user": {
      "displayName": "2372061 Laura Puspa Ameliana",
      "userId": "00688401487854314964"
     },
     "user_tz": -420
    },
    "id": "nnlYUJ3jUEm4"
   },
   "outputs": [],
   "source": [
    "from packaging import version\n",
    "import numpy as np\n",
    "import sklearn\n",
    "\n",
    "assert version.parse(sklearn.__version__) >= version.parse(\"1.0.1\")"
   ]
  },
  {
   "cell_type": "code",
   "execution_count": 2,
   "metadata": {
    "executionInfo": {
     "elapsed": 4,
     "status": "ok",
     "timestamp": 1749802690501,
     "user": {
      "displayName": "2372061 Laura Puspa Ameliana",
      "userId": "00688401487854314964"
     },
     "user_tz": -420
    },
    "id": "LdsiyvhNUEm5"
   },
   "outputs": [],
   "source": [
    "import matplotlib.pyplot as plt\n",
    "\n",
    "plt.rc('font', size=14)\n",
    "plt.rc('axes', labelsize=14, titlesize=14)\n",
    "plt.rc('legend', fontsize=14)\n",
    "plt.rc('xtick', labelsize=10)\n",
    "plt.rc('ytick', labelsize=10)"
   ]
  },
  {
   "cell_type": "code",
   "execution_count": 3,
   "metadata": {
    "executionInfo": {
     "elapsed": 5,
     "status": "ok",
     "timestamp": 1749802693508,
     "user": {
      "displayName": "2372061 Laura Puspa Ameliana",
      "userId": "00688401487854314964"
     },
     "user_tz": -420
    },
    "id": "Amm41AgOUEm5"
   },
   "outputs": [],
   "source": [
    "from pathlib import Path\n",
    "\n",
    "IMAGES_PATH = Path() / \"images\" / \"unsupervised_learning\"\n",
    "IMAGES_PATH.mkdir(parents=True, exist_ok=True)\n",
    "\n",
    "def save_fig(fig_id, tight_layout=True, fig_extension=\"png\", resolution=300):\n",
    "    path = IMAGES_PATH / f\"{fig_id}.{fig_extension}\"\n",
    "    if tight_layout:\n",
    "        plt.tight_layout()\n",
    "    plt.savefig(path, format=fig_extension, dpi=resolution)"
   ]
  },
  {
   "cell_type": "markdown",
   "metadata": {
    "id": "13k_GmrhUEm5"
   },
   "source": [
    "## <a id=\"olivetti\">Clustering dataset Olivetti Faces</a> (Back to [TOC](#toc))"
   ]
  },
  {
   "cell_type": "markdown",
   "metadata": {
    "id": "UmzepOkpUEm5"
   },
   "source": [
    "<div>\n",
    "    <img src=\"images-ch09/olivetti-faces.png\" width=500>\n",
    "</div>    "
   ]
  },
  {
   "cell_type": "markdown",
   "metadata": {
    "id": "dMQCQ7BxUEm5"
   },
   "source": [
    "- Dataset Olivetti faces berisi  400 grayscale 64 × 64–pixel gambar wajah orang.\n",
    "- Setiap gambar di-_flatten_ menjadi vektor 1D dengan panjang 4,096 (empat ribu sembilan puluh enam).\n",
    "- Empat puluh wajah orang yang berbeda difoto (10× untuk setiap orang).\n",
    "- Task untuk dataset ini umumnya adalah melatih model yang digunakan untuk memprediksi orang yang direpresentasikan di foto."
   ]
  },
  {
   "cell_type": "markdown",
   "metadata": {
    "id": "HosgwDuyUEm6"
   },
   "source": [
    "Mari kita load the dataset dengan menggunakan fungsi `sklearn.datasets.fetch_olivetti_faces()`."
   ]
  },
  {
   "cell_type": "code",
   "execution_count": 4,
   "metadata": {
    "colab": {
     "base_uri": "https://localhost:8080/"
    },
    "executionInfo": {
     "elapsed": 11731,
     "status": "ok",
     "timestamp": 1749802769510,
     "user": {
      "displayName": "2372061 Laura Puspa Ameliana",
      "userId": "00688401487854314964"
     },
     "user_tz": -420
    },
    "id": "G-SQUKOFUEm6",
    "outputId": "919ac88c-2986-47f9-8d85-598656a6a56a"
   },
   "outputs": [
    {
     "name": "stdout",
     "output_type": "stream",
     "text": [
      "downloading Olivetti faces from https://ndownloader.figshare.com/files/5976027 to /root/scikit_learn_data\n"
     ]
    }
   ],
   "source": [
    "from sklearn.datasets import fetch_olivetti_faces\n",
    "\n",
    "olivetti = fetch_olivetti_faces()"
   ]
  },
  {
   "cell_type": "markdown",
   "metadata": {
    "id": "cURs1unvUEm6"
   },
   "source": [
    "Kita lihat deskripsi dataset Olivetti."
   ]
  },
  {
   "cell_type": "code",
   "execution_count": 5,
   "metadata": {
    "colab": {
     "base_uri": "https://localhost:8080/"
    },
    "executionInfo": {
     "elapsed": 45,
     "status": "ok",
     "timestamp": 1749802783748,
     "user": {
      "displayName": "2372061 Laura Puspa Ameliana",
      "userId": "00688401487854314964"
     },
     "user_tz": -420
    },
    "id": "8f2CmSo0UEm6",
    "outputId": "338b8668-26ac-4bc9-ab63-f13c970aba52"
   },
   "outputs": [
    {
     "name": "stdout",
     "output_type": "stream",
     "text": [
      ".. _olivetti_faces_dataset:\n",
      "\n",
      "The Olivetti faces dataset\n",
      "--------------------------\n",
      "\n",
      "`This dataset contains a set of face images`_ taken between April 1992 and\n",
      "April 1994 at AT&T Laboratories Cambridge. The\n",
      ":func:`sklearn.datasets.fetch_olivetti_faces` function is the data\n",
      "fetching / caching function that downloads the data\n",
      "archive from AT&T.\n",
      "\n",
      ".. _This dataset contains a set of face images: https://cam-orl.co.uk/facedatabase.html\n",
      "\n",
      "As described on the original website:\n",
      "\n",
      "    There are ten different images of each of 40 distinct subjects. For some\n",
      "    subjects, the images were taken at different times, varying the lighting,\n",
      "    facial expressions (open / closed eyes, smiling / not smiling) and facial\n",
      "    details (glasses / no glasses). All the images were taken against a dark\n",
      "    homogeneous background with the subjects in an upright, frontal position\n",
      "    (with tolerance for some side movement).\n",
      "\n",
      "**Data Set Characteristics:**\n",
      "\n",
      "=================   =====================\n",
      "Classes                                40\n",
      "Samples total                         400\n",
      "Dimensionality                       4096\n",
      "Features            real, between 0 and 1\n",
      "=================   =====================\n",
      "\n",
      "The image is quantized to 256 grey levels and stored as unsigned 8-bit\n",
      "integers; the loader will convert these to floating point values on the\n",
      "interval [0, 1], which are easier to work with for many algorithms.\n",
      "\n",
      "The \"target\" for this database is an integer from 0 to 39 indicating the\n",
      "identity of the person pictured; however, with only 10 examples per class, this\n",
      "relatively small dataset is more interesting from an unsupervised or\n",
      "semi-supervised perspective.\n",
      "\n",
      "The original dataset consisted of 92 x 112, while the version available here\n",
      "consists of 64x64 images.\n",
      "\n",
      "When using these images, please give credit to AT&T Laboratories Cambridge.\n",
      "\n"
     ]
    }
   ],
   "source": [
    "print(olivetti.DESCR)"
   ]
  },
  {
   "cell_type": "markdown",
   "metadata": {
    "id": "OGB7C2qEUEm6"
   },
   "source": [
    "Kita tampilkan nilai target-target-nya.   \n",
    "Terlihat bahwa terdapat 40 nilai dari 0 s.d. 39, yang berarti 40 orang."
   ]
  },
  {
   "cell_type": "code",
   "execution_count": 6,
   "metadata": {
    "colab": {
     "base_uri": "https://localhost:8080/"
    },
    "executionInfo": {
     "elapsed": 13,
     "status": "ok",
     "timestamp": 1749802798746,
     "user": {
      "displayName": "2372061 Laura Puspa Ameliana",
      "userId": "00688401487854314964"
     },
     "user_tz": -420
    },
    "id": "IKLGTXCmUEm6",
    "outputId": "b5e5e57f-3d5f-4c88-ee9f-07dc4ec2a17b"
   },
   "outputs": [
    {
     "data": {
      "text/plain": [
       "array([ 0,  0,  0,  0,  0,  0,  0,  0,  0,  0,  1,  1,  1,  1,  1,  1,  1,\n",
       "        1,  1,  1,  2,  2,  2,  2,  2,  2,  2,  2,  2,  2,  3,  3,  3,  3,\n",
       "        3,  3,  3,  3,  3,  3,  4,  4,  4,  4,  4,  4,  4,  4,  4,  4,  5,\n",
       "        5,  5,  5,  5,  5,  5,  5,  5,  5,  6,  6,  6,  6,  6,  6,  6,  6,\n",
       "        6,  6,  7,  7,  7,  7,  7,  7,  7,  7,  7,  7,  8,  8,  8,  8,  8,\n",
       "        8,  8,  8,  8,  8,  9,  9,  9,  9,  9,  9,  9,  9,  9,  9, 10, 10,\n",
       "       10, 10, 10, 10, 10, 10, 10, 10, 11, 11, 11, 11, 11, 11, 11, 11, 11,\n",
       "       11, 12, 12, 12, 12, 12, 12, 12, 12, 12, 12, 13, 13, 13, 13, 13, 13,\n",
       "       13, 13, 13, 13, 14, 14, 14, 14, 14, 14, 14, 14, 14, 14, 15, 15, 15,\n",
       "       15, 15, 15, 15, 15, 15, 15, 16, 16, 16, 16, 16, 16, 16, 16, 16, 16,\n",
       "       17, 17, 17, 17, 17, 17, 17, 17, 17, 17, 18, 18, 18, 18, 18, 18, 18,\n",
       "       18, 18, 18, 19, 19, 19, 19, 19, 19, 19, 19, 19, 19, 20, 20, 20, 20,\n",
       "       20, 20, 20, 20, 20, 20, 21, 21, 21, 21, 21, 21, 21, 21, 21, 21, 22,\n",
       "       22, 22, 22, 22, 22, 22, 22, 22, 22, 23, 23, 23, 23, 23, 23, 23, 23,\n",
       "       23, 23, 24, 24, 24, 24, 24, 24, 24, 24, 24, 24, 25, 25, 25, 25, 25,\n",
       "       25, 25, 25, 25, 25, 26, 26, 26, 26, 26, 26, 26, 26, 26, 26, 27, 27,\n",
       "       27, 27, 27, 27, 27, 27, 27, 27, 28, 28, 28, 28, 28, 28, 28, 28, 28,\n",
       "       28, 29, 29, 29, 29, 29, 29, 29, 29, 29, 29, 30, 30, 30, 30, 30, 30,\n",
       "       30, 30, 30, 30, 31, 31, 31, 31, 31, 31, 31, 31, 31, 31, 32, 32, 32,\n",
       "       32, 32, 32, 32, 32, 32, 32, 33, 33, 33, 33, 33, 33, 33, 33, 33, 33,\n",
       "       34, 34, 34, 34, 34, 34, 34, 34, 34, 34, 35, 35, 35, 35, 35, 35, 35,\n",
       "       35, 35, 35, 36, 36, 36, 36, 36, 36, 36, 36, 36, 36, 37, 37, 37, 37,\n",
       "       37, 37, 37, 37, 37, 37, 38, 38, 38, 38, 38, 38, 38, 38, 38, 38, 39,\n",
       "       39, 39, 39, 39, 39, 39, 39, 39, 39])"
      ]
     },
     "execution_count": 6,
     "metadata": {},
     "output_type": "execute_result"
    }
   ],
   "source": [
    "olivetti.target"
   ]
  },
  {
   "cell_type": "code",
   "execution_count": 7,
   "metadata": {
    "colab": {
     "base_uri": "https://localhost:8080/"
    },
    "executionInfo": {
     "elapsed": 45,
     "status": "ok",
     "timestamp": 1749802852857,
     "user": {
      "displayName": "2372061 Laura Puspa Ameliana",
      "userId": "00688401487854314964"
     },
     "user_tz": -420
    },
    "id": "CwB969HSUEm6",
    "outputId": "ce125cc9-e1f8-44a8-ca54-3faab5cfd968"
   },
   "outputs": [
    {
     "data": {
      "text/plain": [
       "(400, 4096)"
      ]
     },
     "execution_count": 7,
     "metadata": {},
     "output_type": "execute_result"
    }
   ],
   "source": [
    "olivetti.data.shape"
   ]
  },
  {
   "cell_type": "markdown",
   "metadata": {
    "id": "Ib2tzqUNUEm7"
   },
   "source": [
    "- Selanjutnya, anda akan bagi dataset menjadi training set, validation set, dan test set.    \n",
    "- Perhatikan bahwa dataset ini sudah dikenakan normalisasi/standarisasi sehingga nilai pixel-nilai pixel berada di antara 0 dan 1.    \n",
    "- Karena dataset ini cukup kecil, anda akan menggunakan stratified sampling."
   ]
  },
  {
   "cell_type": "markdown",
   "metadata": {
    "id": "kxZGsVmfUEm7"
   },
   "source": [
    "### Pertanyaan Refleksi\n",
    "> Mengapa stratified sampling digunakan pada dataset ini?\n",
    "\n",
    "Jawab:\n",
    "stratified sampling digunakan untuk menjaga keseimbangan distribusi kelas dalam setiap subset data, yang sangat penting untuk dataset yang kecil dan memiliki banyak kelas seperti dataset Olivetti Faces.\n"
   ]
  },
  {
   "cell_type": "code",
   "execution_count": 8,
   "metadata": {
    "executionInfo": {
     "elapsed": 226,
     "status": "ok",
     "timestamp": 1749802896011,
     "user": {
      "displayName": "2372061 Laura Puspa Ameliana",
      "userId": "00688401487854314964"
     },
     "user_tz": -420
    },
    "id": "2qF7qyFaUEm7"
   },
   "outputs": [],
   "source": [
    "from sklearn.model_selection import StratifiedShuffleSplit\n",
    "\n",
    "strat_split = StratifiedShuffleSplit(n_splits=1, test_size=40, random_state=42)\n",
    "train_valid_idx, test_idx = next(strat_split.split(olivetti.data,\n",
    "                                                   olivetti.target))\n",
    "X_train_valid = olivetti.data[train_valid_idx]\n",
    "y_train_valid = olivetti.target[train_valid_idx]\n",
    "X_test = olivetti.data[test_idx]\n",
    "y_test = olivetti.target[test_idx]\n",
    "\n",
    "strat_split = StratifiedShuffleSplit(n_splits=1, test_size=80, random_state=43)\n",
    "train_idx, valid_idx = next(strat_split.split(X_train_valid, y_train_valid))\n",
    "X_train = X_train_valid[train_idx]\n",
    "y_train = y_train_valid[train_idx]\n",
    "X_valid = X_train_valid[valid_idx]\n",
    "y_valid = y_train_valid[valid_idx]"
   ]
  },
  {
   "cell_type": "code",
   "execution_count": 23,
   "metadata": {
    "colab": {
     "base_uri": "https://localhost:8080/"
    },
    "executionInfo": {
     "elapsed": 45,
     "status": "ok",
     "timestamp": 1749803821582,
     "user": {
      "displayName": "2372061 Laura Puspa Ameliana",
      "userId": "00688401487854314964"
     },
     "user_tz": -420
    },
    "id": "YyyfGp1vb2Bh",
    "outputId": "f545eb21-fd09-44a4-ffa4-2d82564316ae"
   },
   "outputs": [
    {
     "name": "stdout",
     "output_type": "stream",
     "text": [
      "Jumlah instance pada train set: 280\n",
      "Jumlah instance pada validation set: 80\n",
      "Jumlah instance pada test set: 40\n"
     ]
    }
   ],
   "source": [
    "print(f\"Jumlah instance pada train set: {X_train.shape[0]}\")\n",
    "print(f\"Jumlah instance pada validation set: {X_valid.shape[0]}\")\n",
    "print(f\"Jumlah instance pada test set: {X_test.shape[0]}\")"
   ]
  },
  {
   "cell_type": "markdown",
   "metadata": {
    "id": "MSbVJmzIUEm7"
   },
   "source": [
    "### Pertanyaan refleksi\n",
    " 1. Berapakah jumlah instance pada train set? 280\n",
    " 2. Berapakah jumlah instance pada validation set? 80\n",
    " 3. Berapakah jumlah instance pada test set? 40"
   ]
  },
  {
   "cell_type": "markdown",
   "metadata": {
    "id": "YApXBAR4UEm7"
   },
   "source": [
    "Sebagai eksperimen, _dimensionality_ dari dataset akan dikurangi dengan menggunakan PCA dengan mempertahankan _explained variance ratio_ 99%:"
   ]
  },
  {
   "cell_type": "code",
   "execution_count": 10,
   "metadata": {
    "executionInfo": {
     "elapsed": 2136,
     "status": "ok",
     "timestamp": 1749802932064,
     "user": {
      "displayName": "2372061 Laura Puspa Ameliana",
      "userId": "00688401487854314964"
     },
     "user_tz": -420
    },
    "id": "lDYi6o7VUEm7"
   },
   "outputs": [],
   "source": [
    "from sklearn.decomposition import PCA\n",
    "\n",
    "pca = PCA(0.99)\n",
    "X_train_pca = pca.fit_transform(X_train)\n",
    "X_valid_pca = pca.transform(X_valid)\n",
    "X_test_pca = pca.transform(X_test)\n"
   ]
  },
  {
   "cell_type": "markdown",
   "metadata": {
    "id": "IiqSBEClUEm7"
   },
   "source": [
    "Silakan anda tampilkan jumlah principal components dari `pca` yang sudah dilatih."
   ]
  },
  {
   "cell_type": "code",
   "execution_count": 11,
   "metadata": {
    "colab": {
     "base_uri": "https://localhost:8080/"
    },
    "executionInfo": {
     "elapsed": 52,
     "status": "ok",
     "timestamp": 1749802969632,
     "user": {
      "displayName": "2372061 Laura Puspa Ameliana",
      "userId": "00688401487854314964"
     },
     "user_tz": -420
    },
    "id": "89iBrOE3UEm7",
    "outputId": "ac09c633-3021-47d1-90ec-4fb5d57dd23b"
   },
   "outputs": [
    {
     "data": {
      "text/plain": [
       "np.int64(199)"
      ]
     },
     "execution_count": 11,
     "metadata": {},
     "output_type": "execute_result"
    }
   ],
   "source": [
    "pca.n_components_"
   ]
  },
  {
   "cell_type": "markdown",
   "metadata": {
    "id": "AOfZQGArUEm7"
   },
   "source": [
    "### Pertanyaan Refleksi\n",
    "Berapakah jumlah _principal components_ yang dibutuhkan untuk mempertahankan _explained variance ratio_ 99%? 199\n"
   ]
  },
  {
   "cell_type": "markdown",
   "metadata": {
    "id": "kCYuWnrQUEm7"
   },
   "source": [
    "Kemudian, anda akan melakukan _clustering_ dengan menggunakan K-means. Akan tetapi, anda harus menentukan jumlah cluster yang bagus. Oleh karena itu, anda akan\n",
    "1. membuat `KMeans` untuk suatu nilai jumlah cluster tertentu,\n",
    "2. mengumpulkan `KMeans` yang sudah dibuat ke dalam list, dan\n",
    "3. membuat\n",
    "    - plot dengan sumbu $x$, jumlah cluster dan sumbu $y$, nilai _silhouette score_.\n",
    "    - plot dengan sumbu $x$, jumlah cluster dan sumbu $y$, nilai _inertia_."
   ]
  },
  {
   "cell_type": "markdown",
   "metadata": {
    "id": "p-3vbisUUEm7"
   },
   "source": [
    "Anda akan membuat model `KMeans` dengan jumlah cluster dari 5, 10, 15, 20, $\\ldots$, 150.     \n",
    "**Catatan**: gunakan `random_state=42`"
   ]
  },
  {
   "cell_type": "code",
   "execution_count": 26,
   "metadata": {
    "colab": {
     "base_uri": "https://localhost:8080/"
    },
    "executionInfo": {
     "elapsed": 2865,
     "status": "ok",
     "timestamp": 1749804638199,
     "user": {
      "displayName": "2372061 Laura Puspa Ameliana",
      "userId": "00688401487854314964"
     },
     "user_tz": -420
    },
    "id": "wlQXETyJUEm7",
    "outputId": "3c96a881-d6d0-4acf-c8c3-e3610cd281ab"
   },
   "outputs": [
    {
     "name": "stdout",
     "output_type": "stream",
     "text": [
      "k=5\n",
      "k=10\n",
      "k=15\n",
      "k=20\n",
      "k=25\n",
      "k=30\n",
      "k=35\n",
      "k=40\n",
      "k=45\n",
      "k=50\n",
      "k=55\n",
      "k=60\n",
      "k=65\n",
      "k=70\n",
      "k=75\n",
      "k=80\n",
      "k=85\n",
      "k=90\n",
      "k=95\n",
      "k=100\n",
      "k=105\n",
      "k=110\n",
      "k=115\n",
      "k=120\n",
      "k=125\n",
      "k=130\n",
      "k=135\n",
      "k=140\n",
      "k=145\n"
     ]
    }
   ],
   "source": [
    "from sklearn.cluster import KMeans\n",
    "\n",
    "k_range = range(5, 150, 5)\n",
    "kmeans_per_k = []\n",
    "for k in k_range:\n",
    "    print(f\"k={k}\")\n",
    "\n",
    "    # Buatlah kmeans dengan jumlah cluster k dan random_state=42\n",
    "    kmeans = KMeans(n_clusters=k, random_state=42)\n",
    "\n",
    "    # Latih kmeans dengan data latih\n",
    "    kmeans.fit(X_train_pca)\n",
    "\n",
    "    # Kumpulkan kmeans yang sudah dilatih ke dalam list\n",
    "    kmeans_per_k.append(kmeans)"
   ]
  },
  {
   "cell_type": "markdown",
   "metadata": {
    "id": "U0l9gg3lUEm7"
   },
   "source": [
    "Selanjutnya, anda akan\n",
    "1. menghitung nilai _**silhouette score**_ dari setiap model `KMeans` yang sudah dibuat.\n",
    "2. mencari best `k` (jumlah cluster).\n",
    "3. mencari best `score` dari semua silhouette score.\n",
    "\n",
    "**Tip**:\n",
    "Anda dapat menggunakan `np.argmax` untuk mencari indeks dengan nilai **silhouette score** kemudian memakai indeks tersebut untuk mencari best `k` dan best `score`."
   ]
  },
  {
   "cell_type": "code",
   "execution_count": 27,
   "metadata": {
    "colab": {
     "base_uri": "https://localhost:8080/",
     "height": 320
    },
    "executionInfo": {
     "elapsed": 333,
     "status": "ok",
     "timestamp": 1749804642140,
     "user": {
      "displayName": "2372061 Laura Puspa Ameliana",
      "userId": "00688401487854314964"
     },
     "user_tz": -420
    },
    "id": "iI_BBdEXUEm7",
    "outputId": "1b1f9972-95e0-49b2-c3e6-22945b7570f9"
   },
   "outputs": [
    {
     "data": {
      "image/png": "[encoded data removed]",
      "text/plain": [
       "<Figure size 800x300 with 1 Axes>"
      ]
     },
     "metadata": {},
     "output_type": "display_data"
    }
   ],
   "source": [
    "from sklearn.metrics import silhouette_score\n",
    "\n",
    "# Hitunglah silhouette score dari setiap model di kmeans_per_k dan\n",
    "# simpan scores-nya dalam variabel silhouette_scores\n",
    "silhouette_scores = [silhouette_score(X_train_pca, model.labels_) for model in kmeans_per_k]\n",
    "\n",
    "# tentukan best_index dari silhouette scores yang terbesar\n",
    "best_index = np.argmax(silhouette_scores)\n",
    "best_score = silhouette_scores[best_index]\n",
    "\n",
    "best_k = k_range[best_index]\n",
    "best_score = silhouette_scores[best_index]\n",
    "\n",
    "plt.figure(figsize=(8, 3))\n",
    "plt.plot(k_range, silhouette_scores, \"bo-\")\n",
    "plt.xlabel(\"$k$\")\n",
    "plt.ylabel(\"Silhouette score\")\n",
    "plt.plot(best_k, best_score, \"rs\")\n",
    "plt.grid()\n",
    "plt.show()"
   ]
  },
  {
   "cell_type": "markdown",
   "metadata": {
    "id": "mNPHAuFJUEm8"
   },
   "source": [
    "### Pertanyaan Refleksi\n",
    "> Berapakah nilai `k` yang memberikan silhouette score terbaik? 75"
   ]
  },
  {
   "cell_type": "code",
   "execution_count": 28,
   "metadata": {
    "colab": {
     "base_uri": "https://localhost:8080/"
    },
    "executionInfo": {
     "elapsed": 14,
     "status": "ok",
     "timestamp": 1749804646611,
     "user": {
      "displayName": "2372061 Laura Puspa Ameliana",
      "userId": "00688401487854314964"
     },
     "user_tz": -420
    },
    "id": "ZtAaooZaUEm8",
    "outputId": "b2abec7f-3b72-4150-de84-f7e8f9351778"
   },
   "outputs": [
    {
     "data": {
      "text/plain": [
       "75"
      ]
     },
     "execution_count": 28,
     "metadata": {},
     "output_type": "execute_result"
    }
   ],
   "source": [
    "best_k"
   ]
  },
  {
   "cell_type": "markdown",
   "metadata": {
    "id": "VV-ke-JEUEm8"
   },
   "source": [
    "Jumlah cluster yang anda temukan cukup besar ya ... padahal anda _expect_ jumlah cluster sekitar 40 ya karena terdapat 40 wajah orang yang berbeda pada gambar. Akan tetapi, wajah orang yang sama mungkin menjadi wajah yang berbeda ketika wajah tersebut difoto dari sudut yang berbeda atau memakai kacamata.   "
   ]
  },
  {
   "cell_type": "markdown",
   "metadata": {
    "id": "YRBESgvkUEm8"
   },
   "source": [
    "Dengan menggunakan cara yang sama seperti nilai **silhouette score**, plot-lah grafik dengan sumbu $x$, jumlah cluster dan sumbu $y$, nilai _inertia_."
   ]
  },
  {
   "cell_type": "code",
   "execution_count": 15,
   "metadata": {
    "colab": {
     "base_uri": "https://localhost:8080/",
     "height": 354
    },
    "executionInfo": {
     "elapsed": 390,
     "status": "ok",
     "timestamp": 1749803259868,
     "user": {
      "displayName": "2372061 Laura Puspa Ameliana",
      "userId": "00688401487854314964"
     },
     "user_tz": -420
    },
    "id": "Go7dAhT-UEm8",
    "outputId": "579b3662-1ca6-401e-9082-debc09242ca6"
   },
   "outputs": [
    {
     "data": {
      "image/png": "[encoded data removed]",
      "text/plain": [
       "<Figure size 800x350 with 1 Axes>"
      ]
     },
     "metadata": {},
     "output_type": "display_data"
    }
   ],
   "source": [
    "# Hitunglah inertia dari setiap model di kmeans_per_k dan\n",
    "# simpan inertia-nya dalam variabel inertias\n",
    "inertias = [model.inertia_ for model in kmeans_per_k]\n",
    "\n",
    "\n",
    "\n",
    "best_inertia = inertias[best_index]\n",
    "\n",
    "plt.figure(figsize=(8, 3.5))\n",
    "plt.plot(k_range, inertias, \"bo-\")\n",
    "plt.xlabel(\"$k$\")\n",
    "plt.ylabel(\"Inertia\")\n",
    "plt.plot(best_k, best_inertia, \"rs\")\n",
    "plt.grid()\n",
    "plt.show()"
   ]
  },
  {
   "cell_type": "markdown",
   "metadata": {
    "id": "b13dZofiUEm8"
   },
   "source": [
    "Jumlah cluster terbaik tidak begitu jelas dalam diagram inertia ini karena tidak ada _**elbow**_ yang jelas, anda tentukan jumlah cluster terbaik adalah `k=120`."
   ]
  },
  {
   "cell_type": "code",
   "execution_count": 16,
   "metadata": {
    "executionInfo": {
     "elapsed": 4,
     "status": "ok",
     "timestamp": 1749803277033,
     "user": {
      "displayName": "2372061 Laura Puspa Ameliana",
      "userId": "00688401487854314964"
     },
     "user_tz": -420
    },
    "id": "DXl2_uayUEm8"
   },
   "outputs": [],
   "source": [
    "best_model = kmeans_per_k[best_index]"
   ]
  },
  {
   "cell_type": "markdown",
   "metadata": {
    "id": "3VdsWAZuUEm8"
   },
   "source": [
    "Selanjutnya, anda akan menvisualisasikan *the clusters* ....     \n",
    "Apakah anda melihat wajah-wajah yang mirip dalam setiap cluster? Ya"
   ]
  },
  {
   "cell_type": "code",
   "execution_count": 17,
   "metadata": {
    "colab": {
     "base_uri": "https://localhost:8080/",
     "height": 1000,
     "output_embedded_package_id": "1JPOub9kPT8xATBd8a99X-wlDjdvIjBfO"
    },
    "executionInfo": {
     "elapsed": 12585,
     "status": "ok",
     "timestamp": 1749803290994,
     "user": {
      "displayName": "2372061 Laura Puspa Ameliana",
      "userId": "00688401487854314964"
     },
     "user_tz": -420
    },
    "id": "jfn5cTfFUEm8",
    "outputId": "c823c5d5-5366-4b63-dc25-a0ad4e861295"
   },
   "outputs": [
    {
     "data": {
      "text/plain": [
       "Output hidden; open in https://colab.research.google.com to view."
      ]
     },
     "metadata": {},
     "output_type": "display_data"
    }
   ],
   "source": [
    "def plot_faces(faces, labels, n_cols=5):\n",
    "    faces = faces.reshape(-1, 64, 64)\n",
    "    n_rows = (len(faces) - 1) // n_cols + 1\n",
    "    plt.figure(figsize=(n_cols, n_rows * 1.1))\n",
    "    for index, (face, label) in enumerate(zip(faces, labels)):\n",
    "        plt.subplot(n_rows, n_cols, index + 1)\n",
    "        plt.imshow(face, cmap=\"gray\")\n",
    "        plt.axis(\"off\")\n",
    "        plt.title(label)\n",
    "    plt.show()\n",
    "\n",
    "for cluster_id in np.unique(best_model.labels_):\n",
    "    print(\"Cluster\", cluster_id)\n",
    "    in_cluster = best_model.labels_==cluster_id\n",
    "    faces = X_train[in_cluster]\n",
    "    labels = y_train[in_cluster]\n",
    "    plot_faces(faces, labels)"
   ]
  },
  {
   "cell_type": "markdown",
   "metadata": {
    "id": "QzkIkJHfUEnB"
   },
   "source": [
    "## <a id=\"mixture\">Gaussian Mixture Model untuk dataset Olivetti Faces</a> (Back to [TOC](#toc))"
   ]
  },
  {
   "cell_type": "markdown",
   "metadata": {
    "id": "a9QMp5KEUEnB"
   },
   "source": [
    "- Dalam bagian ini, anda akan melatih Gaussian _mixture model_ pada dataset Olivetti faces.\n",
    "- Untuk mempercepat algoritma, anda sebaiknya mengurangi _dimensionality_ dari dataset dengan menggunakan PCA dan mempertahankan _explained variance ratio_ 99%."
   ]
  },
  {
   "cell_type": "markdown",
   "metadata": {
    "id": "fs__Cd_2UEnB"
   },
   "source": [
    "Silakan anda buat suatu model Gaussian mixture dengan banyak komponen sebanyak **40** dan `random_state=42`."
   ]
  },
  {
   "cell_type": "code",
   "execution_count": 30,
   "metadata": {
    "executionInfo": {
     "elapsed": 48,
     "status": "ok",
     "timestamp": 1749804670888,
     "user": {
      "displayName": "2372061 Laura Puspa Ameliana",
      "userId": "00688401487854314964"
     },
     "user_tz": -420
    },
    "id": "EECaw62zUEnB"
   },
   "outputs": [],
   "source": [
    "from sklearn.mixture import GaussianMixture\n",
    "\n",
    "gm = GaussianMixture(n_components=40, random_state=42)\n"
   ]
  },
  {
   "cell_type": "markdown",
   "metadata": {
    "id": "LqxAh7RpUEnB"
   },
   "source": [
    "Silakan anda gunakan method `fit` untuk melatih model `GaussianMixture`."
   ]
  },
  {
   "cell_type": "code",
   "execution_count": 31,
   "metadata": {
    "colab": {
     "base_uri": "https://localhost:8080/",
     "height": 80
    },
    "executionInfo": {
     "elapsed": 1000,
     "status": "ok",
     "timestamp": 1749804673491,
     "user": {
      "displayName": "2372061 Laura Puspa Ameliana",
      "userId": "00688401487854314964"
     },
     "user_tz": -420
    },
    "id": "GelXPVoRUEnC",
    "outputId": "1db7d7d5-5a9c-4864-ae4d-848ce703f956"
   },
   "outputs": [
    {
     "data": {
      "text/html": [
       "<style>#sk-container-id-2 {\n",
       "  /* Definition of color scheme common for light and dark mode */\n",
       "  --sklearn-color-text: #000;\n",
       "  --sklearn-color-text-muted: #666;\n",
       "  --sklearn-color-line: gray;\n",
       "  /* Definition of color scheme for unfitted estimators */\n",
       "  --sklearn-color-unfitted-level-0: #fff5e6;\n",
       "  --sklearn-color-unfitted-level-1: #f6e4d2;\n",
       "  --sklearn-color-unfitted-level-2: #ffe0b3;\n",
       "  --sklearn-color-unfitted-level-3: chocolate;\n",
       "  /* Definition of color scheme for fitted estimators */\n",
       "  --sklearn-color-fitted-level-0: #f0f8ff;\n",
       "  --sklearn-color-fitted-level-1: #d4ebff;\n",
       "  --sklearn-color-fitted-level-2: #b3dbfd;\n",
       "  --sklearn-color-fitted-level-3: cornflowerblue;\n",
       "\n",
       "  /* Specific color for light theme */\n",
       "  --sklearn-color-text-on-default-background: var(--sg-text-color, var(--theme-code-foreground, var(--jp-content-font-color1, black)));\n",
       "  --sklearn-color-background: var(--sg-background-color, var(--theme-background, var(--jp-layout-color0, white)));\n",
       "  --sklearn-color-border-box: var(--sg-text-color, var(--theme-code-foreground, var(--jp-content-font-color1, black)));\n",
       "  --sklearn-color-icon: #696969;\n",
       "\n",
       "  @media (prefers-color-scheme: dark) {\n",
       "    /* Redefinition of color scheme for dark theme */\n",
       "    --sklearn-color-text-on-default-background: var(--sg-text-color, var(--theme-code-foreground, var(--jp-content-font-color1, white)));\n",
       "    --sklearn-color-background: var(--sg-background-color, var(--theme-background, var(--jp-layout-color0, #111)));\n",
       "    --sklearn-color-border-box: var(--sg-text-color, var(--theme-code-foreground, var(--jp-content-font-color1, white)));\n",
       "    --sklearn-color-icon: #878787;\n",
       "  }\n",
       "}\n",
       "\n",
       "#sk-container-id-2 {\n",
       "  color: var(--sklearn-color-text);\n",
       "}\n",
       "\n",
       "#sk-container-id-2 pre {\n",
       "  padding: 0;\n",
       "}\n",
       "\n",
       "#sk-container-id-2 input.sk-hidden--visually {\n",
       "  border: 0;\n",
       "  clip: rect(1px 1px 1px 1px);\n",
       "  clip: rect(1px, 1px, 1px, 1px);\n",
       "  height: 1px;\n",
       "  margin: -1px;\n",
       "  overflow: hidden;\n",
       "  padding: 0;\n",
       "  position: absolute;\n",
       "  width: 1px;\n",
       "}\n",
       "\n",
       "#sk-container-id-2 div.sk-dashed-wrapped {\n",
       "  border: 1px dashed var(--sklearn-color-line);\n",
       "  margin: 0 0.4em 0.5em 0.4em;\n",
       "  box-sizing: border-box;\n",
       "  padding-bottom: 0.4em;\n",
       "  background-color: var(--sklearn-color-background);\n",
       "}\n",
       "\n",
       "#sk-container-id-2 div.sk-container {\n",
       "  /* jupyter's `normalize.less` sets `[hidden] { display: none; }`\n",
       "     but bootstrap.min.css set `[hidden] { display: none !important; }`\n",
       "     so we also need the `!important` here to be able to override the\n",
       "     default hidden behavior on the sphinx rendered scikit-learn.org.\n",
       "     See: https://github.com/scikit-learn/scikit-learn/issues/21755 */\n",
       "  display: inline-block !important;\n",
       "  position: relative;\n",
       "}\n",
       "\n",
       "#sk-container-id-2 div.sk-text-repr-fallback {\n",
       "  display: none;\n",
       "}\n",
       "\n",
       "div.sk-parallel-item,\n",
       "div.sk-serial,\n",
       "div.sk-item {\n",
       "  /* draw centered vertical line to link estimators */\n",
       "  background-image: linear-gradient(var(--sklearn-color-text-on-default-background), var(--sklearn-color-text-on-default-background));\n",
       "  background-size: 2px 100%;\n",
       "  background-repeat: no-repeat;\n",
       "  background-position: center center;\n",
       "}\n",
       "\n",
       "/* Parallel-specific style estimator block */\n",
       "\n",
       "#sk-container-id-2 div.sk-parallel-item::after {\n",
       "  content: \"\";\n",
       "  width: 100%;\n",
       "  border-bottom: 2px solid var(--sklearn-color-text-on-default-background);\n",
       "  flex-grow: 1;\n",
       "}\n",
       "\n",
       "#sk-container-id-2 div.sk-parallel {\n",
       "  display: flex;\n",
       "  align-items: stretch;\n",
       "  justify-content: center;\n",
       "  background-color: var(--sklearn-color-background);\n",
       "  position: relative;\n",
       "}\n",
       "\n",
       "#sk-container-id-2 div.sk-parallel-item {\n",
       "  display: flex;\n",
       "  flex-direction: column;\n",
       "}\n",
       "\n",
       "#sk-container-id-2 div.sk-parallel-item:first-child::after {\n",
       "  align-self: flex-end;\n",
       "  width: 50%;\n",
       "}\n",
       "\n",
       "#sk-container-id-2 div.sk-parallel-item:last-child::after {\n",
       "  align-self: flex-start;\n",
       "  width: 50%;\n",
       "}\n",
       "\n",
       "#sk-container-id-2 div.sk-parallel-item:only-child::after {\n",
       "  width: 0;\n",
       "}\n",
       "\n",
       "/* Serial-specific style estimator block */\n",
       "\n",
       "#sk-container-id-2 div.sk-serial {\n",
       "  display: flex;\n",
       "  flex-direction: column;\n",
       "  align-items: center;\n",
       "  background-color: var(--sklearn-color-background);\n",
       "  padding-right: 1em;\n",
       "  padding-left: 1em;\n",
       "}\n",
       "\n",
       "\n",
       "/* Toggleable style: style used for estimator/Pipeline/ColumnTransformer box that is\n",
       "clickable and can be expanded/collapsed.\n",
       "- Pipeline and ColumnTransformer use this feature and define the default style\n",
       "- Estimators will overwrite some part of the style using the `sk-estimator` class\n",
       "*/\n",
       "\n",
       "/* Pipeline and ColumnTransformer style (default) */\n",
       "\n",
       "#sk-container-id-2 div.sk-toggleable {\n",
       "  /* Default theme specific background. It is overwritten whether we have a\n",
       "  specific estimator or a Pipeline/ColumnTransformer */\n",
       "  background-color: var(--sklearn-color-background);\n",
       "}\n",
       "\n",
       "/* Toggleable label */\n",
       "#sk-container-id-2 label.sk-toggleable__label {\n",
       "  cursor: pointer;\n",
       "  display: flex;\n",
       "  width: 100%;\n",
       "  margin-bottom: 0;\n",
       "  padding: 0.5em;\n",
       "  box-sizing: border-box;\n",
       "  text-align: center;\n",
       "  align-items: start;\n",
       "  justify-content: space-between;\n",
       "  gap: 0.5em;\n",
       "}\n",
       "\n",
       "#sk-container-id-2 label.sk-toggleable__label .caption {\n",
       "  font-size: 0.6rem;\n",
       "  font-weight: lighter;\n",
       "  color: var(--sklearn-color-text-muted);\n",
       "}\n",
       "\n",
       "#sk-container-id-2 label.sk-toggleable__label-arrow:before {\n",
       "  /* Arrow on the left of the label */\n",
       "  content: \"▸\";\n",
       "  float: left;\n",
       "  margin-right: 0.25em;\n",
       "  color: var(--sklearn-color-icon);\n",
       "}\n",
       "\n",
       "#sk-container-id-2 label.sk-toggleable__label-arrow:hover:before {\n",
       "  color: var(--sklearn-color-text);\n",
       "}\n",
       "\n",
       "/* Toggleable content - dropdown */\n",
       "\n",
       "#sk-container-id-2 div.sk-toggleable__content {\n",
       "  max-height: 0;\n",
       "  max-width: 0;\n",
       "  overflow: hidden;\n",
       "  text-align: left;\n",
       "  /* unfitted */\n",
       "  background-color: var(--sklearn-color-unfitted-level-0);\n",
       "}\n",
       "\n",
       "#sk-container-id-2 div.sk-toggleable__content.fitted {\n",
       "  /* fitted */\n",
       "  background-color: var(--sklearn-color-fitted-level-0);\n",
       "}\n",
       "\n",
       "#sk-container-id-2 div.sk-toggleable__content pre {\n",
       "  margin: 0.2em;\n",
       "  border-radius: 0.25em;\n",
       "  color: var(--sklearn-color-text);\n",
       "  /* unfitted */\n",
       "  background-color: var(--sklearn-color-unfitted-level-0);\n",
       "}\n",
       "\n",
       "#sk-container-id-2 div.sk-toggleable__content.fitted pre {\n",
       "  /* unfitted */\n",
       "  background-color: var(--sklearn-color-fitted-level-0);\n",
       "}\n",
       "\n",
       "#sk-container-id-2 input.sk-toggleable__control:checked~div.sk-toggleable__content {\n",
       "  /* Expand drop-down */\n",
       "  max-height: 200px;\n",
       "  max-width: 100%;\n",
       "  overflow: auto;\n",
       "}\n",
       "\n",
       "#sk-container-id-2 input.sk-toggleable__control:checked~label.sk-toggleable__label-arrow:before {\n",
       "  content: \"▾\";\n",
       "}\n",
       "\n",
       "/* Pipeline/ColumnTransformer-specific style */\n",
       "\n",
       "#sk-container-id-2 div.sk-label input.sk-toggleable__control:checked~label.sk-toggleable__label {\n",
       "  color: var(--sklearn-color-text);\n",
       "  background-color: var(--sklearn-color-unfitted-level-2);\n",
       "}\n",
       "\n",
       "#sk-container-id-2 div.sk-label.fitted input.sk-toggleable__control:checked~label.sk-toggleable__label {\n",
       "  background-color: var(--sklearn-color-fitted-level-2);\n",
       "}\n",
       "\n",
       "/* Estimator-specific style */\n",
       "\n",
       "/* Colorize estimator box */\n",
       "#sk-container-id-2 div.sk-estimator input.sk-toggleable__control:checked~label.sk-toggleable__label {\n",
       "  /* unfitted */\n",
       "  background-color: var(--sklearn-color-unfitted-level-2);\n",
       "}\n",
       "\n",
       "#sk-container-id-2 div.sk-estimator.fitted input.sk-toggleable__control:checked~label.sk-toggleable__label {\n",
       "  /* fitted */\n",
       "  background-color: var(--sklearn-color-fitted-level-2);\n",
       "}\n",
       "\n",
       "#sk-container-id-2 div.sk-label label.sk-toggleable__label,\n",
       "#sk-container-id-2 div.sk-label label {\n",
       "  /* The background is the default theme color */\n",
       "  color: var(--sklearn-color-text-on-default-background);\n",
       "}\n",
       "\n",
       "/* On hover, darken the color of the background */\n",
       "#sk-container-id-2 div.sk-label:hover label.sk-toggleable__label {\n",
       "  color: var(--sklearn-color-text);\n",
       "  background-color: var(--sklearn-color-unfitted-level-2);\n",
       "}\n",
       "\n",
       "/* Label box, darken color on hover, fitted */\n",
       "#sk-container-id-2 div.sk-label.fitted:hover label.sk-toggleable__label.fitted {\n",
       "  color: var(--sklearn-color-text);\n",
       "  background-color: var(--sklearn-color-fitted-level-2);\n",
       "}\n",
       "\n",
       "/* Estimator label */\n",
       "\n",
       "#sk-container-id-2 div.sk-label label {\n",
       "  font-family: monospace;\n",
       "  font-weight: bold;\n",
       "  display: inline-block;\n",
       "  line-height: 1.2em;\n",
       "}\n",
       "\n",
       "#sk-container-id-2 div.sk-label-container {\n",
       "  text-align: center;\n",
       "}\n",
       "\n",
       "/* Estimator-specific */\n",
       "#sk-container-id-2 div.sk-estimator {\n",
       "  font-family: monospace;\n",
       "  border: 1px dotted var(--sklearn-color-border-box);\n",
       "  border-radius: 0.25em;\n",
       "  box-sizing: border-box;\n",
       "  margin-bottom: 0.5em;\n",
       "  /* unfitted */\n",
       "  background-color: var(--sklearn-color-unfitted-level-0);\n",
       "}\n",
       "\n",
       "#sk-container-id-2 div.sk-estimator.fitted {\n",
       "  /* fitted */\n",
       "  background-color: var(--sklearn-color-fitted-level-0);\n",
       "}\n",
       "\n",
       "/* on hover */\n",
       "#sk-container-id-2 div.sk-estimator:hover {\n",
       "  /* unfitted */\n",
       "  background-color: var(--sklearn-color-unfitted-level-2);\n",
       "}\n",
       "\n",
       "#sk-container-id-2 div.sk-estimator.fitted:hover {\n",
       "  /* fitted */\n",
       "  background-color: var(--sklearn-color-fitted-level-2);\n",
       "}\n",
       "\n",
       "/* Specification for estimator info (e.g. \"i\" and \"?\") */\n",
       "\n",
       "/* Common style for \"i\" and \"?\" */\n",
       "\n",
       ".sk-estimator-doc-link,\n",
       "a:link.sk-estimator-doc-link,\n",
       "a:visited.sk-estimator-doc-link {\n",
       "  float: right;\n",
       "  font-size: smaller;\n",
       "  line-height: 1em;\n",
       "  font-family: monospace;\n",
       "  background-color: var(--sklearn-color-background);\n",
       "  border-radius: 1em;\n",
       "  height: 1em;\n",
       "  width: 1em;\n",
       "  text-decoration: none !important;\n",
       "  margin-left: 0.5em;\n",
       "  text-align: center;\n",
       "  /* unfitted */\n",
       "  border: var(--sklearn-color-unfitted-level-1) 1pt solid;\n",
       "  color: var(--sklearn-color-unfitted-level-1);\n",
       "}\n",
       "\n",
       ".sk-estimator-doc-link.fitted,\n",
       "a:link.sk-estimator-doc-link.fitted,\n",
       "a:visited.sk-estimator-doc-link.fitted {\n",
       "  /* fitted */\n",
       "  border: var(--sklearn-color-fitted-level-1) 1pt solid;\n",
       "  color: var(--sklearn-color-fitted-level-1);\n",
       "}\n",
       "\n",
       "/* On hover */\n",
       "div.sk-estimator:hover .sk-estimator-doc-link:hover,\n",
       ".sk-estimator-doc-link:hover,\n",
       "div.sk-label-container:hover .sk-estimator-doc-link:hover,\n",
       ".sk-estimator-doc-link:hover {\n",
       "  /* unfitted */\n",
       "  background-color: var(--sklearn-color-unfitted-level-3);\n",
       "  color: var(--sklearn-color-background);\n",
       "  text-decoration: none;\n",
       "}\n",
       "\n",
       "div.sk-estimator.fitted:hover .sk-estimator-doc-link.fitted:hover,\n",
       ".sk-estimator-doc-link.fitted:hover,\n",
       "div.sk-label-container:hover .sk-estimator-doc-link.fitted:hover,\n",
       ".sk-estimator-doc-link.fitted:hover {\n",
       "  /* fitted */\n",
       "  background-color: var(--sklearn-color-fitted-level-3);\n",
       "  color: var(--sklearn-color-background);\n",
       "  text-decoration: none;\n",
       "}\n",
       "\n",
       "/* Span, style for the box shown on hovering the info icon */\n",
       ".sk-estimator-doc-link span {\n",
       "  display: none;\n",
       "  z-index: 9999;\n",
       "  position: relative;\n",
       "  font-weight: normal;\n",
       "  right: .2ex;\n",
       "  padding: .5ex;\n",
       "  margin: .5ex;\n",
       "  width: min-content;\n",
       "  min-width: 20ex;\n",
       "  max-width: 50ex;\n",
       "  color: var(--sklearn-color-text);\n",
       "  box-shadow: 2pt 2pt 4pt #999;\n",
       "  /* unfitted */\n",
       "  background: var(--sklearn-color-unfitted-level-0);\n",
       "  border: .5pt solid var(--sklearn-color-unfitted-level-3);\n",
       "}\n",
       "\n",
       ".sk-estimator-doc-link.fitted span {\n",
       "  /* fitted */\n",
       "  background: var(--sklearn-color-fitted-level-0);\n",
       "  border: var(--sklearn-color-fitted-level-3);\n",
       "}\n",
       "\n",
       ".sk-estimator-doc-link:hover span {\n",
       "  display: block;\n",
       "}\n",
       "\n",
       "/* \"?\"-specific style due to the `<a>` HTML tag */\n",
       "\n",
       "#sk-container-id-2 a.estimator_doc_link {\n",
       "  float: right;\n",
       "  font-size: 1rem;\n",
       "  line-height: 1em;\n",
       "  font-family: monospace;\n",
       "  background-color: var(--sklearn-color-background);\n",
       "  border-radius: 1rem;\n",
       "  height: 1rem;\n",
       "  width: 1rem;\n",
       "  text-decoration: none;\n",
       "  /* unfitted */\n",
       "  color: var(--sklearn-color-unfitted-level-1);\n",
       "  border: var(--sklearn-color-unfitted-level-1) 1pt solid;\n",
       "}\n",
       "\n",
       "#sk-container-id-2 a.estimator_doc_link.fitted {\n",
       "  /* fitted */\n",
       "  border: var(--sklearn-color-fitted-level-1) 1pt solid;\n",
       "  color: var(--sklearn-color-fitted-level-1);\n",
       "}\n",
       "\n",
       "/* On hover */\n",
       "#sk-container-id-2 a.estimator_doc_link:hover {\n",
       "  /* unfitted */\n",
       "  background-color: var(--sklearn-color-unfitted-level-3);\n",
       "  color: var(--sklearn-color-background);\n",
       "  text-decoration: none;\n",
       "}\n",
       "\n",
       "#sk-container-id-2 a.estimator_doc_link.fitted:hover {\n",
       "  /* fitted */\n",
       "  background-color: var(--sklearn-color-fitted-level-3);\n",
       "}\n",
       "</style><div id=\"sk-container-id-2\" class=\"sk-top-container\"><div class=\"sk-text-repr-fallback\"><pre>GaussianMixture(n_components=40, random_state=42)</pre><b>In a Jupyter environment, please rerun this cell to show the HTML representation or trust the notebook. <br />On GitHub, the HTML representation is unable to render, please try loading this page with nbviewer.org.</b></div><div class=\"sk-container\" hidden><div class=\"sk-item\"><div class=\"sk-estimator fitted sk-toggleable\"><input class=\"sk-toggleable__control sk-hidden--visually\" id=\"sk-estimator-id-2\" type=\"checkbox\" checked><label for=\"sk-estimator-id-2\" class=\"sk-toggleable__label fitted sk-toggleable__label-arrow\"><div><div>GaussianMixture</div></div><div><a class=\"sk-estimator-doc-link fitted\" rel=\"noreferrer\" target=\"_blank\" href=\"https://scikit-learn.org/1.6/modules/generated/sklearn.mixture.GaussianMixture.html\">?<span>Documentation for GaussianMixture</span></a><span class=\"sk-estimator-doc-link fitted\">i<span>Fitted</span></span></div></label><div class=\"sk-toggleable__content fitted\"><pre>GaussianMixture(n_components=40, random_state=42)</pre></div> </div></div></div></div>"
      ],
      "text/plain": [
       "GaussianMixture(n_components=40, random_state=42)"
      ]
     },
     "execution_count": 31,
     "metadata": {},
     "output_type": "execute_result"
    }
   ],
   "source": [
    "gm.fit(X_train_pca)"
   ]
  },
  {
   "cell_type": "markdown",
   "metadata": {
    "id": "n8nY5n82UEnC"
   },
   "source": [
    "Setelah anda melatih model `GaussianMixture`, silakan anda _generate_ 20 muka baru dengan menggunakan method `sample()`.    \n",
    "Karena sebelumnya anda menggunakan PCA, anda perlu menggunakan method `inverse_transform()` untuk membalikkan gambar ke gambar originalnya."
   ]
  },
  {
   "cell_type": "code",
   "execution_count": 32,
   "metadata": {
    "executionInfo": {
     "elapsed": 390,
     "status": "ok",
     "timestamp": 1749804675194,
     "user": {
      "displayName": "2372061 Laura Puspa Ameliana",
      "userId": "00688401487854314964"
     },
     "user_tz": -420
    },
    "id": "ygdSZgQzUEnC"
   },
   "outputs": [],
   "source": [
    "n_gen_faces = 20\n",
    "gen_faces_reduced, y_gen_faces = gm.sample(n_samples=n_gen_faces)\n",
    "gen_faces = pca.inverse_transform(gen_faces_reduced)"
   ]
  },
  {
   "cell_type": "code",
   "execution_count": 33,
   "metadata": {
    "colab": {
     "base_uri": "https://localhost:8080/",
     "height": 392
    },
    "executionInfo": {
     "elapsed": 653,
     "status": "ok",
     "timestamp": 1749804677525,
     "user": {
      "displayName": "2372061 Laura Puspa Ameliana",
      "userId": "00688401487854314964"
     },
     "user_tz": -420
    },
    "id": "ID_A-i5dUEnC",
    "outputId": "22ec162a-79ad-430d-b7ce-3db1f8ec2e25"
   },
   "outputs": [
    {
     "data": {
      "image/png": "[encoded data removed]",
      "text/plain": [
       "<Figure size 500x440 with 20 Axes>"
      ]
     },
     "metadata": {},
     "output_type": "display_data"
    }
   ],
   "source": [
    "plot_faces(gen_faces, y_gen_faces)"
   ]
  },
  {
   "cell_type": "markdown",
   "metadata": {
    "id": "9pjuFDkuUEnC"
   },
   "source": [
    "<center>\n",
    "    <h1>The End</h1>\n",
    "</center>    "
   ]
  }
 ],
 "metadata": {
  "colab": {
   "provenance": []
  },
  "kernelspec": {
   "display_name": "Python 3 (ipykernel)",
   "language": "python",
   "name": "python3"
  },
  "language_info": {
   "codemirror_mode": {
    "name": "ipython",
    "version": 3
   },
   "file_extension": ".py",
   "mimetype": "text/x-python",
   "name": "python",
   "nbconvert_exporter": "python",
   "pygments_lexer": "ipython3",
   "version": "3.9.16"
  }
 },
 "nbformat": 4,
 "nbformat_minor": 0
}
