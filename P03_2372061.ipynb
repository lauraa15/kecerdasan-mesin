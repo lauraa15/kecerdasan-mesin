{
 "cells": [
  {
   "cell_type": "markdown",
   "id": "f8c56baa",
   "metadata": {
    "id": "f8c56baa"
   },
   "source": [
    "# <a id=\"home\">Mengevaluasi Performa Algoritma _Machine Learning_ dengan Resampling</a>"
   ]
  },
  {
   "cell_type": "markdown",
   "id": "8d3d76f6-abb7-4067-841d-01e3575259cf",
   "metadata": {
    "id": "8d3d76f6-abb7-4067-841d-01e3575259cf"
   },
   "source": [
    "## NRP : 2372061       \n",
    "## Nama : [REDACTED]\n",
    "## Kelas (A/B/C) : C"
   ]
  },
  {
   "cell_type": "markdown",
   "id": "504a0a32",
   "metadata": {
    "id": "504a0a32"
   },
   "source": [
    "Evaluasi model adalah perkiraan yang dapat kita gunakan untuk mengukur seberapa baik model/algoritma _machine learning_ sebenarnya dapat bekerja dalam kenyataannya.     \n",
    "\n",
    "Setelah kita memperkirakan kinerja model/algoritma _machine learning_ yang kita buat, kita dapat melatih ulang model/algoritma akhir dengan menggunakan seluruh train set.    \n",
    "\n",
    "Selanjutnya kita akan melihat empat teknik yang berbeda yang dapat kita gunakan untuk memisahkan dataset kita dan membuat estimasi yang berguna bagi kinerja model/algoritma _machine learning_ kita:\n",
    "-  [Train dan Test Set](#train-and-test)\n",
    "-  [$k$-fold Cross-Validation](#k-fold)\n",
    "-  [Leave One Out Cross-Validation (LOOCV)](#loocv)."
   ]
  },
  {
   "cell_type": "markdown",
   "id": "0e4cdd4d",
   "metadata": {
    "id": "0e4cdd4d"
   },
   "source": [
    "## <a id=\"train-and-test\">Train dan Test Set</a> (Back to [Home](#home))"
   ]
  },
  {
   "cell_type": "code",
   "execution_count": 1,
   "id": "4ad1169d",
   "metadata": {
    "executionInfo": {
     "elapsed": 3270,
     "status": "ok",
     "timestamp": 1741340231418,
     "user": {
      "displayName": "2372061 Laura Puspa Ameliana",
      "userId": "00688401487854314964"
     },
     "user_tz": -420
    },
    "id": "4ad1169d"
   },
   "outputs": [],
   "source": [
    "from pandas import read_csv\n",
    "from sklearn.model_selection import train_test_split\n",
    "from sklearn.linear_model import LogisticRegression"
   ]
  },
  {
   "cell_type": "markdown",
   "id": "d7603c67",
   "metadata": {
    "id": "d7603c67"
   },
   "source": [
    "Buatlah variabel dengan nama `filename` dan isi variabel bertipe `string`, yaitu `pima-indians-diabetes.data.csv`."
   ]
  },
  {
   "cell_type": "code",
   "execution_count": 2,
   "id": "489162c2",
   "metadata": {
    "executionInfo": {
     "elapsed": 3,
     "status": "ok",
     "timestamp": 1741340231426,
     "user": {
      "displayName": "2372061 Laura Puspa Ameliana",
      "userId": "00688401487854314964"
     },
     "user_tz": -420
    },
    "id": "489162c2"
   },
   "outputs": [],
   "source": [
    "filename = \"pima-indians-diabetes.data.csv\""
   ]
  },
  {
   "cell_type": "markdown",
   "id": "b45602dc",
   "metadata": {
    "id": "b45602dc"
   },
   "source": [
    "Buatlah list bernama `names` dengan nilai string, yaitu: `preg`, `plas`, `pres`, `skin`, `test`, `mass`, `pedi`, `age`, dan `class`."
   ]
  },
  {
   "cell_type": "code",
   "execution_count": 3,
   "id": "148f9a8c",
   "metadata": {
    "executionInfo": {
     "elapsed": 5,
     "status": "ok",
     "timestamp": 1741340231435,
     "user": {
      "displayName": "2372061 Laura Puspa Ameliana",
      "userId": "00688401487854314964"
     },
     "user_tz": -420
    },
    "id": "148f9a8c"
   },
   "outputs": [],
   "source": [
    "names = [\"preg\", \"plas\", \"pres\", \"skin\", \"test\", \"mass\", \"pedi\", \"age\", \"class\"]"
   ]
  },
  {
   "cell_type": "markdown",
   "id": "3865cd63",
   "metadata": {
    "id": "3865cd63"
   },
   "source": [
    "Gunakan method `read_csv` dengan parameter: `filename` dan `names` adalah `names`. Simpan hasil `read_csv` dalam variabel `dataframe`."
   ]
  },
  {
   "cell_type": "code",
   "execution_count": 6,
   "id": "c92822e3",
   "metadata": {
    "executionInfo": {
     "elapsed": 32,
     "status": "ok",
     "timestamp": 1741340252687,
     "user": {
      "displayName": "2372061 Laura Puspa Ameliana",
      "userId": "00688401487854314964"
     },
     "user_tz": -420
    },
    "id": "c92822e3"
   },
   "outputs": [],
   "source": [
    "dataframe = read_csv(filename,names=names)"
   ]
  },
  {
   "cell_type": "markdown",
   "id": "214c7cff",
   "metadata": {
    "id": "214c7cff"
   },
   "source": [
    "Simpan semua nilai `dataframe` ke dalam variabel `array`.      \n",
    "\n",
    "**Hint**: gunakan _attribute_ `values` dari `dataframe`."
   ]
  },
  {
   "cell_type": "code",
   "execution_count": 7,
   "id": "e7dec0e9",
   "metadata": {
    "executionInfo": {
     "elapsed": 16,
     "status": "ok",
     "timestamp": 1741340252733,
     "user": {
      "displayName": "2372061 Laura Puspa Ameliana",
      "userId": "00688401487854314964"
     },
     "user_tz": -420
    },
    "id": "e7dec0e9"
   },
   "outputs": [],
   "source": [
    "array = dataframe.values"
   ]
  },
  {
   "cell_type": "markdown",
   "id": "54ea5c8b",
   "metadata": {
    "id": "54ea5c8b"
   },
   "source": [
    "Extract semua baris dan kolom ke-1 s.d. ke-9 ke dalam variabel `X`."
   ]
  },
  {
   "cell_type": "code",
   "execution_count": 8,
   "id": "aa51b827",
   "metadata": {
    "colab": {
     "base_uri": "https://localhost:8080/"
    },
    "executionInfo": {
     "elapsed": 16,
     "status": "ok",
     "timestamp": 1741340252736,
     "user": {
      "displayName": "2372061 Laura Puspa Ameliana",
      "userId": "00688401487854314964"
     },
     "user_tz": -420
    },
    "id": "aa51b827",
    "outputId": "eeded7de-1ecf-4632-87c2-cd9bbf32d4c3"
   },
   "outputs": [
    {
     "data": {
      "text/plain": [
       "array([[  6.   , 148.   ,  72.   , ...,  33.6  ,   0.627,  50.   ],\n",
       "       [  1.   ,  85.   ,  66.   , ...,  26.6  ,   0.351,  31.   ],\n",
       "       [  8.   , 183.   ,  64.   , ...,  23.3  ,   0.672,  32.   ],\n",
       "       ...,\n",
       "       [  5.   , 121.   ,  72.   , ...,  26.2  ,   0.245,  30.   ],\n",
       "       [  1.   , 126.   ,  60.   , ...,  30.1  ,   0.349,  47.   ],\n",
       "       [  1.   ,  93.   ,  70.   , ...,  30.4  ,   0.315,  23.   ]])"
      ]
     },
     "execution_count": 8,
     "metadata": {},
     "output_type": "execute_result"
    }
   ],
   "source": [
    "X = array[:,:8]\n",
    "X"
   ]
  },
  {
   "cell_type": "markdown",
   "id": "fcd7e763",
   "metadata": {
    "id": "fcd7e763"
   },
   "source": [
    "Simpan semua baris dari kolom ke-9 ke dalam variabel `y`."
   ]
  },
  {
   "cell_type": "code",
   "execution_count": 9,
   "id": "893b3aeb",
   "metadata": {
    "colab": {
     "base_uri": "https://localhost:8080/"
    },
    "executionInfo": {
     "elapsed": 41,
     "status": "ok",
     "timestamp": 1741340252778,
     "user": {
      "displayName": "2372061 Laura Puspa Ameliana",
      "userId": "00688401487854314964"
     },
     "user_tz": -420
    },
    "id": "893b3aeb",
    "outputId": "ed1da282-e900-4d64-c95e-93a81812347d"
   },
   "outputs": [
    {
     "data": {
      "text/plain": [
       "array([1., 0., 1., 0., 1., 0., 1., 0., 1., 1., 0., 1., 0., 1., 1., 1., 1.,\n",
       "       1., 0., 1., 0., 0., 1., 1., 1., 1., 1., 0., 0., 0., 0., 1., 0., 0.,\n",
       "       0., 0., 0., 1., 1., 1., 0., 0., 0., 1., 0., 1., 0., 0., 1., 0., 0.,\n",
       "       0., 0., 1., 0., 0., 1., 0., 0., 0., 0., 1., 0., 0., 1., 0., 1., 0.,\n",
       "       0., 0., 1., 0., 1., 0., 0., 0., 0., 0., 1., 0., 0., 0., 0., 0., 1.,\n",
       "       0., 0., 0., 1., 0., 0., 0., 0., 1., 0., 0., 0., 0., 0., 1., 1., 0.,\n",
       "       0., 0., 0., 0., 0., 0., 0., 1., 1., 1., 0., 0., 1., 1., 1., 0., 0.,\n",
       "       0., 1., 0., 0., 0., 1., 1., 0., 0., 1., 1., 1., 1., 1., 0., 0., 0.,\n",
       "       0., 0., 0., 0., 0., 0., 0., 1., 0., 0., 0., 0., 0., 0., 0., 0., 1.,\n",
       "       0., 1., 1., 0., 0., 0., 1., 0., 0., 0., 0., 1., 1., 0., 0., 0., 0.,\n",
       "       1., 1., 0., 0., 0., 1., 0., 1., 0., 1., 0., 0., 0., 0., 0., 1., 1.,\n",
       "       1., 1., 1., 0., 0., 1., 1., 0., 1., 0., 1., 1., 1., 0., 0., 0., 0.,\n",
       "       0., 0., 1., 1., 0., 1., 0., 0., 0., 1., 1., 1., 1., 0., 1., 1., 1.,\n",
       "       1., 0., 0., 0., 0., 0., 1., 0., 0., 1., 1., 0., 0., 0., 1., 1., 1.,\n",
       "       1., 0., 0., 0., 1., 1., 0., 1., 0., 0., 0., 0., 0., 0., 0., 0., 1.,\n",
       "       1., 0., 0., 0., 1., 0., 1., 0., 0., 1., 0., 1., 0., 0., 1., 1., 0.,\n",
       "       0., 0., 0., 0., 1., 0., 0., 0., 1., 0., 0., 1., 1., 0., 0., 1., 0.,\n",
       "       0., 0., 1., 1., 1., 0., 0., 1., 0., 1., 0., 1., 1., 0., 1., 0., 0.,\n",
       "       1., 0., 1., 1., 0., 0., 1., 0., 1., 0., 0., 1., 0., 1., 0., 1., 1.,\n",
       "       1., 0., 0., 1., 0., 1., 0., 0., 0., 1., 0., 0., 0., 0., 1., 1., 1.,\n",
       "       0., 0., 0., 0., 0., 0., 0., 0., 0., 1., 0., 0., 0., 0., 0., 1., 1.,\n",
       "       1., 0., 1., 1., 0., 0., 1., 0., 0., 1., 0., 0., 1., 1., 0., 0., 0.,\n",
       "       0., 1., 0., 0., 1., 0., 0., 0., 0., 0., 0., 0., 1., 1., 1., 0., 0.,\n",
       "       1., 0., 0., 1., 0., 0., 1., 0., 1., 1., 0., 1., 0., 1., 0., 1., 0.,\n",
       "       1., 1., 0., 0., 0., 0., 1., 1., 0., 1., 0., 1., 0., 0., 0., 0., 1.,\n",
       "       1., 0., 1., 0., 1., 0., 0., 0., 0., 0., 1., 0., 0., 0., 0., 1., 0.,\n",
       "       0., 1., 1., 1., 0., 0., 1., 0., 0., 1., 0., 0., 0., 1., 0., 0., 1.,\n",
       "       0., 0., 0., 0., 0., 0., 0., 0., 0., 1., 0., 0., 0., 0., 0., 0., 0.,\n",
       "       1., 0., 0., 0., 1., 0., 0., 0., 1., 1., 0., 0., 0., 0., 0., 0., 0.,\n",
       "       1., 0., 0., 0., 0., 1., 0., 0., 0., 1., 0., 0., 0., 1., 0., 0., 0.,\n",
       "       1., 0., 0., 0., 0., 1., 1., 0., 0., 0., 0., 0., 0., 1., 0., 0., 0.,\n",
       "       0., 0., 0., 0., 0., 0., 0., 0., 1., 0., 0., 0., 1., 1., 1., 1., 0.,\n",
       "       0., 1., 1., 0., 0., 0., 0., 0., 0., 0., 0., 0., 0., 0., 0., 0., 1.,\n",
       "       1., 0., 0., 0., 0., 0., 0., 0., 1., 0., 0., 0., 0., 0., 0., 0., 1.,\n",
       "       0., 1., 1., 0., 0., 0., 1., 0., 1., 0., 1., 0., 1., 0., 1., 0., 0.,\n",
       "       1., 0., 0., 1., 0., 0., 0., 0., 1., 1., 0., 1., 0., 0., 0., 0., 1.,\n",
       "       1., 0., 1., 0., 0., 0., 1., 1., 0., 0., 0., 0., 0., 0., 0., 0., 0.,\n",
       "       0., 1., 0., 0., 0., 0., 1., 0., 0., 1., 0., 0., 0., 1., 0., 0., 0.,\n",
       "       1., 1., 1., 0., 0., 0., 0., 0., 0., 1., 0., 0., 0., 1., 0., 1., 1.,\n",
       "       1., 1., 0., 1., 1., 0., 0., 0., 0., 0., 0., 0., 1., 1., 0., 1., 0.,\n",
       "       0., 1., 0., 1., 0., 0., 0., 0., 0., 1., 0., 1., 0., 1., 0., 1., 1.,\n",
       "       0., 0., 0., 0., 1., 1., 0., 0., 0., 1., 0., 1., 1., 0., 0., 1., 0.,\n",
       "       0., 1., 1., 0., 0., 1., 0., 0., 1., 0., 0., 0., 0., 0., 0., 0., 1.,\n",
       "       1., 1., 0., 0., 0., 0., 0., 0., 1., 1., 0., 0., 1., 0., 0., 1., 0.,\n",
       "       1., 1., 1., 0., 0., 1., 1., 1., 0., 1., 0., 1., 0., 1., 0., 0., 0.,\n",
       "       0., 1., 0.])"
      ]
     },
     "execution_count": 9,
     "metadata": {},
     "output_type": "execute_result"
    }
   ],
   "source": [
    "y = array[:,8]\n",
    "y"
   ]
  },
  {
   "cell_type": "markdown",
   "id": "34bd896c",
   "metadata": {
    "id": "34bd896c"
   },
   "source": [
    "Buatlah variabel yang bernama `test_size` dengan nilai `0.33`."
   ]
  },
  {
   "cell_type": "code",
   "execution_count": 10,
   "id": "97379f1b",
   "metadata": {
    "executionInfo": {
     "elapsed": 3,
     "status": "ok",
     "timestamp": 1741340252783,
     "user": {
      "displayName": "2372061 Laura Puspa Ameliana",
      "userId": "00688401487854314964"
     },
     "user_tz": -420
    },
    "id": "97379f1b"
   },
   "outputs": [],
   "source": [
    "test_size = 0.33"
   ]
  },
  {
   "cell_type": "markdown",
   "id": "72b82e60",
   "metadata": {
    "id": "72b82e60"
   },
   "source": [
    "Buatlah variabel yang bernama `seed` dengan nilai `7`."
   ]
  },
  {
   "cell_type": "code",
   "execution_count": 11,
   "id": "b188dea7",
   "metadata": {
    "executionInfo": {
     "elapsed": 4,
     "status": "ok",
     "timestamp": 1741340252790,
     "user": {
      "displayName": "2372061 Laura Puspa Ameliana",
      "userId": "00688401487854314964"
     },
     "user_tz": -420
    },
    "id": "b188dea7"
   },
   "outputs": [],
   "source": [
    "seed = 7"
   ]
  },
  {
   "cell_type": "markdown",
   "id": "18d38487",
   "metadata": {
    "id": "18d38487"
   },
   "source": [
    "Gunakan method `train_test_split` dengan parameter sbb:\n",
    "- `X`\n",
    "- `y`\n",
    "- `test_size` yang diisi dengan `test_size`, dan\n",
    "- `random_state` yang diisi dengan variabel `seed`."
   ]
  },
  {
   "cell_type": "code",
   "execution_count": 12,
   "id": "83b97bed",
   "metadata": {
    "executionInfo": {
     "elapsed": 6,
     "status": "ok",
     "timestamp": 1741340252794,
     "user": {
      "displayName": "2372061 Laura Puspa Ameliana",
      "userId": "00688401487854314964"
     },
     "user_tz": -420
    },
    "id": "83b97bed"
   },
   "outputs": [],
   "source": [
    "X_train, X_test, y_train, y_test = train_test_split(X, y, test_size=test_size, random_state=seed)"
   ]
  },
  {
   "cell_type": "markdown",
   "id": "aa8dbbd3",
   "metadata": {
    "id": "aa8dbbd3"
   },
   "source": [
    "Buatlah `model` yang merupakan model `LogisticRegression` dengan parameter `solver` adalah `liblinear`."
   ]
  },
  {
   "cell_type": "code",
   "execution_count": 13,
   "id": "91c2c359",
   "metadata": {
    "executionInfo": {
     "elapsed": 5,
     "status": "ok",
     "timestamp": 1741340252802,
     "user": {
      "displayName": "2372061 Laura Puspa Ameliana",
      "userId": "00688401487854314964"
     },
     "user_tz": -420
    },
    "id": "91c2c359"
   },
   "outputs": [],
   "source": [
    "model = LogisticRegression(solver=\"liblinear\")"
   ]
  },
  {
   "cell_type": "markdown",
   "id": "958c7941",
   "metadata": {
    "id": "958c7941"
   },
   "source": [
    "Latihlah `model` dengan cara memanggil method `fit` dan diberi parameter `X_train` dan `y_train`."
   ]
  },
  {
   "cell_type": "code",
   "execution_count": 14,
   "id": "c070ef5a",
   "metadata": {
    "colab": {
     "base_uri": "https://localhost:8080/",
     "height": 80
    },
    "executionInfo": {
     "elapsed": 92,
     "status": "ok",
     "timestamp": 1741340252892,
     "user": {
      "displayName": "2372061 Laura Puspa Ameliana",
      "userId": "00688401487854314964"
     },
     "user_tz": -420
    },
    "id": "c070ef5a",
    "outputId": "aa8c53dd-a0f6-4e2e-a61c-4040ec96a5b3"
   },
   "outputs": [
    {
     "data": {
      "text/html": [
       "<style>#sk-container-id-1 {\n",
       "  /* Definition of color scheme common for light and dark mode */\n",
       "  --sklearn-color-text: #000;\n",
       "  --sklearn-color-text-muted: #666;\n",
       "  --sklearn-color-line: gray;\n",
       "  /* Definition of color scheme for unfitted estimators */\n",
       "  --sklearn-color-unfitted-level-0: #fff5e6;\n",
       "  --sklearn-color-unfitted-level-1: #f6e4d2;\n",
       "  --sklearn-color-unfitted-level-2: #ffe0b3;\n",
       "  --sklearn-color-unfitted-level-3: chocolate;\n",
       "  /* Definition of color scheme for fitted estimators */\n",
       "  --sklearn-color-fitted-level-0: #f0f8ff;\n",
       "  --sklearn-color-fitted-level-1: #d4ebff;\n",
       "  --sklearn-color-fitted-level-2: #b3dbfd;\n",
       "  --sklearn-color-fitted-level-3: cornflowerblue;\n",
       "\n",
       "  /* Specific color for light theme */\n",
       "  --sklearn-color-text-on-default-background: var(--sg-text-color, var(--theme-code-foreground, var(--jp-content-font-color1, black)));\n",
       "  --sklearn-color-background: var(--sg-background-color, var(--theme-background, var(--jp-layout-color0, white)));\n",
       "  --sklearn-color-border-box: var(--sg-text-color, var(--theme-code-foreground, var(--jp-content-font-color1, black)));\n",
       "  --sklearn-color-icon: #696969;\n",
       "\n",
       "  @media (prefers-color-scheme: dark) {\n",
       "    /* Redefinition of color scheme for dark theme */\n",
       "    --sklearn-color-text-on-default-background: var(--sg-text-color, var(--theme-code-foreground, var(--jp-content-font-color1, white)));\n",
       "    --sklearn-color-background: var(--sg-background-color, var(--theme-background, var(--jp-layout-color0, #111)));\n",
       "    --sklearn-color-border-box: var(--sg-text-color, var(--theme-code-foreground, var(--jp-content-font-color1, white)));\n",
       "    --sklearn-color-icon: #878787;\n",
       "  }\n",
       "}\n",
       "\n",
       "#sk-container-id-1 {\n",
       "  color: var(--sklearn-color-text);\n",
       "}\n",
       "\n",
       "#sk-container-id-1 pre {\n",
       "  padding: 0;\n",
       "}\n",
       "\n",
       "#sk-container-id-1 input.sk-hidden--visually {\n",
       "  border: 0;\n",
       "  clip: rect(1px 1px 1px 1px);\n",
       "  clip: rect(1px, 1px, 1px, 1px);\n",
       "  height: 1px;\n",
       "  margin: -1px;\n",
       "  overflow: hidden;\n",
       "  padding: 0;\n",
       "  position: absolute;\n",
       "  width: 1px;\n",
       "}\n",
       "\n",
       "#sk-container-id-1 div.sk-dashed-wrapped {\n",
       "  border: 1px dashed var(--sklearn-color-line);\n",
       "  margin: 0 0.4em 0.5em 0.4em;\n",
       "  box-sizing: border-box;\n",
       "  padding-bottom: 0.4em;\n",
       "  background-color: var(--sklearn-color-background);\n",
       "}\n",
       "\n",
       "#sk-container-id-1 div.sk-container {\n",
       "  /* jupyter's `normalize.less` sets `[hidden] { display: none; }`\n",
       "     but bootstrap.min.css set `[hidden] { display: none !important; }`\n",
       "     so we also need the `!important` here to be able to override the\n",
       "     default hidden behavior on the sphinx rendered scikit-learn.org.\n",
       "     See: https://github.com/scikit-learn/scikit-learn/issues/21755 */\n",
       "  display: inline-block !important;\n",
       "  position: relative;\n",
       "}\n",
       "\n",
       "#sk-container-id-1 div.sk-text-repr-fallback {\n",
       "  display: none;\n",
       "}\n",
       "\n",
       "div.sk-parallel-item,\n",
       "div.sk-serial,\n",
       "div.sk-item {\n",
       "  /* draw centered vertical line to link estimators */\n",
       "  background-image: linear-gradient(var(--sklearn-color-text-on-default-background), var(--sklearn-color-text-on-default-background));\n",
       "  background-size: 2px 100%;\n",
       "  background-repeat: no-repeat;\n",
       "  background-position: center center;\n",
       "}\n",
       "\n",
       "/* Parallel-specific style estimator block */\n",
       "\n",
       "#sk-container-id-1 div.sk-parallel-item::after {\n",
       "  content: \"\";\n",
       "  width: 100%;\n",
       "  border-bottom: 2px solid var(--sklearn-color-text-on-default-background);\n",
       "  flex-grow: 1;\n",
       "}\n",
       "\n",
       "#sk-container-id-1 div.sk-parallel {\n",
       "  display: flex;\n",
       "  align-items: stretch;\n",
       "  justify-content: center;\n",
       "  background-color: var(--sklearn-color-background);\n",
       "  position: relative;\n",
       "}\n",
       "\n",
       "#sk-container-id-1 div.sk-parallel-item {\n",
       "  display: flex;\n",
       "  flex-direction: column;\n",
       "}\n",
       "\n",
       "#sk-container-id-1 div.sk-parallel-item:first-child::after {\n",
       "  align-self: flex-end;\n",
       "  width: 50%;\n",
       "}\n",
       "\n",
       "#sk-container-id-1 div.sk-parallel-item:last-child::after {\n",
       "  align-self: flex-start;\n",
       "  width: 50%;\n",
       "}\n",
       "\n",
       "#sk-container-id-1 div.sk-parallel-item:only-child::after {\n",
       "  width: 0;\n",
       "}\n",
       "\n",
       "/* Serial-specific style estimator block */\n",
       "\n",
       "#sk-container-id-1 div.sk-serial {\n",
       "  display: flex;\n",
       "  flex-direction: column;\n",
       "  align-items: center;\n",
       "  background-color: var(--sklearn-color-background);\n",
       "  padding-right: 1em;\n",
       "  padding-left: 1em;\n",
       "}\n",
       "\n",
       "\n",
       "/* Toggleable style: style used for estimator/Pipeline/ColumnTransformer box that is\n",
       "clickable and can be expanded/collapsed.\n",
       "- Pipeline and ColumnTransformer use this feature and define the default style\n",
       "- Estimators will overwrite some part of the style using the `sk-estimator` class\n",
       "*/\n",
       "\n",
       "/* Pipeline and ColumnTransformer style (default) */\n",
       "\n",
       "#sk-container-id-1 div.sk-toggleable {\n",
       "  /* Default theme specific background. It is overwritten whether we have a\n",
       "  specific estimator or a Pipeline/ColumnTransformer */\n",
       "  background-color: var(--sklearn-color-background);\n",
       "}\n",
       "\n",
       "/* Toggleable label */\n",
       "#sk-container-id-1 label.sk-toggleable__label {\n",
       "  cursor: pointer;\n",
       "  display: flex;\n",
       "  width: 100%;\n",
       "  margin-bottom: 0;\n",
       "  padding: 0.5em;\n",
       "  box-sizing: border-box;\n",
       "  text-align: center;\n",
       "  align-items: start;\n",
       "  justify-content: space-between;\n",
       "  gap: 0.5em;\n",
       "}\n",
       "\n",
       "#sk-container-id-1 label.sk-toggleable__label .caption {\n",
       "  font-size: 0.6rem;\n",
       "  font-weight: lighter;\n",
       "  color: var(--sklearn-color-text-muted);\n",
       "}\n",
       "\n",
       "#sk-container-id-1 label.sk-toggleable__label-arrow:before {\n",
       "  /* Arrow on the left of the label */\n",
       "  content: \"▸\";\n",
       "  float: left;\n",
       "  margin-right: 0.25em;\n",
       "  color: var(--sklearn-color-icon);\n",
       "}\n",
       "\n",
       "#sk-container-id-1 label.sk-toggleable__label-arrow:hover:before {\n",
       "  color: var(--sklearn-color-text);\n",
       "}\n",
       "\n",
       "/* Toggleable content - dropdown */\n",
       "\n",
       "#sk-container-id-1 div.sk-toggleable__content {\n",
       "  max-height: 0;\n",
       "  max-width: 0;\n",
       "  overflow: hidden;\n",
       "  text-align: left;\n",
       "  /* unfitted */\n",
       "  background-color: var(--sklearn-color-unfitted-level-0);\n",
       "}\n",
       "\n",
       "#sk-container-id-1 div.sk-toggleable__content.fitted {\n",
       "  /* fitted */\n",
       "  background-color: var(--sklearn-color-fitted-level-0);\n",
       "}\n",
       "\n",
       "#sk-container-id-1 div.sk-toggleable__content pre {\n",
       "  margin: 0.2em;\n",
       "  border-radius: 0.25em;\n",
       "  color: var(--sklearn-color-text);\n",
       "  /* unfitted */\n",
       "  background-color: var(--sklearn-color-unfitted-level-0);\n",
       "}\n",
       "\n",
       "#sk-container-id-1 div.sk-toggleable__content.fitted pre {\n",
       "  /* unfitted */\n",
       "  background-color: var(--sklearn-color-fitted-level-0);\n",
       "}\n",
       "\n",
       "#sk-container-id-1 input.sk-toggleable__control:checked~div.sk-toggleable__content {\n",
       "  /* Expand drop-down */\n",
       "  max-height: 200px;\n",
       "  max-width: 100%;\n",
       "  overflow: auto;\n",
       "}\n",
       "\n",
       "#sk-container-id-1 input.sk-toggleable__control:checked~label.sk-toggleable__label-arrow:before {\n",
       "  content: \"▾\";\n",
       "}\n",
       "\n",
       "/* Pipeline/ColumnTransformer-specific style */\n",
       "\n",
       "#sk-container-id-1 div.sk-label input.sk-toggleable__control:checked~label.sk-toggleable__label {\n",
       "  color: var(--sklearn-color-text);\n",
       "  background-color: var(--sklearn-color-unfitted-level-2);\n",
       "}\n",
       "\n",
       "#sk-container-id-1 div.sk-label.fitted input.sk-toggleable__control:checked~label.sk-toggleable__label {\n",
       "  background-color: var(--sklearn-color-fitted-level-2);\n",
       "}\n",
       "\n",
       "/* Estimator-specific style */\n",
       "\n",
       "/* Colorize estimator box */\n",
       "#sk-container-id-1 div.sk-estimator input.sk-toggleable__control:checked~label.sk-toggleable__label {\n",
       "  /* unfitted */\n",
       "  background-color: var(--sklearn-color-unfitted-level-2);\n",
       "}\n",
       "\n",
       "#sk-container-id-1 div.sk-estimator.fitted input.sk-toggleable__control:checked~label.sk-toggleable__label {\n",
       "  /* fitted */\n",
       "  background-color: var(--sklearn-color-fitted-level-2);\n",
       "}\n",
       "\n",
       "#sk-container-id-1 div.sk-label label.sk-toggleable__label,\n",
       "#sk-container-id-1 div.sk-label label {\n",
       "  /* The background is the default theme color */\n",
       "  color: var(--sklearn-color-text-on-default-background);\n",
       "}\n",
       "\n",
       "/* On hover, darken the color of the background */\n",
       "#sk-container-id-1 div.sk-label:hover label.sk-toggleable__label {\n",
       "  color: var(--sklearn-color-text);\n",
       "  background-color: var(--sklearn-color-unfitted-level-2);\n",
       "}\n",
       "\n",
       "/* Label box, darken color on hover, fitted */\n",
       "#sk-container-id-1 div.sk-label.fitted:hover label.sk-toggleable__label.fitted {\n",
       "  color: var(--sklearn-color-text);\n",
       "  background-color: var(--sklearn-color-fitted-level-2);\n",
       "}\n",
       "\n",
       "/* Estimator label */\n",
       "\n",
       "#sk-container-id-1 div.sk-label label {\n",
       "  font-family: monospace;\n",
       "  font-weight: bold;\n",
       "  display: inline-block;\n",
       "  line-height: 1.2em;\n",
       "}\n",
       "\n",
       "#sk-container-id-1 div.sk-label-container {\n",
       "  text-align: center;\n",
       "}\n",
       "\n",
       "/* Estimator-specific */\n",
       "#sk-container-id-1 div.sk-estimator {\n",
       "  font-family: monospace;\n",
       "  border: 1px dotted var(--sklearn-color-border-box);\n",
       "  border-radius: 0.25em;\n",
       "  box-sizing: border-box;\n",
       "  margin-bottom: 0.5em;\n",
       "  /* unfitted */\n",
       "  background-color: var(--sklearn-color-unfitted-level-0);\n",
       "}\n",
       "\n",
       "#sk-container-id-1 div.sk-estimator.fitted {\n",
       "  /* fitted */\n",
       "  background-color: var(--sklearn-color-fitted-level-0);\n",
       "}\n",
       "\n",
       "/* on hover */\n",
       "#sk-container-id-1 div.sk-estimator:hover {\n",
       "  /* unfitted */\n",
       "  background-color: var(--sklearn-color-unfitted-level-2);\n",
       "}\n",
       "\n",
       "#sk-container-id-1 div.sk-estimator.fitted:hover {\n",
       "  /* fitted */\n",
       "  background-color: var(--sklearn-color-fitted-level-2);\n",
       "}\n",
       "\n",
       "/* Specification for estimator info (e.g. \"i\" and \"?\") */\n",
       "\n",
       "/* Common style for \"i\" and \"?\" */\n",
       "\n",
       ".sk-estimator-doc-link,\n",
       "a:link.sk-estimator-doc-link,\n",
       "a:visited.sk-estimator-doc-link {\n",
       "  float: right;\n",
       "  font-size: smaller;\n",
       "  line-height: 1em;\n",
       "  font-family: monospace;\n",
       "  background-color: var(--sklearn-color-background);\n",
       "  border-radius: 1em;\n",
       "  height: 1em;\n",
       "  width: 1em;\n",
       "  text-decoration: none !important;\n",
       "  margin-left: 0.5em;\n",
       "  text-align: center;\n",
       "  /* unfitted */\n",
       "  border: var(--sklearn-color-unfitted-level-1) 1pt solid;\n",
       "  color: var(--sklearn-color-unfitted-level-1);\n",
       "}\n",
       "\n",
       ".sk-estimator-doc-link.fitted,\n",
       "a:link.sk-estimator-doc-link.fitted,\n",
       "a:visited.sk-estimator-doc-link.fitted {\n",
       "  /* fitted */\n",
       "  border: var(--sklearn-color-fitted-level-1) 1pt solid;\n",
       "  color: var(--sklearn-color-fitted-level-1);\n",
       "}\n",
       "\n",
       "/* On hover */\n",
       "div.sk-estimator:hover .sk-estimator-doc-link:hover,\n",
       ".sk-estimator-doc-link:hover,\n",
       "div.sk-label-container:hover .sk-estimator-doc-link:hover,\n",
       ".sk-estimator-doc-link:hover {\n",
       "  /* unfitted */\n",
       "  background-color: var(--sklearn-color-unfitted-level-3);\n",
       "  color: var(--sklearn-color-background);\n",
       "  text-decoration: none;\n",
       "}\n",
       "\n",
       "div.sk-estimator.fitted:hover .sk-estimator-doc-link.fitted:hover,\n",
       ".sk-estimator-doc-link.fitted:hover,\n",
       "div.sk-label-container:hover .sk-estimator-doc-link.fitted:hover,\n",
       ".sk-estimator-doc-link.fitted:hover {\n",
       "  /* fitted */\n",
       "  background-color: var(--sklearn-color-fitted-level-3);\n",
       "  color: var(--sklearn-color-background);\n",
       "  text-decoration: none;\n",
       "}\n",
       "\n",
       "/* Span, style for the box shown on hovering the info icon */\n",
       ".sk-estimator-doc-link span {\n",
       "  display: none;\n",
       "  z-index: 9999;\n",
       "  position: relative;\n",
       "  font-weight: normal;\n",
       "  right: .2ex;\n",
       "  padding: .5ex;\n",
       "  margin: .5ex;\n",
       "  width: min-content;\n",
       "  min-width: 20ex;\n",
       "  max-width: 50ex;\n",
       "  color: var(--sklearn-color-text);\n",
       "  box-shadow: 2pt 2pt 4pt #999;\n",
       "  /* unfitted */\n",
       "  background: var(--sklearn-color-unfitted-level-0);\n",
       "  border: .5pt solid var(--sklearn-color-unfitted-level-3);\n",
       "}\n",
       "\n",
       ".sk-estimator-doc-link.fitted span {\n",
       "  /* fitted */\n",
       "  background: var(--sklearn-color-fitted-level-0);\n",
       "  border: var(--sklearn-color-fitted-level-3);\n",
       "}\n",
       "\n",
       ".sk-estimator-doc-link:hover span {\n",
       "  display: block;\n",
       "}\n",
       "\n",
       "/* \"?\"-specific style due to the `<a>` HTML tag */\n",
       "\n",
       "#sk-container-id-1 a.estimator_doc_link {\n",
       "  float: right;\n",
       "  font-size: 1rem;\n",
       "  line-height: 1em;\n",
       "  font-family: monospace;\n",
       "  background-color: var(--sklearn-color-background);\n",
       "  border-radius: 1rem;\n",
       "  height: 1rem;\n",
       "  width: 1rem;\n",
       "  text-decoration: none;\n",
       "  /* unfitted */\n",
       "  color: var(--sklearn-color-unfitted-level-1);\n",
       "  border: var(--sklearn-color-unfitted-level-1) 1pt solid;\n",
       "}\n",
       "\n",
       "#sk-container-id-1 a.estimator_doc_link.fitted {\n",
       "  /* fitted */\n",
       "  border: var(--sklearn-color-fitted-level-1) 1pt solid;\n",
       "  color: var(--sklearn-color-fitted-level-1);\n",
       "}\n",
       "\n",
       "/* On hover */\n",
       "#sk-container-id-1 a.estimator_doc_link:hover {\n",
       "  /* unfitted */\n",
       "  background-color: var(--sklearn-color-unfitted-level-3);\n",
       "  color: var(--sklearn-color-background);\n",
       "  text-decoration: none;\n",
       "}\n",
       "\n",
       "#sk-container-id-1 a.estimator_doc_link.fitted:hover {\n",
       "  /* fitted */\n",
       "  background-color: var(--sklearn-color-fitted-level-3);\n",
       "}\n",
       "</style><div id=\"sk-container-id-1\" class=\"sk-top-container\"><div class=\"sk-text-repr-fallback\"><pre>LogisticRegression(solver=&#x27;liblinear&#x27;)</pre><b>In a Jupyter environment, please rerun this cell to show the HTML representation or trust the notebook. <br />On GitHub, the HTML representation is unable to render, please try loading this page with nbviewer.org.</b></div><div class=\"sk-container\" hidden><div class=\"sk-item\"><div class=\"sk-estimator fitted sk-toggleable\"><input class=\"sk-toggleable__control sk-hidden--visually\" id=\"sk-estimator-id-1\" type=\"checkbox\" checked><label for=\"sk-estimator-id-1\" class=\"sk-toggleable__label fitted sk-toggleable__label-arrow\"><div><div>LogisticRegression</div></div><div><a class=\"sk-estimator-doc-link fitted\" rel=\"noreferrer\" target=\"_blank\" href=\"https://scikit-learn.org/1.6/modules/generated/sklearn.linear_model.LogisticRegression.html\">?<span>Documentation for LogisticRegression</span></a><span class=\"sk-estimator-doc-link fitted\">i<span>Fitted</span></span></div></label><div class=\"sk-toggleable__content fitted\"><pre>LogisticRegression(solver=&#x27;liblinear&#x27;)</pre></div> </div></div></div></div>"
      ],
      "text/plain": [
       "LogisticRegression(solver='liblinear')"
      ]
     },
     "execution_count": 14,
     "metadata": {},
     "output_type": "execute_result"
    }
   ],
   "source": [
    "model.fit(X_train, y_train)"
   ]
  },
  {
   "cell_type": "markdown",
   "id": "fe88e149",
   "metadata": {
    "id": "fe88e149"
   },
   "source": [
    "Gunakan method `score` dari `model` pada `X_test` dan `y_test` dan simpan hasilnya di variabel `result`."
   ]
  },
  {
   "cell_type": "code",
   "execution_count": 15,
   "id": "605db47f",
   "metadata": {
    "executionInfo": {
     "elapsed": 57,
     "status": "ok",
     "timestamp": 1741340252894,
     "user": {
      "displayName": "2372061 Laura Puspa Ameliana",
      "userId": "00688401487854314964"
     },
     "user_tz": -420
    },
    "id": "605db47f"
   },
   "outputs": [],
   "source": [
    "result = model.score(X_test,y_test)"
   ]
  },
  {
   "cell_type": "markdown",
   "id": "d310a25d",
   "metadata": {
    "id": "d310a25d"
   },
   "source": [
    "Cetaklah hasil prediksi pada `X_test` sbb:      \n",
    "`Accuracy: XX%`    \n",
    "   \n",
    "Harapannya, akurasi $\\approx 76\\%$.    "
   ]
  },
  {
   "cell_type": "code",
   "execution_count": 16,
   "id": "8a81fa36",
   "metadata": {
    "colab": {
     "base_uri": "https://localhost:8080/"
    },
    "executionInfo": {
     "elapsed": 55,
     "status": "ok",
     "timestamp": 1741340252896,
     "user": {
      "displayName": "2372061 Laura Puspa Ameliana",
      "userId": "00688401487854314964"
     },
     "user_tz": -420
    },
    "id": "8a81fa36",
    "outputId": "51bcd5f7-29a5-4202-c102-16f7895cc3a5"
   },
   "outputs": [
    {
     "name": "stdout",
     "output_type": "stream",
     "text": [
      "Accuracy: 75.59055118110236%\n"
     ]
    }
   ],
   "source": [
    "print(f\"Accuracy: {(result*100)}%\")"
   ]
  },
  {
   "cell_type": "markdown",
   "id": "091b5e06",
   "metadata": {
    "id": "091b5e06"
   },
   "source": [
    "\n",
    "## <a id=\"k-fold\">$k$-fold Cross-Validation</a> (Back to [Home](#home))"
   ]
  },
  {
   "cell_type": "markdown",
   "id": "df7a64bf-6c10-4afb-93a8-d84e3f96c39c",
   "metadata": {
    "id": "df7a64bf-6c10-4afb-93a8-d84e3f96c39c"
   },
   "source": [
    "Ilustrasi berikut diambil dari Raschka (2018)."
   ]
  },
  {
   "cell_type": "markdown",
   "id": "d6d9a521-3039-47c5-a8f5-15174160d2a3",
   "metadata": {
    "id": "d6d9a521-3039-47c5-a8f5-15174160d2a3"
   },
   "source": [
    "<center>\n",
    "    <img src=\"images/k-fold-cv.png\" />\n",
    "</center>"
   ]
  },
  {
   "cell_type": "code",
   "execution_count": 17,
   "id": "ea430447",
   "metadata": {
    "executionInfo": {
     "elapsed": 42,
     "status": "ok",
     "timestamp": 1741340252898,
     "user": {
      "displayName": "2372061 Laura Puspa Ameliana",
      "userId": "00688401487854314964"
     },
     "user_tz": -420
    },
    "id": "ea430447"
   },
   "outputs": [],
   "source": [
    "from sklearn.model_selection import KFold\n",
    "from sklearn.model_selection import cross_val_score"
   ]
  },
  {
   "cell_type": "markdown",
   "id": "acc51ed9",
   "metadata": {
    "id": "acc51ed9"
   },
   "source": [
    "Buatlah `KFold` dengan parameter `n_splits=10` dan simpan dalam varibel `kfold`."
   ]
  },
  {
   "cell_type": "code",
   "execution_count": 18,
   "id": "d698a6bc",
   "metadata": {
    "executionInfo": {
     "elapsed": 13,
     "status": "ok",
     "timestamp": 1741340252899,
     "user": {
      "displayName": "2372061 Laura Puspa Ameliana",
      "userId": "00688401487854314964"
     },
     "user_tz": -420
    },
    "id": "d698a6bc"
   },
   "outputs": [],
   "source": [
    "kfold = KFold(n_splits=10)"
   ]
  },
  {
   "cell_type": "markdown",
   "id": "d1c33be5",
   "metadata": {
    "id": "d1c33be5"
   },
   "source": [
    "Buatlah `model` yang merupakan model `LogisticRegression` dengan parameter `solver` adalah `liblinear`."
   ]
  },
  {
   "cell_type": "code",
   "execution_count": 19,
   "id": "aaebca9f",
   "metadata": {
    "executionInfo": {
     "elapsed": 12,
     "status": "ok",
     "timestamp": 1741340252901,
     "user": {
      "displayName": "2372061 Laura Puspa Ameliana",
      "userId": "00688401487854314964"
     },
     "user_tz": -420
    },
    "id": "aaebca9f"
   },
   "outputs": [],
   "source": [
    "model = LogisticRegression(solver=\"liblinear\")"
   ]
  },
  {
   "cell_type": "markdown",
   "id": "6a9de919",
   "metadata": {
    "id": "6a9de919"
   },
   "source": [
    "Gunakan method `cross_val_score` dengan parameter sbb:    \n",
    "- `model`,\n",
    "- `X`,\n",
    "- `y`, dan\n",
    "- parameter `cv` yang bernilai `kfold`.    \n",
    "\n",
    "Simpan hasil `cross_val_score` dalam variabel `results`."
   ]
  },
  {
   "cell_type": "code",
   "execution_count": 20,
   "id": "5a772b03",
   "metadata": {
    "executionInfo": {
     "elapsed": 33,
     "status": "ok",
     "timestamp": 1741340252935,
     "user": {
      "displayName": "2372061 Laura Puspa Ameliana",
      "userId": "00688401487854314964"
     },
     "user_tz": -420
    },
    "id": "5a772b03"
   },
   "outputs": [],
   "source": [
    "results = cross_val_score(model, X, y, cv=kfold)"
   ]
  },
  {
   "cell_type": "markdown",
   "id": "80803fd4",
   "metadata": {
    "id": "80803fd4"
   },
   "source": [
    "Cetaklah hasil cross-validation sbb:     \n",
    "`Accuracy: <Nilai Rata-Rata>% (<Nilai Simpangan Baku>%)`    \n",
    "Harapannya nilai akurasi $\\approx 76\\%$\n",
    "    \n",
    "**Hint**: Gunakan method masing-masing `mean` dan `std` untuk rata-rata dan simpangan baku.     "
   ]
  },
  {
   "cell_type": "code",
   "execution_count": 21,
   "id": "633e13cf",
   "metadata": {
    "colab": {
     "base_uri": "https://localhost:8080/"
    },
    "executionInfo": {
     "elapsed": 29,
     "status": "ok",
     "timestamp": 1741340252977,
     "user": {
      "displayName": "2372061 Laura Puspa Ameliana",
      "userId": "00688401487854314964"
     },
     "user_tz": -420
    },
    "id": "633e13cf",
    "outputId": "3caa2df1-85f7-4263-efd5-49bd27605774"
   },
   "outputs": [
    {
     "name": "stdout",
     "output_type": "stream",
     "text": [
      "Accuracy: 76.95146958304852% (4.841051924567195%)\n"
     ]
    }
   ],
   "source": [
    "print(f\"Accuracy: {(results.mean())*100}% ({(results.std())*100}%)\")"
   ]
  },
  {
   "cell_type": "markdown",
   "id": "8574e637",
   "metadata": {
    "id": "8574e637"
   },
   "source": [
    "## <a id=\"loocv\">Leave One Out Cross-Validation</a> (Back to [Home](#home))"
   ]
  },
  {
   "cell_type": "markdown",
   "id": "f7c3eae5-7292-4d04-b737-4a071e78bfd0",
   "metadata": {
    "id": "f7c3eae5-7292-4d04-b737-4a071e78bfd0"
   },
   "source": [
    "Ilustrasi berikut diambil dari Raschka (2018)."
   ]
  },
  {
   "cell_type": "markdown",
   "id": "81761e6b-13d8-4302-9754-bc3ca4a977d9",
   "metadata": {
    "id": "81761e6b-13d8-4302-9754-bc3ca4a977d9"
   },
   "source": [
    "<center>\n",
    " <img src=\"images/loocv.png\" width=500/>\n",
    "</center>"
   ]
  },
  {
   "cell_type": "code",
   "execution_count": 22,
   "id": "b4b9ce45",
   "metadata": {
    "executionInfo": {
     "elapsed": 7,
     "status": "ok",
     "timestamp": 1741340252978,
     "user": {
      "displayName": "2372061 Laura Puspa Ameliana",
      "userId": "00688401487854314964"
     },
     "user_tz": -420
    },
    "id": "b4b9ce45"
   },
   "outputs": [],
   "source": [
    "from sklearn.model_selection import LeaveOneOut"
   ]
  },
  {
   "cell_type": "markdown",
   "id": "0fde26da",
   "metadata": {
    "id": "0fde26da"
   },
   "source": [
    "Buatlah variabel `loocv` dari kelas `LeaveOneOut`."
   ]
  },
  {
   "cell_type": "code",
   "execution_count": 23,
   "id": "140bcb03",
   "metadata": {
    "executionInfo": {
     "elapsed": 9,
     "status": "ok",
     "timestamp": 1741340252981,
     "user": {
      "displayName": "2372061 Laura Puspa Ameliana",
      "userId": "00688401487854314964"
     },
     "user_tz": -420
    },
    "id": "140bcb03"
   },
   "outputs": [],
   "source": [
    "loocv = LeaveOneOut()"
   ]
  },
  {
   "cell_type": "markdown",
   "id": "b51a5ac4",
   "metadata": {
    "id": "b51a5ac4"
   },
   "source": [
    "Buatlah `model` yang merupakan model `LogisticRegression` dengan parameter `solver` adalah `liblinear`."
   ]
  },
  {
   "cell_type": "code",
   "execution_count": 24,
   "id": "be179edc",
   "metadata": {
    "executionInfo": {
     "elapsed": 8,
     "status": "ok",
     "timestamp": 1741340252982,
     "user": {
      "displayName": "2372061 Laura Puspa Ameliana",
      "userId": "00688401487854314964"
     },
     "user_tz": -420
    },
    "id": "be179edc"
   },
   "outputs": [],
   "source": [
    "model = LogisticRegression(solver=\"liblinear\")"
   ]
  },
  {
   "cell_type": "markdown",
   "id": "5b6b4de5",
   "metadata": {
    "id": "5b6b4de5"
   },
   "source": [
    "Gunakan method `cross_val_score` dengan parameter sbb:    \n",
    "- `model`,\n",
    "- `X`,\n",
    "- `y`, dan\n",
    "- parameter `cv` yang bernilai `loocv`.    \n",
    "\n",
    "Simpan hasil `cross_val_score` dalam variabel `results`."
   ]
  },
  {
   "cell_type": "code",
   "execution_count": 25,
   "id": "5b44b9d8",
   "metadata": {
    "executionInfo": {
     "elapsed": 5782,
     "status": "ok",
     "timestamp": 1741340258757,
     "user": {
      "displayName": "2372061 Laura Puspa Ameliana",
      "userId": "00688401487854314964"
     },
     "user_tz": -420
    },
    "id": "5b44b9d8"
   },
   "outputs": [],
   "source": [
    "results = cross_val_score(model, X, y, cv=loocv)"
   ]
  },
  {
   "cell_type": "markdown",
   "id": "ddd6ba8c",
   "metadata": {
    "id": "ddd6ba8c"
   },
   "source": [
    "Cetaklah hasil cross-validation sbb:     \n",
    "`Accuracy: <Nilai Rata-Rata>% (<Nilai Simpangan Baku>%)`    \n",
    "Harapannya nilai akurasi $\\approx 76\\%$\n",
    "    \n",
    "**Hint**: Gunakan method masing-masing `mean` dan `std` untuk rata-rata dan simpangan baku.     "
   ]
  },
  {
   "cell_type": "code",
   "execution_count": 26,
   "id": "cc4a6935",
   "metadata": {
    "colab": {
     "base_uri": "https://localhost:8080/"
    },
    "executionInfo": {
     "elapsed": 152,
     "status": "ok",
     "timestamp": 1741340258911,
     "user": {
      "displayName": "2372061 Laura Puspa Ameliana",
      "userId": "00688401487854314964"
     },
     "user_tz": -420
    },
    "id": "cc4a6935",
    "outputId": "d6bb06d0-a79b-4660-83b6-3095338e4cfd"
   },
   "outputs": [
    {
     "name": "stdout",
     "output_type": "stream",
     "text": [
      "Accuracy: 76.82291666666666% 42.1963403803346%\n"
     ]
    }
   ],
   "source": [
    "print(f\"Accuracy: {results.mean()*100}% {(results.std()*100)}%\")"
   ]
  },
  {
   "cell_type": "markdown",
   "id": "9c7b4300",
   "metadata": {
    "id": "9c7b4300"
   },
   "source": [
    "<h2><center>The End</center></h2>"
   ]
  },
  {
   "cell_type": "markdown",
   "id": "4825080f-8c27-4b29-a273-94dcf237501d",
   "metadata": {
    "id": "4825080f-8c27-4b29-a273-94dcf237501d"
   },
   "source": [
    "<h2>Refleksi</h2>"
   ]
  },
  {
   "cell_type": "markdown",
   "id": "60c0d841-561d-4a82-ac4c-e5bc1dcb992f",
   "metadata": {
    "id": "60c0d841-561d-4a82-ac4c-e5bc1dcb992f"
   },
   "source": [
    "Menurut anda, apakah yang menjadi kekuatan dan feedback yang dapat diberikan kepada teknik-teknik:\n",
    "1. Train-Test\n",
    "2. K-Fold Cross Validation\n",
    "3. Leave One Out Cross Validation"
   ]
  },
  {
   "cell_type": "markdown",
   "id": "82d051e9-a371-4e01-9791-f35977662901",
   "metadata": {
    "id": "82d051e9-a371-4e01-9791-f35977662901"
   },
   "source": [
    "<h4>1. Train-Test</h4>"
   ]
  },
  {
   "cell_type": "markdown",
   "id": "4e5030ad-ad14-4eda-9fe9-5f532ac62eef",
   "metadata": {
    "id": "4e5030ad-ad14-4eda-9fe9-5f532ac62eef"
   },
   "source": [
    "Menurut saya, Train-Test memiliki kekuatan dalam simplicity yang digunakan untuk melatih model, yakni dengan cara membagi data untuk Training dan data untuk Testing (dalam kasus ini, data Testing sebesar 0.33). Hal ini dapat membuat proses training dan testing model menjadi cepat. Namun, jika menggunakan model ini, kita harus memiliki data yang balance atau seimbang, sehingga model bisa memberikan prediksi yang benar bukan memberi harapan palsu."
   ]
  },
  {
   "cell_type": "markdown",
   "id": "ee33d009-2c6c-4b9f-aee0-b59ee23b93f3",
   "metadata": {
    "id": "ee33d009-2c6c-4b9f-aee0-b59ee23b93f3"
   },
   "source": [
    "<h4>2. K-Fold Cross Validation</h4>"
   ]
  },
  {
   "cell_type": "markdown",
   "id": "d43aba84-949f-4ccf-813b-e35f9f167440",
   "metadata": {
    "id": "d43aba84-949f-4ccf-813b-e35f9f167440"
   },
   "source": [
    "Menurut saya, metode ini memiliki kekuatan dalam hal akurasi dan kestabilan  dalam memberikan prediksi kategori. Dengan metode ini, model yang dibuat dapat memberikan hasil akurasi rata-rata yang paling tinggi di antara 2 model lainnya dengan simpangan baku yang kecil yang menandakan kestabilan model dalam memberikan prediksi klasifikasi (tidak ada prediksi yang terlalu salah dan terlalu benar). Namun sayangnya, waktu yang digunakan tidak sebentar untuk melatih model dengan metode ini."
   ]
  },
  {
   "cell_type": "markdown",
   "id": "d1e33fc4-1c11-4da2-8d07-9d39e3a039b4",
   "metadata": {
    "id": "d1e33fc4-1c11-4da2-8d07-9d39e3a039b4"
   },
   "source": [
    "<h4>3. Leave One Out Cross Validation</h4>"
   ]
  },
  {
   "cell_type": "markdown",
   "id": "36cb58a8-d9b1-4cfd-8080-0230303ba809",
   "metadata": {
    "id": "36cb58a8-d9b1-4cfd-8080-0230303ba809"
   },
   "source": [
    "Menurut saya, metode ini memiliki kekuatan dalam hal akurasi. Hal ini dibuktikan dengan hasil akurasi rata-rata yang termasuk tinggi. Namun, dengan menggunakan metode ini, model menghasilkan prediksi yang kurang stabil (ada yang terlalu benar, dan ada yang terlalu salah)."
   ]
  },
  {
   "cell_type": "code",
   "execution_count": 26,
   "id": "d62acec7-0407-400f-a1d7-66f736de2929",
   "metadata": {
    "executionInfo": {
     "elapsed": 65,
     "status": "ok",
     "timestamp": 1741340258945,
     "user": {
      "displayName": "2372061 Laura Puspa Ameliana",
      "userId": "00688401487854314964"
     },
     "user_tz": -420
    },
    "id": "d62acec7-0407-400f-a1d7-66f736de2929"
   },
   "outputs": [],
   "source": []
  }
 ],
 "metadata": {
  "colab": {
   "provenance": []
  },
  "kernelspec": {
   "display_name": "hands_on_ml",
   "language": "python",
   "name": "hands_on_ml"
  },
  "language_info": {
   "codemirror_mode": {
    "name": "ipython",
    "version": 3
   },
   "file_extension": ".py",
   "mimetype": "text/x-python",
   "name": "python",
   "nbconvert_exporter": "python",
   "pygments_lexer": "ipython3",
   "version": "3.10.16"
  }
 },
 "nbformat": 4,
 "nbformat_minor": 5
}
